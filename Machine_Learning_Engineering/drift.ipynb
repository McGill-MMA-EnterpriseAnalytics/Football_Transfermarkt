{
 "cells": [
  {
   "cell_type": "code",
   "execution_count": 1,
   "metadata": {},
   "outputs": [
    {
     "name": "stderr",
     "output_type": "stream",
     "text": [
      "/opt/homebrew/Caskroom/miniconda/base/envs/football_transfermarkt/lib/python3.10/site-packages/tqdm/auto.py:21: TqdmWarning: IProgress not found. Please update jupyter and ipywidgets. See https://ipywidgets.readthedocs.io/en/stable/user_install.html\n",
      "  from .autonotebook import tqdm as notebook_tqdm\n",
      "None of PyTorch, TensorFlow >= 2.0, or Flax have been found. Models won't be available and only tokenizers, configuration and file/data utilities can be used.\n"
     ]
    }
   ],
   "source": [
    "import pandas as pd\n",
    "import numpy as np\n",
    "import plotly.graph_objects as go\n",
    "import plotly.express as px\n",
    "from alibi_detect.cd import TabularDrift\n",
    "from sklearn.preprocessing import LabelEncoder\n",
    "from sklearn.decomposition import PCA\n",
    "from scipy import stats\n",
    "\n",
    "path = \"/Users/konstantin/Documents/Projects/McGill/Football_Transfermarkt\"\n",
    "data = pd.\\\n",
    "    read_csv(f\"{path}/Modelling/data_merged.csv\", index_col=0).\\\n",
    "    drop(columns = ['player_id'])\n",
    "\n",
    "x = data.drop(columns=['mean_market_value_in_eur', 'max_market_value_in_eur'])\n",
    "y = data[['year', 'mean_market_value_in_eur']]"
   ]
  },
  {
   "attachments": {},
   "cell_type": "markdown",
   "metadata": {},
   "source": [
    "### Preparing the data"
   ]
  },
  {
   "cell_type": "code",
   "execution_count": 2,
   "metadata": {},
   "outputs": [],
   "source": [
    "feature_names = x.columns.tolist()\n",
    "feature_names.remove('year')\n",
    "\n",
    "# GET CATEGORICAL FEATURES\n",
    "cat_cols = ['position', 'sub_position', 'foot', 'continent']\n",
    "count = 0\n",
    "categories_per_feature = {}\n",
    "for col in feature_names:\n",
    "    if col in cat_cols:\n",
    "        categories_per_feature[count] = None\n",
    "    count += 1\n",
    "\n",
    "# LABEL ENCODING\n",
    "for col in cat_cols:\n",
    "    encoder = LabelEncoder()\n",
    "    res = encoder.fit_transform(x[col])\n",
    "    x[col] = res"
   ]
  },
  {
   "attachments": {},
   "cell_type": "markdown",
   "metadata": {},
   "source": [
    "### Feature Drift (distribution of X) - Konstantin"
   ]
  },
  {
   "cell_type": "code",
   "execution_count": 3,
   "metadata": {},
   "outputs": [],
   "source": [
    "# GET DATA\n",
    "feature_names = x.columns.tolist()\n",
    "feature_names.remove('year')\n",
    "\n",
    "# YEARS TO ITERATE OVER\n",
    "years = x.year.drop_duplicates()\n",
    "years = years.tolist()[1:]\n",
    "\n",
    "# DRIFT\n",
    "results = []\n",
    "for year in years:\n",
    "    res_sng = []\n",
    "    res_sng.append(int(year))\n",
    "\n",
    "    x_ref = x.query(f'year == {year-1}').drop(columns=['year'])\n",
    "    x_test = x.query(f'year == {year}').drop(columns=['year'])\n",
    "\n",
    "    cd = TabularDrift(x_ref.to_numpy(), p_val=0.05, categories_per_feature=categories_per_feature)\n",
    "    preds = cd.predict(x_test.to_numpy(), drift_type='feature', return_p_val=True, return_distance=True)\n",
    "\n",
    "    for col in range(len(feature_names)):\n",
    "        res_sng.append(preds['data']['p_val'][col])\n",
    "    results.append(res_sng)\n",
    "\n",
    "# PREPARE THE DATA\n",
    "results = pd.DataFrame(results, columns=x.columns)\n",
    "res_years = results.year.to_list()\n",
    "res_vars = results.drop(columns=['year']).columns.tolist()\n",
    "res_dat = results.drop(columns=['year']).T.to_numpy()\n",
    "\n",
    "# VISUALIZATION\n",
    "fig = go.Figure(data=go.Heatmap(\n",
    "                   z=res_dat,\n",
    "                   x=res_years,\n",
    "                   y=res_vars,\n",
    "                   hoverongaps = False,\n",
    "                   colorscale=['red','green','green','green','green', 'green']))\n",
    "fig.update_layout(title=\"Feature Drift - Probability the distribution is the same as last year\",\n",
    "                  xaxis_title=\"Year\",\n",
    "                  yaxis_title=\"Feature\",)\n",
    "fig.show(renderer='browser')"
   ]
  },
  {
   "attachments": {},
   "cell_type": "markdown",
   "metadata": {},
   "source": [
    "### Prior Drift (distribution of Y) - Konstantin"
   ]
  },
  {
   "cell_type": "code",
   "execution_count": 4,
   "metadata": {},
   "outputs": [],
   "source": [
    "# YEARS TO ITERATE OVER\n",
    "years = y.year.drop_duplicates()\n",
    "years = years.tolist()\n",
    "\n",
    "# REMOVE OUTLIERS\n",
    "y_rm = y.copy()\n",
    "y_rm['year'] = y_rm['year'].astype(int)\n",
    "y_rm = y_rm.dropna(subset=['mean_market_value_in_eur'])\n",
    "z_limit = 3.29\n",
    "y_rm['z_score'] = y_rm.groupby('year')['mean_market_value_in_eur'].transform(lambda x : stats.zscore(x,ddof=1))\n",
    "y_rm['z_score'] = np.abs(y_rm['z_score'])\n",
    "y_rm = y_rm.query(f\"z_score <= {z_limit}\")\n",
    "\n",
    "# PLOT \n",
    "fig = px.box(y_rm, x='year', color='year',\n",
    "             y='mean_market_value_in_eur',)\n",
    "fig.update_layout(title=\"Prior Drift\",\n",
    "                  xaxis_title=\"Year\",\n",
    "                  yaxis_title=\"Mean Market Value\",)\n",
    "fig.show(renderer='browser')"
   ]
  },
  {
   "attachments": {},
   "cell_type": "markdown",
   "metadata": {},
   "source": [
    "### Concept Drift (P(Y|X) changes) - Konstantin"
   ]
  },
  {
   "cell_type": "code",
   "execution_count": 28,
   "metadata": {},
   "outputs": [],
   "source": [
    "# YEARS TO ITERATE OVER\n",
    "years = x.year.drop_duplicates()\n",
    "years = years.tolist()[1:]\n",
    "\n",
    "# PERFORM DISTRIBUTION COMPARISON\n",
    "for year in years:\n",
    "    pca = PCA(n_components=2)\n",
    "\n",
    "    # GET DATA\n",
    "    x_ref = x.query(f'year == {year-1}')\n",
    "    x_test = x.query(f'year == {year}')\n",
    "\n",
    "    ref = x_ref.merge(y['mean_market_value_in_eur'], left_index=True, right_index=True).dropna()\n",
    "    test = x_test.merge(y['mean_market_value_in_eur'], left_index=True, right_index=True).dropna()\n",
    "\n",
    "    # CHECK GENERIC DISTRIBUTION\n",
    "    x_ref_pca = pca.fit_transform(ref.drop(columns=['year', 'mean_market_value_in_eur']))\n",
    "    x_test_pca = pca.transform(test.drop(columns=['year', 'mean_market_value_in_eur']))\n",
    "\n",
    "    # # COMBINE DATA\n",
    "    ref_pca = pd.DataFrame(x_ref_pca, columns=['pca1', 'pca2'])\n",
    "    ref_pca['market_val'] = ref['mean_market_value_in_eur'].reset_index(drop=True)\n",
    "    ref_pca['year'] = str(int(year - 1))\n",
    "    ref_pca = ref_pca.dropna()\n",
    "\n",
    "    test_pca = pd.DataFrame(x_test_pca, columns=['pca1', 'pca2'])\n",
    "    test_pca['market_val'] = test['mean_market_value_in_eur'].reset_index(drop=True)\n",
    "    test_pca['year'] = str(int(year))\n",
    "    test_pca = test_pca.dropna()\n",
    "    pca_tot = pd.concat([ref_pca, test_pca])\n",
    "\n",
    "    # PLOT\n",
    "    fig = px.scatter(pca_tot, x='pca1', y='pca2', color='year', size='market_val')\n",
    "    expl_var = np.round(pca.explained_variance_ratio_.sum(),4)\n",
    "    fig.update_layout(title=f\"Concept Drift - distribution of data over time - explained variance {expl_var}\",\n",
    "                  xaxis_title=\"PCA1\",\n",
    "                  yaxis_title=\"PCA2\",)\n",
    "    fig.show(renderer='browser')\n"
   ]
  }
 ],
 "metadata": {
  "kernelspec": {
   "display_name": "football_transfermarkt",
   "language": "python",
   "name": "python3"
  },
  "language_info": {
   "codemirror_mode": {
    "name": "ipython",
    "version": 3
   },
   "file_extension": ".py",
   "mimetype": "text/x-python",
   "name": "python",
   "nbconvert_exporter": "python",
   "pygments_lexer": "ipython3",
   "version": "3.10.10"
  },
  "orig_nbformat": 4
 },
 "nbformat": 4,
 "nbformat_minor": 2
}
