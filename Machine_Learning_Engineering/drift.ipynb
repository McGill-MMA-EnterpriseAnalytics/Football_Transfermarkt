{
 "cells": [
  {
   "cell_type": "code",
   "execution_count": 6,
   "metadata": {},
   "outputs": [
    {
     "data": {
      "text/plain": [
       "Index(['player_id', 'year', 'avg_game_dur', 'avg_games_played',\n",
       "       'avg_yellow_cards', 'avg_red_cards', 'avg_goals', 'avg_assists',\n",
       "       'avg_minutes_played', 'games_played_away', 'games_played_home',\n",
       "       'away_win_percentage', 'home_win_percentage', 'win_perc',\n",
       "       'games_player_domestic_cup', 'games_played_domestic_league',\n",
       "       'games_player_international_cup', 'games_played_other',\n",
       "       'player_avg_game_attendance', 'mean_market_value_in_eur',\n",
       "       'max_market_value_in_eur', 'position', 'sub_position', 'foot',\n",
       "       'height_in_cm', 'year_of_birth', 'age', 'continent'],\n",
       "      dtype='object')"
      ]
     },
     "execution_count": 6,
     "metadata": {},
     "output_type": "execute_result"
    }
   ],
   "source": [
    "import pandas as pd\n",
    "\n",
    "path = \"F:/Documents/Projects/McGill/Football_Transfermarkt\"\n",
    "data = pd.read_csv(f\"{path}/Modelling/data_merged.csv\", index_col=0)\n",
    "data.columns"
   ]
  },
  {
   "attachments": {},
   "cell_type": "markdown",
   "metadata": {},
   "source": [
    "### Feature Drift (distribution of X changes) - Konstantin"
   ]
  },
  {
   "cell_type": "code",
   "execution_count": 9,
   "metadata": {},
   "outputs": [
    {
     "data": {
      "text/plain": [
       "year\n",
       "2014.0    5950\n",
       "2015.0    7821\n",
       "2016.0    7804\n",
       "2017.0    7736\n",
       "2018.0    7809\n",
       "2019.0    7570\n",
       "2020.0    7318\n",
       "2021.0    7568\n",
       "2022.0    5348\n",
       "Name: count, dtype: int64"
      ]
     },
     "execution_count": 9,
     "metadata": {},
     "output_type": "execute_result"
    }
   ],
   "source": [
    "data.value_counts('year').sort_index()"
   ]
  },
  {
   "attachments": {},
   "cell_type": "markdown",
   "metadata": {},
   "source": [
    "### Prior Drift (distribution of Y changes) - Konstantin"
   ]
  },
  {
   "attachments": {},
   "cell_type": "markdown",
   "metadata": {},
   "source": [
    "### Concept Drift (P(Y|X) changes) - Konstantin"
   ]
  },
  {
   "cell_type": "markdown",
   "metadata": {},
   "source": []
  }
 ],
 "metadata": {
  "kernelspec": {
   "display_name": "football_transfermarkt",
   "language": "python",
   "name": "python3"
  },
  "language_info": {
   "codemirror_mode": {
    "name": "ipython",
    "version": 3
   },
   "file_extension": ".py",
   "mimetype": "text/x-python",
   "name": "python",
   "nbconvert_exporter": "python",
   "pygments_lexer": "ipython3",
   "version": "3.11.3"
  },
  "orig_nbformat": 4
 },
 "nbformat": 4,
 "nbformat_minor": 2
}
