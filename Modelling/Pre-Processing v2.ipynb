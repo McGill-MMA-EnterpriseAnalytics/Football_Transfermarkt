{
 "cells": [
  {
   "cell_type": "markdown",
   "metadata": {},
   "source": [
    "**Group Project**"
   ]
  },
  {
   "cell_type": "markdown",
   "metadata": {},
   "source": [
    "## Getting the Data"
   ]
  },
  {
   "cell_type": "markdown",
   "metadata": {},
   "source": [
    "https://www.kaggle.com/datasets/davidcariboo/player-scores"
   ]
  },
  {
   "cell_type": "markdown",
   "metadata": {},
   "source": [
    "## Merging the Data"
   ]
  },
  {
   "cell_type": "code",
   "execution_count": 71,
   "metadata": {},
   "outputs": [],
   "source": [
    "import pandas as pd\n",
    "import numpy as np\n",
    "import sklearn"
   ]
  },
  {
   "cell_type": "code",
   "execution_count": 72,
   "metadata": {},
   "outputs": [],
   "source": [
    "#directory='C:/Users/Heidi Al Wakeel/Documents/GitHub/Football_Transfermarkt/Data/'\n",
    "directory =\"C:/Users/nguye/OneDrive/Documents/MMA/Winter 2023/Football_Transfermarkt/Data/\""
   ]
  },
  {
   "cell_type": "code",
   "execution_count": 73,
   "metadata": {
    "scrolled": true
   },
   "outputs": [],
   "source": [
    "# Reading CSV files into dataframes\n",
    "appearances = pd.read_csv(directory+'appearances.csv')\n",
    "club_games = pd.read_csv(directory+'club_games.csv')\n",
    "clubs = pd.read_csv(directory+'clubs.csv')\n",
    "competitions = pd.read_csv(directory+'competitions.csv')\n",
    "game_events = pd.read_csv(directory+'game_events.csv')\n",
    "games = pd.read_csv(directory+'games.csv')\n",
    "player_valuations = pd.read_csv(directory+'player_valuations.csv')\n",
    "players = pd.read_csv(directory+'players.csv')"
   ]
  },
  {
   "cell_type": "code",
   "execution_count": 74,
   "metadata": {},
   "outputs": [
    {
     "data": {
      "text/html": [
       "<div>\n",
       "<style scoped>\n",
       "    .dataframe tbody tr th:only-of-type {\n",
       "        vertical-align: middle;\n",
       "    }\n",
       "\n",
       "    .dataframe tbody tr th {\n",
       "        vertical-align: top;\n",
       "    }\n",
       "\n",
       "    .dataframe thead th {\n",
       "        text-align: right;\n",
       "    }\n",
       "</style>\n",
       "<table border=\"1\" class=\"dataframe\">\n",
       "  <thead>\n",
       "    <tr style=\"text-align: right;\">\n",
       "      <th></th>\n",
       "      <th>player_id</th>\n",
       "      <th>year</th>\n",
       "      <th>avg_game_dur</th>\n",
       "      <th>avg_games_played</th>\n",
       "      <th>avg_yellow_cards</th>\n",
       "      <th>avg_red_cards</th>\n",
       "      <th>avg_goals</th>\n",
       "      <th>avg_assists</th>\n",
       "      <th>avg_minutes_played</th>\n",
       "    </tr>\n",
       "  </thead>\n",
       "  <tbody>\n",
       "    <tr>\n",
       "      <th>0</th>\n",
       "      <td>10</td>\n",
       "      <td>2014.0</td>\n",
       "      <td>33.066667</td>\n",
       "      <td>15</td>\n",
       "      <td>0.133333</td>\n",
       "      <td>0.0</td>\n",
       "      <td>0.266667</td>\n",
       "      <td>0.2</td>\n",
       "      <td>33.066667</td>\n",
       "    </tr>\n",
       "  </tbody>\n",
       "</table>\n",
       "</div>"
      ],
      "text/plain": [
       "   player_id    year  avg_game_dur  avg_games_played  avg_yellow_cards  \\\n",
       "0         10  2014.0     33.066667                15          0.133333   \n",
       "\n",
       "   avg_red_cards  avg_goals  avg_assists  avg_minutes_played  \n",
       "0            0.0   0.266667          0.2           33.066667  "
      ]
     },
     "execution_count": 74,
     "metadata": {},
     "output_type": "execute_result"
    }
   ],
   "source": [
    "# Yearly Player Game Stats\n",
    "appearances['date'] = pd.to_datetime(appearances['date'])\n",
    "appearances['year'] = appearances['date'].dt.year\n",
    "player_games_stats = appearances.\\\n",
    "    groupby(['player_id', 'year']).\\\n",
    "    agg(avg_game_dur = ('minutes_played', 'mean'),\n",
    "        avg_games_played = ('appearance_id', 'count'),\n",
    "        avg_yellow_cards = ('yellow_cards', 'mean'),\n",
    "        avg_red_cards = ('red_cards', 'mean'),\n",
    "        avg_goals = ('goals', 'mean'),\n",
    "        avg_assists = ('assists', 'mean'),\n",
    "        avg_minutes_played = ('minutes_played', 'mean')).\\\n",
    "    reset_index()\n",
    "player_games_stats.head(1)"
   ]
  },
  {
   "cell_type": "code",
   "execution_count": 75,
   "metadata": {},
   "outputs": [
    {
     "data": {
      "text/html": [
       "<div>\n",
       "<style scoped>\n",
       "    .dataframe tbody tr th:only-of-type {\n",
       "        vertical-align: middle;\n",
       "    }\n",
       "\n",
       "    .dataframe tbody tr th {\n",
       "        vertical-align: top;\n",
       "    }\n",
       "\n",
       "    .dataframe thead th {\n",
       "        text-align: right;\n",
       "    }\n",
       "</style>\n",
       "<table border=\"1\" class=\"dataframe\">\n",
       "  <thead>\n",
       "    <tr style=\"text-align: right;\">\n",
       "      <th>hosting</th>\n",
       "      <th>player_id</th>\n",
       "      <th>year</th>\n",
       "      <th>games_played_away</th>\n",
       "      <th>games_played_home</th>\n",
       "    </tr>\n",
       "  </thead>\n",
       "  <tbody>\n",
       "    <tr>\n",
       "      <th>0</th>\n",
       "      <td>10</td>\n",
       "      <td>2014.0</td>\n",
       "      <td>7.0</td>\n",
       "      <td>8.0</td>\n",
       "    </tr>\n",
       "  </tbody>\n",
       "</table>\n",
       "</div>"
      ],
      "text/plain": [
       "hosting  player_id    year  games_played_away  games_played_home\n",
       "0               10  2014.0                7.0                8.0"
      ]
     },
     "execution_count": 75,
     "metadata": {},
     "output_type": "execute_result"
    }
   ],
   "source": [
    "# Yearly Player Games Played (away & home)\n",
    "player_games_home_away = appearances[['player_id', 'game_id', 'player_club_id', 'year']].\\\n",
    "    rename(columns={'player_club_id':'club_id'}).\\\n",
    "    merge(club_games, on=['club_id', 'game_id'], how='left').\\\n",
    "    groupby(['player_id', 'year', 'hosting']).\\\n",
    "    agg(games_played = ('game_id', 'count')).\\\n",
    "    reset_index().\\\n",
    "    pivot(index=['player_id','year'], columns='hosting', values='games_played').\\\n",
    "    reset_index().\\\n",
    "    rename(columns={'Away': 'games_played_away', 'Home': 'games_played_home'})\n",
    "player_games_home_away.head(1)"
   ]
  },
  {
   "cell_type": "code",
   "execution_count": 76,
   "metadata": {},
   "outputs": [
    {
     "data": {
      "text/html": [
       "<div>\n",
       "<style scoped>\n",
       "    .dataframe tbody tr th:only-of-type {\n",
       "        vertical-align: middle;\n",
       "    }\n",
       "\n",
       "    .dataframe tbody tr th {\n",
       "        vertical-align: top;\n",
       "    }\n",
       "\n",
       "    .dataframe thead th {\n",
       "        text-align: right;\n",
       "    }\n",
       "</style>\n",
       "<table border=\"1\" class=\"dataframe\">\n",
       "  <thead>\n",
       "    <tr style=\"text-align: right;\">\n",
       "      <th>hosting</th>\n",
       "      <th>player_id</th>\n",
       "      <th>year</th>\n",
       "      <th>away_win_percentage</th>\n",
       "      <th>home_win_percentage</th>\n",
       "    </tr>\n",
       "  </thead>\n",
       "  <tbody>\n",
       "    <tr>\n",
       "      <th>0</th>\n",
       "      <td>10</td>\n",
       "      <td>2014.0</td>\n",
       "      <td>0.285714</td>\n",
       "      <td>0.75</td>\n",
       "    </tr>\n",
       "  </tbody>\n",
       "</table>\n",
       "</div>"
      ],
      "text/plain": [
       "hosting  player_id    year  away_win_percentage  home_win_percentage\n",
       "0               10  2014.0             0.285714                 0.75"
      ]
     },
     "execution_count": 76,
     "metadata": {},
     "output_type": "execute_result"
    }
   ],
   "source": [
    "# Yearly Player Win Percentage (away & home)\n",
    "player_win_perc_home_away = appearances[['player_id', 'game_id', 'player_club_id', 'year']].\\\n",
    "    rename(columns={'player_club_id':'club_id'}).\\\n",
    "    merge(club_games, on=['club_id', 'game_id'], how='left').\\\n",
    "    groupby(['player_id', 'year', 'hosting']).\\\n",
    "    agg(win_perc = ('is_win', 'mean')).\\\n",
    "    reset_index().\\\n",
    "    pivot(index=['player_id','year'], columns='hosting', values='win_perc').\\\n",
    "    reset_index().\\\n",
    "    rename(columns={'Away': 'away_win_percentage', 'Home': 'home_win_percentage'})\n",
    "player_win_perc_home_away.head(1)"
   ]
  },
  {
   "cell_type": "code",
   "execution_count": 77,
   "metadata": {},
   "outputs": [
    {
     "data": {
      "text/html": [
       "<div>\n",
       "<style scoped>\n",
       "    .dataframe tbody tr th:only-of-type {\n",
       "        vertical-align: middle;\n",
       "    }\n",
       "\n",
       "    .dataframe tbody tr th {\n",
       "        vertical-align: top;\n",
       "    }\n",
       "\n",
       "    .dataframe thead th {\n",
       "        text-align: right;\n",
       "    }\n",
       "</style>\n",
       "<table border=\"1\" class=\"dataframe\">\n",
       "  <thead>\n",
       "    <tr style=\"text-align: right;\">\n",
       "      <th></th>\n",
       "      <th>player_id</th>\n",
       "      <th>year</th>\n",
       "      <th>win_perc</th>\n",
       "    </tr>\n",
       "  </thead>\n",
       "  <tbody>\n",
       "    <tr>\n",
       "      <th>0</th>\n",
       "      <td>10</td>\n",
       "      <td>2014.0</td>\n",
       "      <td>0.533333</td>\n",
       "    </tr>\n",
       "  </tbody>\n",
       "</table>\n",
       "</div>"
      ],
      "text/plain": [
       "   player_id    year  win_perc\n",
       "0         10  2014.0  0.533333"
      ]
     },
     "execution_count": 77,
     "metadata": {},
     "output_type": "execute_result"
    }
   ],
   "source": [
    "# Yearly Player Win Percentage (total)\n",
    "player_win_perc = appearances[['player_id', 'game_id', 'player_club_id', 'year']].\\\n",
    "    rename(columns={'player_club_id':'club_id'}).\\\n",
    "    merge(club_games, on=['club_id', 'game_id'], how='left').\\\n",
    "    groupby(['player_id', 'year']).\\\n",
    "    agg(win_perc = ('is_win', 'mean')).\\\n",
    "    reset_index()\n",
    "player_win_perc.head(1)"
   ]
  },
  {
   "cell_type": "code",
   "execution_count": 78,
   "metadata": {},
   "outputs": [
    {
     "data": {
      "text/html": [
       "<div>\n",
       "<style scoped>\n",
       "    .dataframe tbody tr th:only-of-type {\n",
       "        vertical-align: middle;\n",
       "    }\n",
       "\n",
       "    .dataframe tbody tr th {\n",
       "        vertical-align: top;\n",
       "    }\n",
       "\n",
       "    .dataframe thead th {\n",
       "        text-align: right;\n",
       "    }\n",
       "</style>\n",
       "<table border=\"1\" class=\"dataframe\">\n",
       "  <thead>\n",
       "    <tr style=\"text-align: right;\">\n",
       "      <th>competition_type</th>\n",
       "      <th>player_id</th>\n",
       "      <th>year</th>\n",
       "      <th>games_player_domestic_cup</th>\n",
       "      <th>games_played_domestic_league</th>\n",
       "      <th>games_player_international_cup</th>\n",
       "      <th>games_played_other</th>\n",
       "    </tr>\n",
       "  </thead>\n",
       "  <tbody>\n",
       "    <tr>\n",
       "      <th>0</th>\n",
       "      <td>10</td>\n",
       "      <td>2014.0</td>\n",
       "      <td>1.0</td>\n",
       "      <td>14.0</td>\n",
       "      <td>0.0</td>\n",
       "      <td>0.0</td>\n",
       "    </tr>\n",
       "  </tbody>\n",
       "</table>\n",
       "</div>"
      ],
      "text/plain": [
       "competition_type  player_id    year  games_player_domestic_cup  \\\n",
       "0                        10  2014.0                        1.0   \n",
       "\n",
       "competition_type  games_played_domestic_league  \\\n",
       "0                                         14.0   \n",
       "\n",
       "competition_type  games_player_international_cup  games_played_other  \n",
       "0                                            0.0                 0.0  "
      ]
     },
     "execution_count": 78,
     "metadata": {},
     "output_type": "execute_result"
    }
   ],
   "source": [
    "# Yearly Games Played by Competition Type\n",
    "player_comp_types = appearances[['player_id', 'game_id', 'year']].\\\n",
    "    merge(games, on='game_id', how='left').\\\n",
    "    groupby(['player_id', 'year', 'competition_type']).\\\n",
    "    agg(competitions_attended = ('game_id', 'count')).\\\n",
    "    reset_index().\\\n",
    "    pivot(index=['player_id','year'], columns='competition_type', values='competitions_attended').\\\n",
    "    reset_index().\\\n",
    "    fillna({'domestic_cup':0, 'domestic_league':0, 'international_cup':0, 'other':0}).\\\n",
    "    rename(columns={'domestic_cup': 'games_player_domestic_cup', 'domestic_league': 'games_played_domestic_league',\n",
    "            'international_cup': 'games_player_international_cup', 'other': 'games_played_other'})\n",
    "player_comp_types.head(1)"
   ]
  },
  {
   "cell_type": "code",
   "execution_count": 79,
   "metadata": {},
   "outputs": [
    {
     "data": {
      "text/html": [
       "<div>\n",
       "<style scoped>\n",
       "    .dataframe tbody tr th:only-of-type {\n",
       "        vertical-align: middle;\n",
       "    }\n",
       "\n",
       "    .dataframe tbody tr th {\n",
       "        vertical-align: top;\n",
       "    }\n",
       "\n",
       "    .dataframe thead th {\n",
       "        text-align: right;\n",
       "    }\n",
       "</style>\n",
       "<table border=\"1\" class=\"dataframe\">\n",
       "  <thead>\n",
       "    <tr style=\"text-align: right;\">\n",
       "      <th></th>\n",
       "      <th>player_id</th>\n",
       "      <th>year</th>\n",
       "      <th>player_avg_game_attendance</th>\n",
       "    </tr>\n",
       "  </thead>\n",
       "  <tbody>\n",
       "    <tr>\n",
       "      <th>0</th>\n",
       "      <td>10</td>\n",
       "      <td>2014.0</td>\n",
       "      <td>25929.266667</td>\n",
       "    </tr>\n",
       "  </tbody>\n",
       "</table>\n",
       "</div>"
      ],
      "text/plain": [
       "   player_id    year  player_avg_game_attendance\n",
       "0         10  2014.0                25929.266667"
      ]
     },
     "execution_count": 79,
     "metadata": {},
     "output_type": "execute_result"
    }
   ],
   "source": [
    "# Player Popularity\n",
    "player_pop = appearances[['player_id', 'game_id', 'year']].\\\n",
    "    merge(games, on='game_id', how='left').\\\n",
    "    groupby(['player_id', 'year']).\\\n",
    "    agg(player_avg_game_attendance = ('attendance', 'mean')).\\\n",
    "    reset_index()\n",
    "player_pop.head(1)"
   ]
  },
  {
   "cell_type": "code",
   "execution_count": 80,
   "metadata": {},
   "outputs": [
    {
     "data": {
      "text/html": [
       "<div>\n",
       "<style scoped>\n",
       "    .dataframe tbody tr th:only-of-type {\n",
       "        vertical-align: middle;\n",
       "    }\n",
       "\n",
       "    .dataframe tbody tr th {\n",
       "        vertical-align: top;\n",
       "    }\n",
       "\n",
       "    .dataframe thead th {\n",
       "        text-align: right;\n",
       "    }\n",
       "</style>\n",
       "<table border=\"1\" class=\"dataframe\">\n",
       "  <thead>\n",
       "    <tr style=\"text-align: right;\">\n",
       "      <th></th>\n",
       "      <th>player_id</th>\n",
       "      <th>country_of_citizenship</th>\n",
       "      <th>country_of_birth</th>\n",
       "      <th>city_of_birth</th>\n",
       "      <th>position</th>\n",
       "      <th>sub_position</th>\n",
       "      <th>foot</th>\n",
       "      <th>height_in_cm</th>\n",
       "      <th>year_of_birth</th>\n",
       "    </tr>\n",
       "  </thead>\n",
       "  <tbody>\n",
       "    <tr>\n",
       "      <th>0</th>\n",
       "      <td>134354</td>\n",
       "      <td>Belgium</td>\n",
       "      <td>Belgium</td>\n",
       "      <td>Aalst</td>\n",
       "      <td>Attack</td>\n",
       "      <td>Centre-Forward</td>\n",
       "      <td>Right</td>\n",
       "      <td>0</td>\n",
       "      <td>1995.0</td>\n",
       "    </tr>\n",
       "  </tbody>\n",
       "</table>\n",
       "</div>"
      ],
      "text/plain": [
       "   player_id country_of_citizenship country_of_birth city_of_birth position  \\\n",
       "0     134354                Belgium          Belgium       Aalst     Attack   \n",
       "\n",
       "     sub_position   foot  height_in_cm  year_of_birth  \n",
       "0  Centre-Forward  Right             0         1995.0  "
      ]
     },
     "execution_count": 80,
     "metadata": {},
     "output_type": "execute_result"
    }
   ],
   "source": [
    "# Player Stats\n",
    "players['date_of_birth'] = pd.to_datetime(players['date_of_birth'])\n",
    "players['year_of_birth'] = players['date_of_birth'].dt.year\n",
    "player_relevant_stats = players[['player_id', 'country_of_citizenship', 'country_of_birth', 'city_of_birth', 'position', 'sub_position', 'foot', 'height_in_cm', 'year_of_birth']]\n",
    "player_relevant_stats.head(1)"
   ]
  },
  {
   "cell_type": "code",
   "execution_count": 81,
   "metadata": {},
   "outputs": [],
   "source": [
    "# Player Valuation (Mnay NA Values because it is tracked much earlier than stats)\n",
    "player_valuations['date'] = pd.to_datetime(player_valuations['date'])\n",
    "player_valuations['year'] = player_valuations['date'].dt.year\n",
    "player_yearly_val =player_valuations.\\\n",
    "    groupby(['player_id', 'year']).\\\n",
    "    agg(mean_market_value_in_eur = ('market_value_in_eur', 'mean'),\n",
    "        max_market_value_in_eur = ('market_value_in_eur', 'max')).\\\n",
    "    reset_index()"
   ]
  },
  {
   "cell_type": "code",
   "execution_count": 82,
   "metadata": {},
   "outputs": [
    {
     "data": {
      "text/plain": [
       "Index(['player_id', 'year', 'avg_game_dur', 'avg_games_played',\n",
       "       'avg_yellow_cards', 'avg_red_cards', 'avg_goals', 'avg_assists',\n",
       "       'avg_minutes_played', 'games_played_away', 'games_played_home',\n",
       "       'away_win_percentage', 'home_win_percentage', 'win_perc',\n",
       "       'games_player_domestic_cup', 'games_played_domestic_league',\n",
       "       'games_player_international_cup', 'games_played_other',\n",
       "       'player_avg_game_attendance', 'mean_market_value_in_eur',\n",
       "       'max_market_value_in_eur', 'country_of_citizenship', 'country_of_birth',\n",
       "       'city_of_birth', 'position', 'sub_position', 'foot', 'height_in_cm',\n",
       "       'year_of_birth', 'age'],\n",
       "      dtype='object')"
      ]
     },
     "execution_count": 82,
     "metadata": {},
     "output_type": "execute_result"
    }
   ],
   "source": [
    "# Final Aggregation\n",
    "data = player_games_stats.\\\n",
    "    merge(player_games_home_away, on=['player_id', 'year'], how='outer').\\\n",
    "    merge(player_win_perc_home_away, on=['player_id', 'year'], how='outer').\\\n",
    "    merge(player_win_perc, on=['player_id', 'year'], how='outer').\\\n",
    "    merge(player_comp_types, on=['player_id', 'year'], how='outer').\\\n",
    "    merge(player_pop, on=['player_id', 'year'], how='outer').\\\n",
    "    merge(player_yearly_val, on=['player_id', 'year'], how='outer').\\\n",
    "    merge(player_relevant_stats, on=['player_id'], how='left')\n",
    "data['age'] = data['year'] - data['year_of_birth']\n",
    "data.columns"
   ]
  },
  {
   "cell_type": "code",
   "execution_count": 83,
   "metadata": {},
   "outputs": [
    {
     "data": {
      "text/html": [
       "<div>\n",
       "<style scoped>\n",
       "    .dataframe tbody tr th:only-of-type {\n",
       "        vertical-align: middle;\n",
       "    }\n",
       "\n",
       "    .dataframe tbody tr th {\n",
       "        vertical-align: top;\n",
       "    }\n",
       "\n",
       "    .dataframe thead th {\n",
       "        text-align: right;\n",
       "    }\n",
       "</style>\n",
       "<table border=\"1\" class=\"dataframe\">\n",
       "  <thead>\n",
       "    <tr style=\"text-align: right;\">\n",
       "      <th></th>\n",
       "      <th>player_id</th>\n",
       "      <th>year</th>\n",
       "      <th>avg_game_dur</th>\n",
       "      <th>avg_games_played</th>\n",
       "      <th>avg_yellow_cards</th>\n",
       "      <th>avg_red_cards</th>\n",
       "      <th>avg_goals</th>\n",
       "      <th>avg_assists</th>\n",
       "      <th>avg_minutes_played</th>\n",
       "      <th>games_played_away</th>\n",
       "      <th>...</th>\n",
       "      <th>max_market_value_in_eur</th>\n",
       "      <th>country_of_citizenship</th>\n",
       "      <th>country_of_birth</th>\n",
       "      <th>city_of_birth</th>\n",
       "      <th>position</th>\n",
       "      <th>sub_position</th>\n",
       "      <th>foot</th>\n",
       "      <th>height_in_cm</th>\n",
       "      <th>year_of_birth</th>\n",
       "      <th>age</th>\n",
       "    </tr>\n",
       "  </thead>\n",
       "  <tbody>\n",
       "    <tr>\n",
       "      <th>0</th>\n",
       "      <td>10</td>\n",
       "      <td>2014.0</td>\n",
       "      <td>33.066667</td>\n",
       "      <td>15.0</td>\n",
       "      <td>0.133333</td>\n",
       "      <td>0.0</td>\n",
       "      <td>0.266667</td>\n",
       "      <td>0.200000</td>\n",
       "      <td>33.066667</td>\n",
       "      <td>7.0</td>\n",
       "      <td>...</td>\n",
       "      <td>1000000.0</td>\n",
       "      <td>Germany</td>\n",
       "      <td>Poland</td>\n",
       "      <td>Opole</td>\n",
       "      <td>Attack</td>\n",
       "      <td>Centre-Forward</td>\n",
       "      <td>Right</td>\n",
       "      <td>184.0</td>\n",
       "      <td>1978.0</td>\n",
       "      <td>36.0</td>\n",
       "    </tr>\n",
       "    <tr>\n",
       "      <th>1</th>\n",
       "      <td>10</td>\n",
       "      <td>2015.0</td>\n",
       "      <td>67.472222</td>\n",
       "      <td>36.0</td>\n",
       "      <td>0.166667</td>\n",
       "      <td>0.0</td>\n",
       "      <td>0.333333</td>\n",
       "      <td>0.222222</td>\n",
       "      <td>67.472222</td>\n",
       "      <td>17.0</td>\n",
       "      <td>...</td>\n",
       "      <td>1000000.0</td>\n",
       "      <td>Germany</td>\n",
       "      <td>Poland</td>\n",
       "      <td>Opole</td>\n",
       "      <td>Attack</td>\n",
       "      <td>Centre-Forward</td>\n",
       "      <td>Right</td>\n",
       "      <td>184.0</td>\n",
       "      <td>1978.0</td>\n",
       "      <td>37.0</td>\n",
       "    </tr>\n",
       "    <tr>\n",
       "      <th>2</th>\n",
       "      <td>10</td>\n",
       "      <td>2016.0</td>\n",
       "      <td>53.900000</td>\n",
       "      <td>20.0</td>\n",
       "      <td>0.050000</td>\n",
       "      <td>0.0</td>\n",
       "      <td>0.400000</td>\n",
       "      <td>0.250000</td>\n",
       "      <td>53.900000</td>\n",
       "      <td>7.0</td>\n",
       "      <td>...</td>\n",
       "      <td>1000000.0</td>\n",
       "      <td>Germany</td>\n",
       "      <td>Poland</td>\n",
       "      <td>Opole</td>\n",
       "      <td>Attack</td>\n",
       "      <td>Centre-Forward</td>\n",
       "      <td>Right</td>\n",
       "      <td>184.0</td>\n",
       "      <td>1978.0</td>\n",
       "      <td>38.0</td>\n",
       "    </tr>\n",
       "    <tr>\n",
       "      <th>3</th>\n",
       "      <td>26</td>\n",
       "      <td>2014.0</td>\n",
       "      <td>90.000000</td>\n",
       "      <td>17.0</td>\n",
       "      <td>0.000000</td>\n",
       "      <td>0.0</td>\n",
       "      <td>0.000000</td>\n",
       "      <td>0.000000</td>\n",
       "      <td>90.000000</td>\n",
       "      <td>10.0</td>\n",
       "      <td>...</td>\n",
       "      <td>5000000.0</td>\n",
       "      <td>Germany</td>\n",
       "      <td>Germany</td>\n",
       "      <td>Diez</td>\n",
       "      <td>Goalkeeper</td>\n",
       "      <td>NaN</td>\n",
       "      <td>Left</td>\n",
       "      <td>190.0</td>\n",
       "      <td>1980.0</td>\n",
       "      <td>34.0</td>\n",
       "    </tr>\n",
       "    <tr>\n",
       "      <th>4</th>\n",
       "      <td>26</td>\n",
       "      <td>2015.0</td>\n",
       "      <td>90.000000</td>\n",
       "      <td>24.0</td>\n",
       "      <td>0.000000</td>\n",
       "      <td>0.0</td>\n",
       "      <td>0.000000</td>\n",
       "      <td>0.000000</td>\n",
       "      <td>90.000000</td>\n",
       "      <td>11.0</td>\n",
       "      <td>...</td>\n",
       "      <td>3000000.0</td>\n",
       "      <td>Germany</td>\n",
       "      <td>Germany</td>\n",
       "      <td>Diez</td>\n",
       "      <td>Goalkeeper</td>\n",
       "      <td>NaN</td>\n",
       "      <td>Left</td>\n",
       "      <td>190.0</td>\n",
       "      <td>1980.0</td>\n",
       "      <td>35.0</td>\n",
       "    </tr>\n",
       "  </tbody>\n",
       "</table>\n",
       "<p>5 rows × 30 columns</p>\n",
       "</div>"
      ],
      "text/plain": [
       "   player_id    year  avg_game_dur  avg_games_played  avg_yellow_cards  \\\n",
       "0         10  2014.0     33.066667              15.0          0.133333   \n",
       "1         10  2015.0     67.472222              36.0          0.166667   \n",
       "2         10  2016.0     53.900000              20.0          0.050000   \n",
       "3         26  2014.0     90.000000              17.0          0.000000   \n",
       "4         26  2015.0     90.000000              24.0          0.000000   \n",
       "\n",
       "   avg_red_cards  avg_goals  avg_assists  avg_minutes_played  \\\n",
       "0            0.0   0.266667     0.200000           33.066667   \n",
       "1            0.0   0.333333     0.222222           67.472222   \n",
       "2            0.0   0.400000     0.250000           53.900000   \n",
       "3            0.0   0.000000     0.000000           90.000000   \n",
       "4            0.0   0.000000     0.000000           90.000000   \n",
       "\n",
       "   games_played_away  ...  max_market_value_in_eur  country_of_citizenship  \\\n",
       "0                7.0  ...                1000000.0                 Germany   \n",
       "1               17.0  ...                1000000.0                 Germany   \n",
       "2                7.0  ...                1000000.0                 Germany   \n",
       "3               10.0  ...                5000000.0                 Germany   \n",
       "4               11.0  ...                3000000.0                 Germany   \n",
       "\n",
       "   country_of_birth  city_of_birth    position    sub_position   foot  \\\n",
       "0            Poland        Opole        Attack  Centre-Forward  Right   \n",
       "1            Poland        Opole        Attack  Centre-Forward  Right   \n",
       "2            Poland        Opole        Attack  Centre-Forward  Right   \n",
       "3           Germany         Diez    Goalkeeper             NaN   Left   \n",
       "4           Germany         Diez    Goalkeeper             NaN   Left   \n",
       "\n",
       "   height_in_cm  year_of_birth   age  \n",
       "0         184.0         1978.0  36.0  \n",
       "1         184.0         1978.0  37.0  \n",
       "2         184.0         1978.0  38.0  \n",
       "3         190.0         1980.0  34.0  \n",
       "4         190.0         1980.0  35.0  \n",
       "\n",
       "[5 rows x 30 columns]"
      ]
     },
     "execution_count": 83,
     "metadata": {},
     "output_type": "execute_result"
    }
   ],
   "source": [
    "data.head()"
   ]
  },
  {
   "cell_type": "markdown",
   "metadata": {},
   "source": [
    "## Feature Engineering"
   ]
  },
  {
   "cell_type": "code",
   "execution_count": 84,
   "metadata": {},
   "outputs": [],
   "source": [
    "from countryinfo import countries"
   ]
  },
  {
   "cell_type": "code",
   "execution_count": 85,
   "metadata": {},
   "outputs": [],
   "source": [
    "country=[]\n",
    "continent=[]\n",
    "for i in countries :\n",
    "    country.append(i['name'])\n",
    "    continent.append(i['continent'])"
   ]
  },
  {
   "cell_type": "code",
   "execution_count": 86,
   "metadata": {},
   "outputs": [],
   "source": [
    "mapping=pd.DataFrame({'country_of_citizenship':country,'continent':continent})"
   ]
  },
  {
   "cell_type": "code",
   "execution_count": 87,
   "metadata": {},
   "outputs": [],
   "source": [
    "data=data.merge(mapping, on='country_of_citizenship', how='left')"
   ]
  },
  {
   "cell_type": "code",
   "execution_count": 88,
   "metadata": {},
   "outputs": [],
   "source": [
    "data.drop(columns=['country_of_citizenship','country_of_birth','city_of_birth'],inplace=True)"
   ]
  },
  {
   "cell_type": "code",
   "execution_count": 89,
   "metadata": {},
   "outputs": [
    {
     "data": {
      "text/html": [
       "<div>\n",
       "<style scoped>\n",
       "    .dataframe tbody tr th:only-of-type {\n",
       "        vertical-align: middle;\n",
       "    }\n",
       "\n",
       "    .dataframe tbody tr th {\n",
       "        vertical-align: top;\n",
       "    }\n",
       "\n",
       "    .dataframe thead th {\n",
       "        text-align: right;\n",
       "    }\n",
       "</style>\n",
       "<table border=\"1\" class=\"dataframe\">\n",
       "  <thead>\n",
       "    <tr style=\"text-align: right;\">\n",
       "      <th></th>\n",
       "      <th>player_id</th>\n",
       "      <th>year</th>\n",
       "      <th>avg_game_dur</th>\n",
       "      <th>avg_games_played</th>\n",
       "      <th>avg_yellow_cards</th>\n",
       "      <th>avg_red_cards</th>\n",
       "      <th>avg_goals</th>\n",
       "      <th>avg_assists</th>\n",
       "      <th>avg_minutes_played</th>\n",
       "      <th>games_played_away</th>\n",
       "      <th>...</th>\n",
       "      <th>player_avg_game_attendance</th>\n",
       "      <th>mean_market_value_in_eur</th>\n",
       "      <th>max_market_value_in_eur</th>\n",
       "      <th>position</th>\n",
       "      <th>sub_position</th>\n",
       "      <th>foot</th>\n",
       "      <th>height_in_cm</th>\n",
       "      <th>year_of_birth</th>\n",
       "      <th>age</th>\n",
       "      <th>continent</th>\n",
       "    </tr>\n",
       "  </thead>\n",
       "  <tbody>\n",
       "    <tr>\n",
       "      <th>0</th>\n",
       "      <td>10</td>\n",
       "      <td>2014.0</td>\n",
       "      <td>33.066667</td>\n",
       "      <td>15.0</td>\n",
       "      <td>0.133333</td>\n",
       "      <td>0.0</td>\n",
       "      <td>0.266667</td>\n",
       "      <td>0.200000</td>\n",
       "      <td>33.066667</td>\n",
       "      <td>7.0</td>\n",
       "      <td>...</td>\n",
       "      <td>25929.266667</td>\n",
       "      <td>1000000.0</td>\n",
       "      <td>1000000.0</td>\n",
       "      <td>Attack</td>\n",
       "      <td>Centre-Forward</td>\n",
       "      <td>Right</td>\n",
       "      <td>184.0</td>\n",
       "      <td>1978.0</td>\n",
       "      <td>36.0</td>\n",
       "      <td>Europe</td>\n",
       "    </tr>\n",
       "    <tr>\n",
       "      <th>1</th>\n",
       "      <td>10</td>\n",
       "      <td>2015.0</td>\n",
       "      <td>67.472222</td>\n",
       "      <td>36.0</td>\n",
       "      <td>0.166667</td>\n",
       "      <td>0.0</td>\n",
       "      <td>0.333333</td>\n",
       "      <td>0.222222</td>\n",
       "      <td>67.472222</td>\n",
       "      <td>17.0</td>\n",
       "      <td>...</td>\n",
       "      <td>28502.472222</td>\n",
       "      <td>1000000.0</td>\n",
       "      <td>1000000.0</td>\n",
       "      <td>Attack</td>\n",
       "      <td>Centre-Forward</td>\n",
       "      <td>Right</td>\n",
       "      <td>184.0</td>\n",
       "      <td>1978.0</td>\n",
       "      <td>37.0</td>\n",
       "      <td>Europe</td>\n",
       "    </tr>\n",
       "    <tr>\n",
       "      <th>2</th>\n",
       "      <td>10</td>\n",
       "      <td>2016.0</td>\n",
       "      <td>53.900000</td>\n",
       "      <td>20.0</td>\n",
       "      <td>0.050000</td>\n",
       "      <td>0.0</td>\n",
       "      <td>0.400000</td>\n",
       "      <td>0.250000</td>\n",
       "      <td>53.900000</td>\n",
       "      <td>7.0</td>\n",
       "      <td>...</td>\n",
       "      <td>19311.600000</td>\n",
       "      <td>1000000.0</td>\n",
       "      <td>1000000.0</td>\n",
       "      <td>Attack</td>\n",
       "      <td>Centre-Forward</td>\n",
       "      <td>Right</td>\n",
       "      <td>184.0</td>\n",
       "      <td>1978.0</td>\n",
       "      <td>38.0</td>\n",
       "      <td>Europe</td>\n",
       "    </tr>\n",
       "    <tr>\n",
       "      <th>3</th>\n",
       "      <td>26</td>\n",
       "      <td>2014.0</td>\n",
       "      <td>90.000000</td>\n",
       "      <td>17.0</td>\n",
       "      <td>0.000000</td>\n",
       "      <td>0.0</td>\n",
       "      <td>0.000000</td>\n",
       "      <td>0.000000</td>\n",
       "      <td>90.000000</td>\n",
       "      <td>10.0</td>\n",
       "      <td>...</td>\n",
       "      <td>57578.411765</td>\n",
       "      <td>5000000.0</td>\n",
       "      <td>5000000.0</td>\n",
       "      <td>Goalkeeper</td>\n",
       "      <td>NaN</td>\n",
       "      <td>Left</td>\n",
       "      <td>190.0</td>\n",
       "      <td>1980.0</td>\n",
       "      <td>34.0</td>\n",
       "      <td>Europe</td>\n",
       "    </tr>\n",
       "    <tr>\n",
       "      <th>4</th>\n",
       "      <td>26</td>\n",
       "      <td>2015.0</td>\n",
       "      <td>90.000000</td>\n",
       "      <td>24.0</td>\n",
       "      <td>0.000000</td>\n",
       "      <td>0.0</td>\n",
       "      <td>0.000000</td>\n",
       "      <td>0.000000</td>\n",
       "      <td>90.000000</td>\n",
       "      <td>11.0</td>\n",
       "      <td>...</td>\n",
       "      <td>55057.333333</td>\n",
       "      <td>2000000.0</td>\n",
       "      <td>3000000.0</td>\n",
       "      <td>Goalkeeper</td>\n",
       "      <td>NaN</td>\n",
       "      <td>Left</td>\n",
       "      <td>190.0</td>\n",
       "      <td>1980.0</td>\n",
       "      <td>35.0</td>\n",
       "      <td>Europe</td>\n",
       "    </tr>\n",
       "  </tbody>\n",
       "</table>\n",
       "<p>5 rows × 28 columns</p>\n",
       "</div>"
      ],
      "text/plain": [
       "   player_id    year  avg_game_dur  avg_games_played  avg_yellow_cards  \\\n",
       "0         10  2014.0     33.066667              15.0          0.133333   \n",
       "1         10  2015.0     67.472222              36.0          0.166667   \n",
       "2         10  2016.0     53.900000              20.0          0.050000   \n",
       "3         26  2014.0     90.000000              17.0          0.000000   \n",
       "4         26  2015.0     90.000000              24.0          0.000000   \n",
       "\n",
       "   avg_red_cards  avg_goals  avg_assists  avg_minutes_played  \\\n",
       "0            0.0   0.266667     0.200000           33.066667   \n",
       "1            0.0   0.333333     0.222222           67.472222   \n",
       "2            0.0   0.400000     0.250000           53.900000   \n",
       "3            0.0   0.000000     0.000000           90.000000   \n",
       "4            0.0   0.000000     0.000000           90.000000   \n",
       "\n",
       "   games_played_away  ...  player_avg_game_attendance  \\\n",
       "0                7.0  ...                25929.266667   \n",
       "1               17.0  ...                28502.472222   \n",
       "2                7.0  ...                19311.600000   \n",
       "3               10.0  ...                57578.411765   \n",
       "4               11.0  ...                55057.333333   \n",
       "\n",
       "   mean_market_value_in_eur  max_market_value_in_eur    position  \\\n",
       "0                 1000000.0                1000000.0      Attack   \n",
       "1                 1000000.0                1000000.0      Attack   \n",
       "2                 1000000.0                1000000.0      Attack   \n",
       "3                 5000000.0                5000000.0  Goalkeeper   \n",
       "4                 2000000.0                3000000.0  Goalkeeper   \n",
       "\n",
       "     sub_position   foot  height_in_cm  year_of_birth   age  continent  \n",
       "0  Centre-Forward  Right         184.0         1978.0  36.0     Europe  \n",
       "1  Centre-Forward  Right         184.0         1978.0  37.0     Europe  \n",
       "2  Centre-Forward  Right         184.0         1978.0  38.0     Europe  \n",
       "3             NaN   Left         190.0         1980.0  34.0     Europe  \n",
       "4             NaN   Left         190.0         1980.0  35.0     Europe  \n",
       "\n",
       "[5 rows x 28 columns]"
      ]
     },
     "execution_count": 89,
     "metadata": {},
     "output_type": "execute_result"
    }
   ],
   "source": [
    "data.head()"
   ]
  },
  {
   "cell_type": "code",
   "execution_count": 90,
   "metadata": {},
   "outputs": [
    {
     "name": "stdout",
     "output_type": "stream",
     "text": [
      "win_perc (122, 28)\n",
      "mean_market_value_in_eur (2167, 28)\n",
      "max_market_value_in_eur (2167, 28)\n",
      "position (32, 28)\n",
      "sub_position (5596, 28)\n",
      "foot (1281, 28)\n",
      "height_in_cm (32, 28)\n",
      "year_of_birth (53, 28)\n",
      "age (53, 28)\n",
      "continent (11174, 28)\n"
     ]
    }
   ],
   "source": [
    "# For Imputation (Filling some null values with 0)\n",
    "data = data.query('avg_games_played > 0')\n",
    "#data = data.dropna(subset=['win_perc', 'mean_market_value_in_eur'])\n",
    "data = data.fillna({'games_played_away': 0, \n",
    "                    'games_played_home': 0, \n",
    "                    'games_player_domestic_cup': 0, \n",
    "                    'games_played_domestic_league': 0, \n",
    "                    'games_player_international_cup': 0, \n",
    "                    'games_played_other': 0,\n",
    "                    'away_win_percentage' : 0,\n",
    "                    'home_win_percentage' : 0})\n",
    "\n",
    "for col in data.columns:\n",
    "    null_rows_idx = data[[col]].isnull().any(axis=1)\n",
    "    if len(data[null_rows_idx]) > 0:\n",
    "        print(col, data[null_rows_idx].shape)\n",
    "# Output shows us which columns still have null values which we will fix/impute later in Data Cleaning\n",
    "\n",
    "data.to_csv('data_merged.csv')"
   ]
  },
  {
   "cell_type": "code",
   "execution_count": 91,
   "metadata": {},
   "outputs": [],
   "source": [
    "data.year_of_birth=data.year_of_birth.astype('str')"
   ]
  },
  {
   "cell_type": "code",
   "execution_count": 92,
   "metadata": {},
   "outputs": [],
   "source": [
    "data['contribution_per_game']=data['avg_goals']+data['avg_assists']"
   ]
  },
  {
   "cell_type": "markdown",
   "metadata": {},
   "source": [
    "## Analyzing the Data Structure"
   ]
  },
  {
   "cell_type": "code",
   "execution_count": 93,
   "metadata": {},
   "outputs": [
    {
     "data": {
      "text/html": [
       "<div>\n",
       "<style scoped>\n",
       "    .dataframe tbody tr th:only-of-type {\n",
       "        vertical-align: middle;\n",
       "    }\n",
       "\n",
       "    .dataframe tbody tr th {\n",
       "        vertical-align: top;\n",
       "    }\n",
       "\n",
       "    .dataframe thead th {\n",
       "        text-align: right;\n",
       "    }\n",
       "</style>\n",
       "<table border=\"1\" class=\"dataframe\">\n",
       "  <thead>\n",
       "    <tr style=\"text-align: right;\">\n",
       "      <th></th>\n",
       "      <th>player_id</th>\n",
       "      <th>year</th>\n",
       "      <th>avg_game_dur</th>\n",
       "      <th>avg_games_played</th>\n",
       "      <th>avg_yellow_cards</th>\n",
       "      <th>avg_red_cards</th>\n",
       "      <th>avg_goals</th>\n",
       "      <th>avg_assists</th>\n",
       "      <th>avg_minutes_played</th>\n",
       "      <th>games_played_away</th>\n",
       "      <th>...</th>\n",
       "      <th>mean_market_value_in_eur</th>\n",
       "      <th>max_market_value_in_eur</th>\n",
       "      <th>position</th>\n",
       "      <th>sub_position</th>\n",
       "      <th>foot</th>\n",
       "      <th>height_in_cm</th>\n",
       "      <th>year_of_birth</th>\n",
       "      <th>age</th>\n",
       "      <th>continent</th>\n",
       "      <th>contribution_per_game</th>\n",
       "    </tr>\n",
       "  </thead>\n",
       "  <tbody>\n",
       "    <tr>\n",
       "      <th>0</th>\n",
       "      <td>10</td>\n",
       "      <td>2014.0</td>\n",
       "      <td>33.066667</td>\n",
       "      <td>15.0</td>\n",
       "      <td>0.133333</td>\n",
       "      <td>0.0</td>\n",
       "      <td>0.266667</td>\n",
       "      <td>0.200000</td>\n",
       "      <td>33.066667</td>\n",
       "      <td>7.0</td>\n",
       "      <td>...</td>\n",
       "      <td>1000000.0</td>\n",
       "      <td>1000000.0</td>\n",
       "      <td>Attack</td>\n",
       "      <td>Centre-Forward</td>\n",
       "      <td>Right</td>\n",
       "      <td>184.0</td>\n",
       "      <td>1978.0</td>\n",
       "      <td>36.0</td>\n",
       "      <td>Europe</td>\n",
       "      <td>0.466667</td>\n",
       "    </tr>\n",
       "    <tr>\n",
       "      <th>1</th>\n",
       "      <td>10</td>\n",
       "      <td>2015.0</td>\n",
       "      <td>67.472222</td>\n",
       "      <td>36.0</td>\n",
       "      <td>0.166667</td>\n",
       "      <td>0.0</td>\n",
       "      <td>0.333333</td>\n",
       "      <td>0.222222</td>\n",
       "      <td>67.472222</td>\n",
       "      <td>17.0</td>\n",
       "      <td>...</td>\n",
       "      <td>1000000.0</td>\n",
       "      <td>1000000.0</td>\n",
       "      <td>Attack</td>\n",
       "      <td>Centre-Forward</td>\n",
       "      <td>Right</td>\n",
       "      <td>184.0</td>\n",
       "      <td>1978.0</td>\n",
       "      <td>37.0</td>\n",
       "      <td>Europe</td>\n",
       "      <td>0.555556</td>\n",
       "    </tr>\n",
       "    <tr>\n",
       "      <th>2</th>\n",
       "      <td>10</td>\n",
       "      <td>2016.0</td>\n",
       "      <td>53.900000</td>\n",
       "      <td>20.0</td>\n",
       "      <td>0.050000</td>\n",
       "      <td>0.0</td>\n",
       "      <td>0.400000</td>\n",
       "      <td>0.250000</td>\n",
       "      <td>53.900000</td>\n",
       "      <td>7.0</td>\n",
       "      <td>...</td>\n",
       "      <td>1000000.0</td>\n",
       "      <td>1000000.0</td>\n",
       "      <td>Attack</td>\n",
       "      <td>Centre-Forward</td>\n",
       "      <td>Right</td>\n",
       "      <td>184.0</td>\n",
       "      <td>1978.0</td>\n",
       "      <td>38.0</td>\n",
       "      <td>Europe</td>\n",
       "      <td>0.650000</td>\n",
       "    </tr>\n",
       "    <tr>\n",
       "      <th>3</th>\n",
       "      <td>26</td>\n",
       "      <td>2014.0</td>\n",
       "      <td>90.000000</td>\n",
       "      <td>17.0</td>\n",
       "      <td>0.000000</td>\n",
       "      <td>0.0</td>\n",
       "      <td>0.000000</td>\n",
       "      <td>0.000000</td>\n",
       "      <td>90.000000</td>\n",
       "      <td>10.0</td>\n",
       "      <td>...</td>\n",
       "      <td>5000000.0</td>\n",
       "      <td>5000000.0</td>\n",
       "      <td>Goalkeeper</td>\n",
       "      <td>NaN</td>\n",
       "      <td>Left</td>\n",
       "      <td>190.0</td>\n",
       "      <td>1980.0</td>\n",
       "      <td>34.0</td>\n",
       "      <td>Europe</td>\n",
       "      <td>0.000000</td>\n",
       "    </tr>\n",
       "    <tr>\n",
       "      <th>4</th>\n",
       "      <td>26</td>\n",
       "      <td>2015.0</td>\n",
       "      <td>90.000000</td>\n",
       "      <td>24.0</td>\n",
       "      <td>0.000000</td>\n",
       "      <td>0.0</td>\n",
       "      <td>0.000000</td>\n",
       "      <td>0.000000</td>\n",
       "      <td>90.000000</td>\n",
       "      <td>11.0</td>\n",
       "      <td>...</td>\n",
       "      <td>2000000.0</td>\n",
       "      <td>3000000.0</td>\n",
       "      <td>Goalkeeper</td>\n",
       "      <td>NaN</td>\n",
       "      <td>Left</td>\n",
       "      <td>190.0</td>\n",
       "      <td>1980.0</td>\n",
       "      <td>35.0</td>\n",
       "      <td>Europe</td>\n",
       "      <td>0.000000</td>\n",
       "    </tr>\n",
       "  </tbody>\n",
       "</table>\n",
       "<p>5 rows × 29 columns</p>\n",
       "</div>"
      ],
      "text/plain": [
       "   player_id    year  avg_game_dur  avg_games_played  avg_yellow_cards  \\\n",
       "0         10  2014.0     33.066667              15.0          0.133333   \n",
       "1         10  2015.0     67.472222              36.0          0.166667   \n",
       "2         10  2016.0     53.900000              20.0          0.050000   \n",
       "3         26  2014.0     90.000000              17.0          0.000000   \n",
       "4         26  2015.0     90.000000              24.0          0.000000   \n",
       "\n",
       "   avg_red_cards  avg_goals  avg_assists  avg_minutes_played  \\\n",
       "0            0.0   0.266667     0.200000           33.066667   \n",
       "1            0.0   0.333333     0.222222           67.472222   \n",
       "2            0.0   0.400000     0.250000           53.900000   \n",
       "3            0.0   0.000000     0.000000           90.000000   \n",
       "4            0.0   0.000000     0.000000           90.000000   \n",
       "\n",
       "   games_played_away  ...  mean_market_value_in_eur  max_market_value_in_eur  \\\n",
       "0                7.0  ...                 1000000.0                1000000.0   \n",
       "1               17.0  ...                 1000000.0                1000000.0   \n",
       "2                7.0  ...                 1000000.0                1000000.0   \n",
       "3               10.0  ...                 5000000.0                5000000.0   \n",
       "4               11.0  ...                 2000000.0                3000000.0   \n",
       "\n",
       "     position    sub_position   foot  height_in_cm  year_of_birth   age  \\\n",
       "0      Attack  Centre-Forward  Right         184.0         1978.0  36.0   \n",
       "1      Attack  Centre-Forward  Right         184.0         1978.0  37.0   \n",
       "2      Attack  Centre-Forward  Right         184.0         1978.0  38.0   \n",
       "3  Goalkeeper             NaN   Left         190.0         1980.0  34.0   \n",
       "4  Goalkeeper             NaN   Left         190.0         1980.0  35.0   \n",
       "\n",
       "   continent  contribution_per_game  \n",
       "0     Europe               0.466667  \n",
       "1     Europe               0.555556  \n",
       "2     Europe               0.650000  \n",
       "3     Europe               0.000000  \n",
       "4     Europe               0.000000  \n",
       "\n",
       "[5 rows x 29 columns]"
      ]
     },
     "execution_count": 93,
     "metadata": {},
     "output_type": "execute_result"
    }
   ],
   "source": [
    "data.head()"
   ]
  },
  {
   "cell_type": "code",
   "execution_count": 94,
   "metadata": {
    "scrolled": false
   },
   "outputs": [
    {
     "name": "stdout",
     "output_type": "stream",
     "text": [
      "<class 'pandas.core.frame.DataFrame'>\n",
      "Int64Index: 64924 entries, 0 to 64923\n",
      "Data columns (total 29 columns):\n",
      " #   Column                          Non-Null Count  Dtype  \n",
      "---  ------                          --------------  -----  \n",
      " 0   player_id                       64924 non-null  int64  \n",
      " 1   year                            64924 non-null  float64\n",
      " 2   avg_game_dur                    64924 non-null  float64\n",
      " 3   avg_games_played                64924 non-null  float64\n",
      " 4   avg_yellow_cards                64924 non-null  float64\n",
      " 5   avg_red_cards                   64924 non-null  float64\n",
      " 6   avg_goals                       64924 non-null  float64\n",
      " 7   avg_assists                     64924 non-null  float64\n",
      " 8   avg_minutes_played              64924 non-null  float64\n",
      " 9   games_played_away               64924 non-null  float64\n",
      " 10  games_played_home               64924 non-null  float64\n",
      " 11  away_win_percentage             64924 non-null  float64\n",
      " 12  home_win_percentage             64924 non-null  float64\n",
      " 13  win_perc                        64802 non-null  float64\n",
      " 14  games_player_domestic_cup       64924 non-null  float64\n",
      " 15  games_played_domestic_league    64924 non-null  float64\n",
      " 16  games_player_international_cup  64924 non-null  float64\n",
      " 17  games_played_other              64924 non-null  float64\n",
      " 18  player_avg_game_attendance      64924 non-null  float64\n",
      " 19  mean_market_value_in_eur        62757 non-null  float64\n",
      " 20  max_market_value_in_eur         62757 non-null  float64\n",
      " 21  position                        64892 non-null  object \n",
      " 22  sub_position                    59328 non-null  object \n",
      " 23  foot                            63643 non-null  object \n",
      " 24  height_in_cm                    64892 non-null  float64\n",
      " 25  year_of_birth                   64924 non-null  object \n",
      " 26  age                             64871 non-null  float64\n",
      " 27  continent                       53750 non-null  object \n",
      " 28  contribution_per_game           64924 non-null  float64\n",
      "dtypes: float64(23), int64(1), object(5)\n",
      "memory usage: 14.9+ MB\n"
     ]
    }
   ],
   "source": [
    "data.info()"
   ]
  },
  {
   "cell_type": "code",
   "execution_count": 95,
   "metadata": {},
   "outputs": [
    {
     "data": {
      "text/html": [
       "<div>\n",
       "<style scoped>\n",
       "    .dataframe tbody tr th:only-of-type {\n",
       "        vertical-align: middle;\n",
       "    }\n",
       "\n",
       "    .dataframe tbody tr th {\n",
       "        vertical-align: top;\n",
       "    }\n",
       "\n",
       "    .dataframe thead th {\n",
       "        text-align: right;\n",
       "    }\n",
       "</style>\n",
       "<table border=\"1\" class=\"dataframe\">\n",
       "  <thead>\n",
       "    <tr style=\"text-align: right;\">\n",
       "      <th></th>\n",
       "      <th>player_id</th>\n",
       "      <th>year</th>\n",
       "      <th>avg_game_dur</th>\n",
       "      <th>avg_games_played</th>\n",
       "      <th>avg_yellow_cards</th>\n",
       "      <th>avg_red_cards</th>\n",
       "      <th>avg_goals</th>\n",
       "      <th>avg_assists</th>\n",
       "      <th>avg_minutes_played</th>\n",
       "      <th>games_played_away</th>\n",
       "      <th>...</th>\n",
       "      <th>games_player_domestic_cup</th>\n",
       "      <th>games_played_domestic_league</th>\n",
       "      <th>games_player_international_cup</th>\n",
       "      <th>games_played_other</th>\n",
       "      <th>player_avg_game_attendance</th>\n",
       "      <th>mean_market_value_in_eur</th>\n",
       "      <th>max_market_value_in_eur</th>\n",
       "      <th>height_in_cm</th>\n",
       "      <th>age</th>\n",
       "      <th>contribution_per_game</th>\n",
       "    </tr>\n",
       "  </thead>\n",
       "  <tbody>\n",
       "    <tr>\n",
       "      <th>count</th>\n",
       "      <td>64924.000000</td>\n",
       "      <td>64924.000000</td>\n",
       "      <td>64924.000000</td>\n",
       "      <td>64924.000000</td>\n",
       "      <td>64924.000000</td>\n",
       "      <td>64924.000000</td>\n",
       "      <td>64924.000000</td>\n",
       "      <td>64924.000000</td>\n",
       "      <td>64924.000000</td>\n",
       "      <td>64924.000000</td>\n",
       "      <td>...</td>\n",
       "      <td>64924.000000</td>\n",
       "      <td>64924.000000</td>\n",
       "      <td>64924.000000</td>\n",
       "      <td>64924.000000</td>\n",
       "      <td>64924.000000</td>\n",
       "      <td>6.275700e+04</td>\n",
       "      <td>6.275700e+04</td>\n",
       "      <td>64892.000000</td>\n",
       "      <td>64871.000000</td>\n",
       "      <td>64924.000000</td>\n",
       "    </tr>\n",
       "    <tr>\n",
       "      <th>mean</th>\n",
       "      <td>201168.041957</td>\n",
       "      <td>2017.933692</td>\n",
       "      <td>63.651873</td>\n",
       "      <td>15.982965</td>\n",
       "      <td>0.140592</td>\n",
       "      <td>0.003807</td>\n",
       "      <td>0.074128</td>\n",
       "      <td>0.056940</td>\n",
       "      <td>63.651873</td>\n",
       "      <td>8.023335</td>\n",
       "      <td>...</td>\n",
       "      <td>1.046916</td>\n",
       "      <td>13.723415</td>\n",
       "      <td>1.166656</td>\n",
       "      <td>0.045977</td>\n",
       "      <td>14400.010437</td>\n",
       "      <td>3.874549e+06</td>\n",
       "      <td>4.394323e+06</td>\n",
       "      <td>180.097793</td>\n",
       "      <td>25.905227</td>\n",
       "      <td>0.131068</td>\n",
       "    </tr>\n",
       "    <tr>\n",
       "      <th>std</th>\n",
       "      <td>161988.736461</td>\n",
       "      <td>2.465908</td>\n",
       "      <td>24.158194</td>\n",
       "      <td>11.637990</td>\n",
       "      <td>0.155056</td>\n",
       "      <td>0.025462</td>\n",
       "      <td>0.131111</td>\n",
       "      <td>0.095831</td>\n",
       "      <td>24.158194</td>\n",
       "      <td>5.932188</td>\n",
       "      <td>...</td>\n",
       "      <td>1.378357</td>\n",
       "      <td>10.001174</td>\n",
       "      <td>2.546848</td>\n",
       "      <td>0.254883</td>\n",
       "      <td>12958.278553</td>\n",
       "      <td>8.994894e+06</td>\n",
       "      <td>9.949812e+06</td>\n",
       "      <td>20.483944</td>\n",
       "      <td>4.535568</td>\n",
       "      <td>0.182305</td>\n",
       "    </tr>\n",
       "    <tr>\n",
       "      <th>min</th>\n",
       "      <td>10.000000</td>\n",
       "      <td>2014.000000</td>\n",
       "      <td>1.000000</td>\n",
       "      <td>1.000000</td>\n",
       "      <td>0.000000</td>\n",
       "      <td>0.000000</td>\n",
       "      <td>0.000000</td>\n",
       "      <td>0.000000</td>\n",
       "      <td>1.000000</td>\n",
       "      <td>0.000000</td>\n",
       "      <td>...</td>\n",
       "      <td>0.000000</td>\n",
       "      <td>0.000000</td>\n",
       "      <td>0.000000</td>\n",
       "      <td>0.000000</td>\n",
       "      <td>0.000000</td>\n",
       "      <td>1.000000e+04</td>\n",
       "      <td>1.000000e+04</td>\n",
       "      <td>0.000000</td>\n",
       "      <td>15.000000</td>\n",
       "      <td>0.000000</td>\n",
       "    </tr>\n",
       "    <tr>\n",
       "      <th>25%</th>\n",
       "      <td>64992.000000</td>\n",
       "      <td>2016.000000</td>\n",
       "      <td>48.102586</td>\n",
       "      <td>6.000000</td>\n",
       "      <td>0.000000</td>\n",
       "      <td>0.000000</td>\n",
       "      <td>0.000000</td>\n",
       "      <td>0.000000</td>\n",
       "      <td>48.102586</td>\n",
       "      <td>3.000000</td>\n",
       "      <td>...</td>\n",
       "      <td>0.000000</td>\n",
       "      <td>5.000000</td>\n",
       "      <td>0.000000</td>\n",
       "      <td>0.000000</td>\n",
       "      <td>4345.424242</td>\n",
       "      <td>4.000000e+05</td>\n",
       "      <td>4.500000e+05</td>\n",
       "      <td>177.000000</td>\n",
       "      <td>22.000000</td>\n",
       "      <td>0.000000</td>\n",
       "    </tr>\n",
       "    <tr>\n",
       "      <th>50%</th>\n",
       "      <td>164912.500000</td>\n",
       "      <td>2018.000000</td>\n",
       "      <td>69.882353</td>\n",
       "      <td>14.000000</td>\n",
       "      <td>0.111111</td>\n",
       "      <td>0.000000</td>\n",
       "      <td>0.000000</td>\n",
       "      <td>0.000000</td>\n",
       "      <td>69.882353</td>\n",
       "      <td>7.000000</td>\n",
       "      <td>...</td>\n",
       "      <td>1.000000</td>\n",
       "      <td>13.000000</td>\n",
       "      <td>0.000000</td>\n",
       "      <td>0.000000</td>\n",
       "      <td>10650.525000</td>\n",
       "      <td>1.000000e+06</td>\n",
       "      <td>1.000000e+06</td>\n",
       "      <td>182.000000</td>\n",
       "      <td>26.000000</td>\n",
       "      <td>0.066667</td>\n",
       "    </tr>\n",
       "    <tr>\n",
       "      <th>75%</th>\n",
       "      <td>292357.000000</td>\n",
       "      <td>2020.000000</td>\n",
       "      <td>84.111111</td>\n",
       "      <td>24.000000</td>\n",
       "      <td>0.214286</td>\n",
       "      <td>0.000000</td>\n",
       "      <td>0.103448</td>\n",
       "      <td>0.090909</td>\n",
       "      <td>84.111111</td>\n",
       "      <td>12.000000</td>\n",
       "      <td>...</td>\n",
       "      <td>2.000000</td>\n",
       "      <td>20.000000</td>\n",
       "      <td>0.000000</td>\n",
       "      <td>0.000000</td>\n",
       "      <td>20633.825000</td>\n",
       "      <td>3.166667e+06</td>\n",
       "      <td>3.600000e+06</td>\n",
       "      <td>187.000000</td>\n",
       "      <td>29.000000</td>\n",
       "      <td>0.200000</td>\n",
       "    </tr>\n",
       "    <tr>\n",
       "      <th>max</th>\n",
       "      <td>987700.000000</td>\n",
       "      <td>2022.000000</td>\n",
       "      <td>120.000000</td>\n",
       "      <td>59.000000</td>\n",
       "      <td>2.000000</td>\n",
       "      <td>1.000000</td>\n",
       "      <td>3.000000</td>\n",
       "      <td>2.000000</td>\n",
       "      <td>120.000000</td>\n",
       "      <td>31.000000</td>\n",
       "      <td>...</td>\n",
       "      <td>11.000000</td>\n",
       "      <td>44.000000</td>\n",
       "      <td>19.000000</td>\n",
       "      <td>5.000000</td>\n",
       "      <td>83439.000000</td>\n",
       "      <td>2.000000e+08</td>\n",
       "      <td>2.000000e+08</td>\n",
       "      <td>206.000000</td>\n",
       "      <td>44.000000</td>\n",
       "      <td>3.000000</td>\n",
       "    </tr>\n",
       "  </tbody>\n",
       "</table>\n",
       "<p>8 rows × 24 columns</p>\n",
       "</div>"
      ],
      "text/plain": [
       "           player_id          year  avg_game_dur  avg_games_played  \\\n",
       "count   64924.000000  64924.000000  64924.000000      64924.000000   \n",
       "mean   201168.041957   2017.933692     63.651873         15.982965   \n",
       "std    161988.736461      2.465908     24.158194         11.637990   \n",
       "min        10.000000   2014.000000      1.000000          1.000000   \n",
       "25%     64992.000000   2016.000000     48.102586          6.000000   \n",
       "50%    164912.500000   2018.000000     69.882353         14.000000   \n",
       "75%    292357.000000   2020.000000     84.111111         24.000000   \n",
       "max    987700.000000   2022.000000    120.000000         59.000000   \n",
       "\n",
       "       avg_yellow_cards  avg_red_cards     avg_goals   avg_assists  \\\n",
       "count      64924.000000   64924.000000  64924.000000  64924.000000   \n",
       "mean           0.140592       0.003807      0.074128      0.056940   \n",
       "std            0.155056       0.025462      0.131111      0.095831   \n",
       "min            0.000000       0.000000      0.000000      0.000000   \n",
       "25%            0.000000       0.000000      0.000000      0.000000   \n",
       "50%            0.111111       0.000000      0.000000      0.000000   \n",
       "75%            0.214286       0.000000      0.103448      0.090909   \n",
       "max            2.000000       1.000000      3.000000      2.000000   \n",
       "\n",
       "       avg_minutes_played  games_played_away  ...  games_player_domestic_cup  \\\n",
       "count        64924.000000       64924.000000  ...               64924.000000   \n",
       "mean            63.651873           8.023335  ...                   1.046916   \n",
       "std             24.158194           5.932188  ...                   1.378357   \n",
       "min              1.000000           0.000000  ...                   0.000000   \n",
       "25%             48.102586           3.000000  ...                   0.000000   \n",
       "50%             69.882353           7.000000  ...                   1.000000   \n",
       "75%             84.111111          12.000000  ...                   2.000000   \n",
       "max            120.000000          31.000000  ...                  11.000000   \n",
       "\n",
       "       games_played_domestic_league  games_player_international_cup  \\\n",
       "count                  64924.000000                    64924.000000   \n",
       "mean                      13.723415                        1.166656   \n",
       "std                       10.001174                        2.546848   \n",
       "min                        0.000000                        0.000000   \n",
       "25%                        5.000000                        0.000000   \n",
       "50%                       13.000000                        0.000000   \n",
       "75%                       20.000000                        0.000000   \n",
       "max                       44.000000                       19.000000   \n",
       "\n",
       "       games_played_other  player_avg_game_attendance  \\\n",
       "count        64924.000000                64924.000000   \n",
       "mean             0.045977                14400.010437   \n",
       "std              0.254883                12958.278553   \n",
       "min              0.000000                    0.000000   \n",
       "25%              0.000000                 4345.424242   \n",
       "50%              0.000000                10650.525000   \n",
       "75%              0.000000                20633.825000   \n",
       "max              5.000000                83439.000000   \n",
       "\n",
       "       mean_market_value_in_eur  max_market_value_in_eur  height_in_cm  \\\n",
       "count              6.275700e+04             6.275700e+04  64892.000000   \n",
       "mean               3.874549e+06             4.394323e+06    180.097793   \n",
       "std                8.994894e+06             9.949812e+06     20.483944   \n",
       "min                1.000000e+04             1.000000e+04      0.000000   \n",
       "25%                4.000000e+05             4.500000e+05    177.000000   \n",
       "50%                1.000000e+06             1.000000e+06    182.000000   \n",
       "75%                3.166667e+06             3.600000e+06    187.000000   \n",
       "max                2.000000e+08             2.000000e+08    206.000000   \n",
       "\n",
       "                age  contribution_per_game  \n",
       "count  64871.000000           64924.000000  \n",
       "mean      25.905227               0.131068  \n",
       "std        4.535568               0.182305  \n",
       "min       15.000000               0.000000  \n",
       "25%       22.000000               0.000000  \n",
       "50%       26.000000               0.066667  \n",
       "75%       29.000000               0.200000  \n",
       "max       44.000000               3.000000  \n",
       "\n",
       "[8 rows x 24 columns]"
      ]
     },
     "execution_count": 95,
     "metadata": {},
     "output_type": "execute_result"
    }
   ],
   "source": [
    "data.describe()"
   ]
  },
  {
   "cell_type": "code",
   "execution_count": 96,
   "metadata": {},
   "outputs": [
    {
     "data": {
      "image/png": "[encoded data removed]",
      "text/plain": [
       "<Figure size 1200x1500 with 25 Axes>"
      ]
     },
     "metadata": {},
     "output_type": "display_data"
    }
   ],
   "source": [
    "import matplotlib.pyplot as plt\n",
    "\n",
    "plt.rc('font', size = 5)\n",
    "plt.rc('axes', labelsize = 5, titlesize = 8)\n",
    "plt.rc('legend', fontsize = 5)\n",
    "plt.rc('xtick', labelsize = 5)\n",
    "plt.rc('ytick', labelsize = 5)\n",
    "\n",
    "data.hist(bins = 50, figsize = (12, 15))\n",
    "plt.show()"
   ]
  },
  {
   "cell_type": "markdown",
   "metadata": {},
   "source": [
    "Many variables are skewed to the left/right, meaning that they extend on the left/right of the median. This can make it difficult for our model to identify patterns. Later, we will transform these attributes to have normal distributions."
   ]
  },
  {
   "cell_type": "markdown",
   "metadata": {},
   "source": [
    "# Preparing the Data for Machine Learning Algorithms"
   ]
  },
  {
   "cell_type": "markdown",
   "metadata": {},
   "source": [
    "## Data Cleaning"
   ]
  },
  {
   "cell_type": "code",
   "execution_count": 97,
   "metadata": {},
   "outputs": [
    {
     "data": {
      "text/html": [
       "<div>\n",
       "<style scoped>\n",
       "    .dataframe tbody tr th:only-of-type {\n",
       "        vertical-align: middle;\n",
       "    }\n",
       "\n",
       "    .dataframe tbody tr th {\n",
       "        vertical-align: top;\n",
       "    }\n",
       "\n",
       "    .dataframe thead th {\n",
       "        text-align: right;\n",
       "    }\n",
       "</style>\n",
       "<table border=\"1\" class=\"dataframe\">\n",
       "  <thead>\n",
       "    <tr style=\"text-align: right;\">\n",
       "      <th></th>\n",
       "      <th>player_id</th>\n",
       "      <th>year</th>\n",
       "      <th>avg_game_dur</th>\n",
       "      <th>avg_games_played</th>\n",
       "      <th>avg_yellow_cards</th>\n",
       "      <th>avg_red_cards</th>\n",
       "      <th>avg_goals</th>\n",
       "      <th>avg_assists</th>\n",
       "      <th>avg_minutes_played</th>\n",
       "      <th>games_played_away</th>\n",
       "      <th>...</th>\n",
       "      <th>mean_market_value_in_eur</th>\n",
       "      <th>max_market_value_in_eur</th>\n",
       "      <th>position</th>\n",
       "      <th>sub_position</th>\n",
       "      <th>foot</th>\n",
       "      <th>height_in_cm</th>\n",
       "      <th>year_of_birth</th>\n",
       "      <th>age</th>\n",
       "      <th>continent</th>\n",
       "      <th>contribution_per_game</th>\n",
       "    </tr>\n",
       "  </thead>\n",
       "  <tbody>\n",
       "    <tr>\n",
       "      <th>3</th>\n",
       "      <td>26</td>\n",
       "      <td>2014.0</td>\n",
       "      <td>90.000000</td>\n",
       "      <td>17.0</td>\n",
       "      <td>0.000000</td>\n",
       "      <td>0.0</td>\n",
       "      <td>0.0</td>\n",
       "      <td>0.0</td>\n",
       "      <td>90.000000</td>\n",
       "      <td>10.0</td>\n",
       "      <td>...</td>\n",
       "      <td>5.000000e+06</td>\n",
       "      <td>5000000.0</td>\n",
       "      <td>Goalkeeper</td>\n",
       "      <td>NaN</td>\n",
       "      <td>Left</td>\n",
       "      <td>190.0</td>\n",
       "      <td>1980.0</td>\n",
       "      <td>34.0</td>\n",
       "      <td>Europe</td>\n",
       "      <td>0.0</td>\n",
       "    </tr>\n",
       "    <tr>\n",
       "      <th>4</th>\n",
       "      <td>26</td>\n",
       "      <td>2015.0</td>\n",
       "      <td>90.000000</td>\n",
       "      <td>24.0</td>\n",
       "      <td>0.000000</td>\n",
       "      <td>0.0</td>\n",
       "      <td>0.0</td>\n",
       "      <td>0.0</td>\n",
       "      <td>90.000000</td>\n",
       "      <td>11.0</td>\n",
       "      <td>...</td>\n",
       "      <td>2.000000e+06</td>\n",
       "      <td>3000000.0</td>\n",
       "      <td>Goalkeeper</td>\n",
       "      <td>NaN</td>\n",
       "      <td>Left</td>\n",
       "      <td>190.0</td>\n",
       "      <td>1980.0</td>\n",
       "      <td>35.0</td>\n",
       "      <td>Europe</td>\n",
       "      <td>0.0</td>\n",
       "    </tr>\n",
       "    <tr>\n",
       "      <th>5</th>\n",
       "      <td>26</td>\n",
       "      <td>2016.0</td>\n",
       "      <td>92.000000</td>\n",
       "      <td>15.0</td>\n",
       "      <td>0.066667</td>\n",
       "      <td>0.0</td>\n",
       "      <td>0.0</td>\n",
       "      <td>0.0</td>\n",
       "      <td>92.000000</td>\n",
       "      <td>9.0</td>\n",
       "      <td>...</td>\n",
       "      <td>1.000000e+06</td>\n",
       "      <td>1000000.0</td>\n",
       "      <td>Goalkeeper</td>\n",
       "      <td>NaN</td>\n",
       "      <td>Left</td>\n",
       "      <td>190.0</td>\n",
       "      <td>1980.0</td>\n",
       "      <td>36.0</td>\n",
       "      <td>Europe</td>\n",
       "      <td>0.0</td>\n",
       "    </tr>\n",
       "    <tr>\n",
       "      <th>6</th>\n",
       "      <td>26</td>\n",
       "      <td>2017.0</td>\n",
       "      <td>60.333333</td>\n",
       "      <td>3.0</td>\n",
       "      <td>0.000000</td>\n",
       "      <td>0.0</td>\n",
       "      <td>0.0</td>\n",
       "      <td>0.0</td>\n",
       "      <td>60.333333</td>\n",
       "      <td>1.0</td>\n",
       "      <td>...</td>\n",
       "      <td>9.166667e+05</td>\n",
       "      <td>1000000.0</td>\n",
       "      <td>Goalkeeper</td>\n",
       "      <td>NaN</td>\n",
       "      <td>Left</td>\n",
       "      <td>190.0</td>\n",
       "      <td>1980.0</td>\n",
       "      <td>37.0</td>\n",
       "      <td>Europe</td>\n",
       "      <td>0.0</td>\n",
       "    </tr>\n",
       "    <tr>\n",
       "      <th>7</th>\n",
       "      <td>26</td>\n",
       "      <td>2018.0</td>\n",
       "      <td>1.000000</td>\n",
       "      <td>1.0</td>\n",
       "      <td>0.000000</td>\n",
       "      <td>0.0</td>\n",
       "      <td>0.0</td>\n",
       "      <td>0.0</td>\n",
       "      <td>1.000000</td>\n",
       "      <td>1.0</td>\n",
       "      <td>...</td>\n",
       "      <td>NaN</td>\n",
       "      <td>NaN</td>\n",
       "      <td>Goalkeeper</td>\n",
       "      <td>NaN</td>\n",
       "      <td>Left</td>\n",
       "      <td>190.0</td>\n",
       "      <td>1980.0</td>\n",
       "      <td>38.0</td>\n",
       "      <td>Europe</td>\n",
       "      <td>0.0</td>\n",
       "    </tr>\n",
       "  </tbody>\n",
       "</table>\n",
       "<p>5 rows × 29 columns</p>\n",
       "</div>"
      ],
      "text/plain": [
       "   player_id    year  avg_game_dur  avg_games_played  avg_yellow_cards  \\\n",
       "3         26  2014.0     90.000000              17.0          0.000000   \n",
       "4         26  2015.0     90.000000              24.0          0.000000   \n",
       "5         26  2016.0     92.000000              15.0          0.066667   \n",
       "6         26  2017.0     60.333333               3.0          0.000000   \n",
       "7         26  2018.0      1.000000               1.0          0.000000   \n",
       "\n",
       "   avg_red_cards  avg_goals  avg_assists  avg_minutes_played  \\\n",
       "3            0.0        0.0          0.0           90.000000   \n",
       "4            0.0        0.0          0.0           90.000000   \n",
       "5            0.0        0.0          0.0           92.000000   \n",
       "6            0.0        0.0          0.0           60.333333   \n",
       "7            0.0        0.0          0.0            1.000000   \n",
       "\n",
       "   games_played_away  ...  mean_market_value_in_eur  max_market_value_in_eur  \\\n",
       "3               10.0  ...              5.000000e+06                5000000.0   \n",
       "4               11.0  ...              2.000000e+06                3000000.0   \n",
       "5                9.0  ...              1.000000e+06                1000000.0   \n",
       "6                1.0  ...              9.166667e+05                1000000.0   \n",
       "7                1.0  ...                       NaN                      NaN   \n",
       "\n",
       "     position  sub_position  foot  height_in_cm  year_of_birth   age  \\\n",
       "3  Goalkeeper           NaN  Left         190.0         1980.0  34.0   \n",
       "4  Goalkeeper           NaN  Left         190.0         1980.0  35.0   \n",
       "5  Goalkeeper           NaN  Left         190.0         1980.0  36.0   \n",
       "6  Goalkeeper           NaN  Left         190.0         1980.0  37.0   \n",
       "7  Goalkeeper           NaN  Left         190.0         1980.0  38.0   \n",
       "\n",
       "   continent  contribution_per_game  \n",
       "3     Europe                    0.0  \n",
       "4     Europe                    0.0  \n",
       "5     Europe                    0.0  \n",
       "6     Europe                    0.0  \n",
       "7     Europe                    0.0  \n",
       "\n",
       "[5 rows x 29 columns]"
      ]
     },
     "execution_count": 97,
     "metadata": {},
     "output_type": "execute_result"
    }
   ],
   "source": [
    "null_rows_idx = data.isnull().any(axis=1)\n",
    "data.loc[null_rows_idx].head()"
   ]
  },
  {
   "cell_type": "code",
   "execution_count": 98,
   "metadata": {},
   "outputs": [
    {
     "name": "stdout",
     "output_type": "stream",
     "text": [
      "There are 17932 rows with null values in the dataset.\n"
     ]
    }
   ],
   "source": [
    "null_counts = data.isnull().sum(axis=1)\n",
    "num_null_rows = (null_counts > 0).sum()\n",
    "\n",
    "print(f'There are {num_null_rows} rows with null values in the dataset.')"
   ]
  },
  {
   "cell_type": "markdown",
   "metadata": {},
   "source": [
    "## Advanced Imputation"
   ]
  },
  {
   "cell_type": "code",
   "execution_count": 99,
   "metadata": {},
   "outputs": [],
   "source": [
    "from sklearn.experimental import enable_iterative_imputer\n",
    "from sklearn.impute import IterativeImputer\n",
    "\n",
    "num_cols = ['win_perc','age','height_in_cm','mean_market_value_in_eur','max_market_value_in_eur']\n",
    "imputer = IterativeImputer()\n",
    "imputed = imputer.fit_transform(data[num_cols])\n",
    "data.loc[:, num_cols] = imputed"
   ]
  },
  {
   "cell_type": "code",
   "execution_count": 100,
   "metadata": {},
   "outputs": [],
   "source": [
    "from sklearn.impute import SimpleImputer\n",
    "\n",
    "# create an imputer that uses the most frequent strategy\n",
    "imputer = SimpleImputer(strategy='most_frequent')\n",
    "\n",
    "cat_cols=['continent','year_of_birth','foot','position']\n",
    "\n",
    "# fit the imputer on the data frame\n",
    "imputer.fit(data[cat_cols])\n",
    "\n",
    "# transform the data frame\n",
    "data[cat_cols] = imputer.transform(data[cat_cols])"
   ]
  },
  {
   "cell_type": "code",
   "execution_count": 101,
   "metadata": {},
   "outputs": [
    {
     "data": {
      "text/html": [
       "<div>\n",
       "<style scoped>\n",
       "    .dataframe tbody tr th:only-of-type {\n",
       "        vertical-align: middle;\n",
       "    }\n",
       "\n",
       "    .dataframe tbody tr th {\n",
       "        vertical-align: top;\n",
       "    }\n",
       "\n",
       "    .dataframe thead th {\n",
       "        text-align: right;\n",
       "    }\n",
       "</style>\n",
       "<table border=\"1\" class=\"dataframe\">\n",
       "  <thead>\n",
       "    <tr style=\"text-align: right;\">\n",
       "      <th></th>\n",
       "      <th>position</th>\n",
       "      <th>most_frequent_sub_position</th>\n",
       "    </tr>\n",
       "  </thead>\n",
       "  <tbody>\n",
       "    <tr>\n",
       "      <th>0</th>\n",
       "      <td>Attack</td>\n",
       "      <td>Centre-Forward</td>\n",
       "    </tr>\n",
       "    <tr>\n",
       "      <th>1</th>\n",
       "      <td>Defender</td>\n",
       "      <td>Centre-Back</td>\n",
       "    </tr>\n",
       "    <tr>\n",
       "      <th>2</th>\n",
       "      <td>Goalkeeper</td>\n",
       "      <td>Centre-Forward</td>\n",
       "    </tr>\n",
       "    <tr>\n",
       "      <th>3</th>\n",
       "      <td>Midfield</td>\n",
       "      <td>Central Midfield</td>\n",
       "    </tr>\n",
       "  </tbody>\n",
       "</table>\n",
       "</div>"
      ],
      "text/plain": [
       "     position most_frequent_sub_position\n",
       "0      Attack             Centre-Forward\n",
       "1    Defender                Centre-Back\n",
       "2  Goalkeeper             Centre-Forward\n",
       "3    Midfield           Central Midfield"
      ]
     },
     "execution_count": 101,
     "metadata": {},
     "output_type": "execute_result"
    }
   ],
   "source": [
    "# Filling in missing sub_position values\n",
    "\n",
    "# Grouping sub_position by position\n",
    "sub_positions_by_position = data.groupby('position')['sub_position'].apply(list)\n",
    "\n",
    "# Finding the most frequent sub_position for each position\n",
    "sub_positions_count_by_position = sub_positions_by_position.apply(lambda x: pd.Series(x).value_counts()).fillna(0).astype(int)\n",
    "sub_positions_count_by_position_dict = sub_positions_count_by_position.to_dict()\n",
    "\n",
    "# Finding the most frequent sub_position for each position\n",
    "most_frequent_sub_positions_by_position = sub_positions_count_by_position.idxmax(axis=1)\n",
    "\n",
    "# Creating a new DataFrame with position and most frequent sub_position columns\n",
    "df = pd.DataFrame({'position': most_frequent_sub_positions_by_position.index,\n",
    "                   'most_frequent_sub_position': most_frequent_sub_positions_by_position.values})\n",
    "\n",
    "df"
   ]
  },
  {
   "cell_type": "code",
   "execution_count": 102,
   "metadata": {},
   "outputs": [],
   "source": [
    "df_merged = df.merge(sub_positions_count_by_position, left_on='position', right_index=True)\n",
    "most_frequent_sub_positions_dict = df_merged.set_index('position')['most_frequent_sub_position'].to_dict()\n",
    "\n",
    "# Replace sub_position null values with most frequent sub_positions for their corresponding positions\n",
    "data['sub_position'] = data.apply(lambda row: most_frequent_sub_positions_dict[row['position']] if pd.isnull(row['sub_position']) else row['sub_position'], axis=1)"
   ]
  },
  {
   "cell_type": "code",
   "execution_count": 103,
   "metadata": {},
   "outputs": [
    {
     "name": "stdout",
     "output_type": "stream",
     "text": [
      "There are 0 null values in the sub_position column\n"
     ]
    }
   ],
   "source": [
    "# Just to be sure that all worked, count the number of null values in the sub_position column\n",
    "num_null_values = data['sub_position'].isnull().sum()\n",
    "\n",
    "print(f\"There are {num_null_values} null values in the sub_position column\")"
   ]
  },
  {
   "cell_type": "code",
   "execution_count": 104,
   "metadata": {},
   "outputs": [
    {
     "name": "stdout",
     "output_type": "stream",
     "text": [
      "There are 0 rows with null values in the dataset.\n"
     ]
    }
   ],
   "source": [
    "# Just to make sure eveyrthing worked\n",
    "null_counts = data.isnull().sum(axis=1)\n",
    "num_null_rows = (null_counts > 0).sum()\n",
    "\n",
    "print(f'There are {num_null_rows} rows with null values in the dataset.')"
   ]
  },
  {
   "cell_type": "markdown",
   "metadata": {},
   "source": [
    "## Handling Text and Categorical Attributes"
   ]
  },
  {
   "cell_type": "code",
   "execution_count": 105,
   "metadata": {},
   "outputs": [],
   "source": [
    "import pandas as pd\n",
    "import torch\n",
    "import torch.nn as nn\n",
    "from sklearn.preprocessing import LabelEncoder"
   ]
  },
  {
   "cell_type": "markdown",
   "metadata": {},
   "source": [
    "## Entity Embedding"
   ]
  },
  {
   "cell_type": "code",
   "execution_count": 106,
   "metadata": {},
   "outputs": [],
   "source": [
    "cat_cols=['continent','position','sub_position']\n",
    "\n",
    "for i in cat_cols:  \n",
    "    \n",
    "    le = LabelEncoder()\n",
    "    data[i] = le.fit_transform(data[i])\n",
    "\n",
    "    # Define the number of categories and the embedding size\n",
    "    num_categories = data[i].nunique()\n",
    "    embedding_dim = data[i].nunique()//2\n",
    "\n",
    "    # Create a tensor of categorical values\n",
    "    categorical_column = torch.randint(low=0, high=num_categories, size=(len(data[i]),))\n",
    "\n",
    "    # Create the embedding layer\n",
    "    embedding_layer = nn.Embedding(num_embeddings=num_categories, embedding_dim=embedding_dim)\n",
    "\n",
    "    # Apply the embedding layer to the categorical column\n",
    "    embedded_column = embedding_layer(categorical_column)\n",
    "\n",
    "    embedded_df = pd.DataFrame(embedded_column.detach().numpy(), columns=[i+f'_embed_{j}' for j in range(embedding_dim)])\n",
    "\n",
    "    # Replace the original categorical column with the embedded DataFrame\n",
    "    data = pd.concat([data.drop(i, axis=1), embedded_df], axis=1)"
   ]
  },
  {
   "cell_type": "markdown",
   "metadata": {},
   "source": [
    "## One Hot Encoding"
   ]
  },
  {
   "cell_type": "code",
   "execution_count": 107,
   "metadata": {},
   "outputs": [],
   "source": [
    "data.drop(columns='year_of_birth',inplace=True)\n",
    "dummy_vars = pd.get_dummies(data['foot'],drop_first=True,prefix='foot')\n",
    "\n",
    "data = pd.concat([data, dummy_vars], axis=1)\n",
    "data.drop(columns='foot',inplace=True)"
   ]
  },
  {
   "cell_type": "markdown",
   "metadata": {},
   "source": [
    "# Eliminate the ID columns"
   ]
  },
  {
   "cell_type": "code",
   "execution_count": 108,
   "metadata": {},
   "outputs": [],
   "source": [
    "data = data.drop(columns = \"player_id\")"
   ]
  },
  {
   "cell_type": "markdown",
   "metadata": {},
   "source": [
    "# Clustering"
   ]
  },
  {
   "cell_type": "code",
   "execution_count": 109,
   "metadata": {},
   "outputs": [],
   "source": [
    "y = data['mean_market_value_in_eur']\n",
    "X = data.drop(columns=['mean_market_value_in_eur','max_market_value_in_eur'])\n"
   ]
  },
  {
   "cell_type": "markdown",
   "metadata": {},
   "source": [
    "## DBSCAN"
   ]
  },
  {
   "cell_type": "code",
   "execution_count": 110,
   "metadata": {},
   "outputs": [],
   "source": [
    "## Find the optimal number of eps\n",
    "import numpy as np\n",
    "from sklearn.neighbors import NearestNeighbors\n",
    "# n_neighbors = 5 as kneighbors function returns distance of point to itself (i.e. first column will be zeros) \n",
    "nbrs = NearestNeighbors(n_neighbors = 5).fit(X_std)\n",
    "# Find the k-neighbors of a point\n",
    "neigh_dist, neigh_ind = nbrs.kneighbors(X_std)\n",
    "# sort the neighbor distances (lengths to points) in ascending order\n",
    "# axis = 0 represents sort along first axis i.e. sort along row\n",
    "sort_neigh_dist = np.sort(neigh_dist, axis = 0)"
   ]
  },
  {
   "cell_type": "code",
   "execution_count": 111,
   "metadata": {},
   "outputs": [
    {
     "data": {
      "image/png": "[encoded data removed]",
      "text/plain": [
       "<Figure size 640x480 with 1 Axes>"
      ]
     },
     "metadata": {},
     "output_type": "display_data"
    }
   ],
   "source": [
    "import matplotlib.pyplot as plt\n",
    "k_dist = sort_neigh_dist[:, 4]\n",
    "plt.plot(k_dist)\n",
    "plt.ylabel(\"k-NN distance\")\n",
    "plt.xlabel(\"Sorted observations (4th NN)\")\n",
    "plt.show()"
   ]
  },
  {
   "cell_type": "code",
   "execution_count": 112,
   "metadata": {},
   "outputs": [
    {
     "data": {
      "text/plain": [
       "150"
      ]
     },
     "execution_count": 112,
     "metadata": {},
     "output_type": "execute_result"
    }
   ],
   "source": [
    "from sklearn.cluster import DBSCAN\n",
    "\n",
    "#Try eps = 3\n",
    "dbscan = DBSCAN(eps=3, min_samples=4)\n",
    "clusters = dbscan.fit(X_std)\n",
    "labels = clusters.labels_\n",
    "n_clusters_ = len(set(labels)) - (1 if -1 in labels else 0)\n",
    "n_clusters_"
   ]
  },
  {
   "cell_type": "code",
   "execution_count": 113,
   "metadata": {},
   "outputs": [
    {
     "data": {
      "text/plain": [
       "28"
      ]
     },
     "execution_count": 113,
     "metadata": {},
     "output_type": "execute_result"
    }
   ],
   "source": [
    "#Try eps = 4\n",
    "dbscan = DBSCAN(eps=4, min_samples=4)\n",
    "clusters = dbscan.fit(X_std)\n",
    "labels = clusters.labels_\n",
    "n_clusters_ = len(set(labels)) - (1 if -1 in labels else 0)\n",
    "n_clusters_\n"
   ]
  },
  {
   "cell_type": "code",
   "execution_count": 114,
   "metadata": {},
   "outputs": [
    {
     "data": {
      "text/plain": [
       "Counter({0: 63695,\n",
       "         1: 689,\n",
       "         -1: 476,\n",
       "         8: 7,\n",
       "         3: 7,\n",
       "         6: 23,\n",
       "         2: 5,\n",
       "         4: 6,\n",
       "         5: 12,\n",
       "         7: 4})"
      ]
     },
     "execution_count": 114,
     "metadata": {},
     "output_type": "execute_result"
    }
   ],
   "source": [
    "#Try eps = 5\n",
    "dbscan = DBSCAN(eps=5, min_samples=4)\n",
    "clusters = dbscan.fit(X_std)\n",
    "labels = clusters.labels_\n",
    "n_clusters_ = len(set(labels)) - (1 if -1 in labels else 0)\n",
    "n_clusters_\n",
    "from collections import Counter\n",
    "Counter(clusters.labels_)"
   ]
  },
  {
   "cell_type": "code",
   "execution_count": 115,
   "metadata": {},
   "outputs": [],
   "source": [
    "# Add cluster labels to the dataset\n",
    "data['cluster_label'] = labels"
   ]
  },
  {
   "cell_type": "markdown",
   "metadata": {},
   "source": [
    "## Data Leakage Analysis\n",
    "\n",
    "Analyse how the performance changes between train, validation and test set - Rohana/Hai\n",
    "\n",
    "Do post modelling"
   ]
  },
  {
   "cell_type": "markdown",
   "metadata": {},
   "source": [
    "### Split data"
   ]
  },
  {
   "cell_type": "code",
   "execution_count": 116,
   "metadata": {},
   "outputs": [
    {
     "name": "stdout",
     "output_type": "stream",
     "text": [
      "The length of train set is:  45447\n",
      "The length of valid set is:  19477\n"
     ]
    }
   ],
   "source": [
    "import numpy as np\n",
    "\n",
    "def split_train_test(data, test_ratio):\n",
    "    shuffled_indices = np.random.permutation(len(data))\n",
    "    test_set_size = int(len(data) * test_ratio)\n",
    "    test_indices = shuffled_indices[:test_set_size]\n",
    "    train_indices = shuffled_indices[test_set_size:]\n",
    "    return data.iloc[train_indices], data.iloc[test_indices]\n",
    "\n",
    "train_set,valid_set=split_train_test(data,0.3)\n",
    "print(\"The length of train set is: \",len(train_set))\n",
    "print(\"The length of valid set is: \",len(valid_set))\n",
    "\n"
   ]
  },
  {
   "cell_type": "code",
   "execution_count": 117,
   "metadata": {},
   "outputs": [
    {
     "name": "stdout",
     "output_type": "stream",
     "text": [
      "The length of valid set is:  11687\n",
      "The length of test set is:  7790\n"
     ]
    },
    {
     "data": {
      "text/plain": [
       "((45447, 37), (7790, 37))"
      ]
     },
     "execution_count": 117,
     "metadata": {},
     "output_type": "execute_result"
    }
   ],
   "source": [
    "valid_set,test_set=split_train_test(valid_set,0.4)\n",
    "print(\"The length of valid set is: \",len(valid_set))\n",
    "print(\"The length of test set is: \",len(test_set))\n",
    "train_set.shape, test_set.shape"
   ]
  },
  {
   "cell_type": "code",
   "execution_count": 118,
   "metadata": {},
   "outputs": [],
   "source": [
    "#Separate Features and Target\n",
    "y_test = test_set['mean_market_value_in_eur']\n",
    "X_test = test_set.drop(columns=['mean_market_value_in_eur','max_market_value_in_eur'])\n"
   ]
  },
  {
   "cell_type": "markdown",
   "metadata": {},
   "source": [
    "Separate Predictors and Target Variable\n"
   ]
  },
  {
   "cell_type": "code",
   "execution_count": 119,
   "metadata": {},
   "outputs": [],
   "source": [
    "y_train = train_set['mean_market_value_in_eur']\n",
    "X_train = train_set.drop(columns=['mean_market_value_in_eur','max_market_value_in_eur']) ##taking anything related to market value to avoid data leakage\n",
    "y_valid = valid_set['mean_market_value_in_eur']\n",
    "X_valid= valid_set.drop(columns=['mean_market_value_in_eur','max_market_value_in_eur']) ##t"
   ]
  },
  {
   "cell_type": "markdown",
   "metadata": {},
   "source": [
    "Standardize Data"
   ]
  },
  {
   "cell_type": "code",
   "execution_count": 120,
   "metadata": {},
   "outputs": [],
   "source": [
    "from sklearn.preprocessing import StandardScaler\n",
    "sc = StandardScaler()\n",
    "X_train_std = sc.fit_transform(X_train)\n",
    "X_valid_std = sc.transform(X_valid)\n",
    "X_test_std = sc.transform(X_test)\n",
    "#X_std = sc.fit_transform(X)\n",
    "#X_std = pd.DataFrame(X_std,columns = X.columns)\n",
    "X_valid_std = pd.DataFrame(X_valid_std,columns = X_valid.columns)\n",
    "X_train_std = pd.DataFrame(X_train_std,columns = X_train.columns)\n",
    "X_test_std = pd.DataFrame(X_test_std,columns = X_test.columns)\n"
   ]
  },
  {
   "cell_type": "code",
   "execution_count": 121,
   "metadata": {},
   "outputs": [
    {
     "data": {
      "text/html": [
       "<div>\n",
       "<style scoped>\n",
       "    .dataframe tbody tr th:only-of-type {\n",
       "        vertical-align: middle;\n",
       "    }\n",
       "\n",
       "    .dataframe tbody tr th {\n",
       "        vertical-align: top;\n",
       "    }\n",
       "\n",
       "    .dataframe thead th {\n",
       "        text-align: right;\n",
       "    }\n",
       "</style>\n",
       "<table border=\"1\" class=\"dataframe\">\n",
       "  <thead>\n",
       "    <tr style=\"text-align: right;\">\n",
       "      <th></th>\n",
       "      <th>predictor</th>\n",
       "      <th>feature importance</th>\n",
       "    </tr>\n",
       "  </thead>\n",
       "  <tbody>\n",
       "    <tr>\n",
       "      <th>34</th>\n",
       "      <td>cluster_label</td>\n",
       "      <td>0.001390</td>\n",
       "    </tr>\n",
       "    <tr>\n",
       "      <th>33</th>\n",
       "      <td>foot_Right</td>\n",
       "      <td>0.001647</td>\n",
       "    </tr>\n",
       "    <tr>\n",
       "      <th>32</th>\n",
       "      <td>foot_Left</td>\n",
       "      <td>0.001656</td>\n",
       "    </tr>\n",
       "    <tr>\n",
       "      <th>4</th>\n",
       "      <td>avg_red_cards</td>\n",
       "      <td>0.003085</td>\n",
       "    </tr>\n",
       "    <tr>\n",
       "      <th>24</th>\n",
       "      <td>position_embed_0</td>\n",
       "      <td>0.003809</td>\n",
       "    </tr>\n",
       "    <tr>\n",
       "      <th>25</th>\n",
       "      <td>position_embed_1</td>\n",
       "      <td>0.003951</td>\n",
       "    </tr>\n",
       "    <tr>\n",
       "      <th>23</th>\n",
       "      <td>continent_embed_2</td>\n",
       "      <td>0.004770</td>\n",
       "    </tr>\n",
       "    <tr>\n",
       "      <th>22</th>\n",
       "      <td>continent_embed_1</td>\n",
       "      <td>0.005055</td>\n",
       "    </tr>\n",
       "    <tr>\n",
       "      <th>21</th>\n",
       "      <td>continent_embed_0</td>\n",
       "      <td>0.005709</td>\n",
       "    </tr>\n",
       "    <tr>\n",
       "      <th>29</th>\n",
       "      <td>sub_position_embed_3</td>\n",
       "      <td>0.006345</td>\n",
       "    </tr>\n",
       "    <tr>\n",
       "      <th>26</th>\n",
       "      <td>sub_position_embed_0</td>\n",
       "      <td>0.006434</td>\n",
       "    </tr>\n",
       "    <tr>\n",
       "      <th>30</th>\n",
       "      <td>sub_position_embed_4</td>\n",
       "      <td>0.006604</td>\n",
       "    </tr>\n",
       "    <tr>\n",
       "      <th>31</th>\n",
       "      <td>sub_position_embed_5</td>\n",
       "      <td>0.006627</td>\n",
       "    </tr>\n",
       "    <tr>\n",
       "      <th>27</th>\n",
       "      <td>sub_position_embed_1</td>\n",
       "      <td>0.007400</td>\n",
       "    </tr>\n",
       "    <tr>\n",
       "      <th>16</th>\n",
       "      <td>games_played_other</td>\n",
       "      <td>0.007592</td>\n",
       "    </tr>\n",
       "    <tr>\n",
       "      <th>28</th>\n",
       "      <td>sub_position_embed_2</td>\n",
       "      <td>0.007617</td>\n",
       "    </tr>\n",
       "    <tr>\n",
       "      <th>13</th>\n",
       "      <td>games_player_domestic_cup</td>\n",
       "      <td>0.008033</td>\n",
       "    </tr>\n",
       "    <tr>\n",
       "      <th>1</th>\n",
       "      <td>avg_game_dur</td>\n",
       "      <td>0.012345</td>\n",
       "    </tr>\n",
       "    <tr>\n",
       "      <th>7</th>\n",
       "      <td>avg_minutes_played</td>\n",
       "      <td>0.013112</td>\n",
       "    </tr>\n",
       "    <tr>\n",
       "      <th>3</th>\n",
       "      <td>avg_yellow_cards</td>\n",
       "      <td>0.014756</td>\n",
       "    </tr>\n",
       "    <tr>\n",
       "      <th>10</th>\n",
       "      <td>away_win_percentage</td>\n",
       "      <td>0.015859</td>\n",
       "    </tr>\n",
       "    <tr>\n",
       "      <th>8</th>\n",
       "      <td>games_played_away</td>\n",
       "      <td>0.016057</td>\n",
       "    </tr>\n",
       "    <tr>\n",
       "      <th>14</th>\n",
       "      <td>games_played_domestic_league</td>\n",
       "      <td>0.018732</td>\n",
       "    </tr>\n",
       "    <tr>\n",
       "      <th>6</th>\n",
       "      <td>avg_assists</td>\n",
       "      <td>0.020216</td>\n",
       "    </tr>\n",
       "    <tr>\n",
       "      <th>11</th>\n",
       "      <td>home_win_percentage</td>\n",
       "      <td>0.020406</td>\n",
       "    </tr>\n",
       "    <tr>\n",
       "      <th>18</th>\n",
       "      <td>height_in_cm</td>\n",
       "      <td>0.020505</td>\n",
       "    </tr>\n",
       "    <tr>\n",
       "      <th>9</th>\n",
       "      <td>games_played_home</td>\n",
       "      <td>0.022206</td>\n",
       "    </tr>\n",
       "    <tr>\n",
       "      <th>12</th>\n",
       "      <td>win_perc</td>\n",
       "      <td>0.024583</td>\n",
       "    </tr>\n",
       "    <tr>\n",
       "      <th>5</th>\n",
       "      <td>avg_goals</td>\n",
       "      <td>0.036895</td>\n",
       "    </tr>\n",
       "    <tr>\n",
       "      <th>19</th>\n",
       "      <td>age</td>\n",
       "      <td>0.049958</td>\n",
       "    </tr>\n",
       "    <tr>\n",
       "      <th>0</th>\n",
       "      <td>year</td>\n",
       "      <td>0.081918</td>\n",
       "    </tr>\n",
       "    <tr>\n",
       "      <th>2</th>\n",
       "      <td>avg_games_played</td>\n",
       "      <td>0.097295</td>\n",
       "    </tr>\n",
       "    <tr>\n",
       "      <th>20</th>\n",
       "      <td>contribution_per_game</td>\n",
       "      <td>0.106192</td>\n",
       "    </tr>\n",
       "    <tr>\n",
       "      <th>15</th>\n",
       "      <td>games_player_international_cup</td>\n",
       "      <td>0.125700</td>\n",
       "    </tr>\n",
       "    <tr>\n",
       "      <th>17</th>\n",
       "      <td>player_avg_game_attendance</td>\n",
       "      <td>0.215541</td>\n",
       "    </tr>\n",
       "  </tbody>\n",
       "</table>\n",
       "</div>"
      ],
      "text/plain": [
       "                         predictor  feature importance\n",
       "34                   cluster_label            0.001390\n",
       "33                      foot_Right            0.001647\n",
       "32                       foot_Left            0.001656\n",
       "4                    avg_red_cards            0.003085\n",
       "24                position_embed_0            0.003809\n",
       "25                position_embed_1            0.003951\n",
       "23               continent_embed_2            0.004770\n",
       "22               continent_embed_1            0.005055\n",
       "21               continent_embed_0            0.005709\n",
       "29            sub_position_embed_3            0.006345\n",
       "26            sub_position_embed_0            0.006434\n",
       "30            sub_position_embed_4            0.006604\n",
       "31            sub_position_embed_5            0.006627\n",
       "27            sub_position_embed_1            0.007400\n",
       "16              games_played_other            0.007592\n",
       "28            sub_position_embed_2            0.007617\n",
       "13       games_player_domestic_cup            0.008033\n",
       "1                     avg_game_dur            0.012345\n",
       "7               avg_minutes_played            0.013112\n",
       "3                 avg_yellow_cards            0.014756\n",
       "10             away_win_percentage            0.015859\n",
       "8                games_played_away            0.016057\n",
       "14    games_played_domestic_league            0.018732\n",
       "6                      avg_assists            0.020216\n",
       "11             home_win_percentage            0.020406\n",
       "18                    height_in_cm            0.020505\n",
       "9                games_played_home            0.022206\n",
       "12                        win_perc            0.024583\n",
       "5                        avg_goals            0.036895\n",
       "19                             age            0.049958\n",
       "0                             year            0.081918\n",
       "2                 avg_games_played            0.097295\n",
       "20           contribution_per_game            0.106192\n",
       "15  games_player_international_cup            0.125700\n",
       "17      player_avg_game_attendance            0.215541"
      ]
     },
     "execution_count": 121,
     "metadata": {},
     "output_type": "execute_result"
    }
   ],
   "source": [
    "from sklearn.ensemble import RandomForestRegressor\n",
    "randomforest = RandomForestRegressor(random_state=0)\n",
    "model = randomforest.fit(X_train_std,y_train)\n",
    "model.feature_importances_\n",
    "pd.DataFrame(list(zip(X_train.columns,model.feature_importances_)), columns=['predictor', 'feature importance']).sort_values(\"feature importance\")\n"
   ]
  },
  {
   "cell_type": "code",
   "execution_count": 122,
   "metadata": {},
   "outputs": [
    {
     "data": {
      "text/html": [
       "<div>\n",
       "<style scoped>\n",
       "    .dataframe tbody tr th:only-of-type {\n",
       "        vertical-align: middle;\n",
       "    }\n",
       "\n",
       "    .dataframe tbody tr th {\n",
       "        vertical-align: top;\n",
       "    }\n",
       "\n",
       "    .dataframe thead th {\n",
       "        text-align: right;\n",
       "    }\n",
       "</style>\n",
       "<table border=\"1\" class=\"dataframe\">\n",
       "  <thead>\n",
       "    <tr style=\"text-align: right;\">\n",
       "      <th></th>\n",
       "      <th>predictor</th>\n",
       "      <th>feature importance</th>\n",
       "    </tr>\n",
       "  </thead>\n",
       "  <tbody>\n",
       "    <tr>\n",
       "      <th>28</th>\n",
       "      <td>sub_position_embed_2</td>\n",
       "      <td>0.007617</td>\n",
       "    </tr>\n",
       "    <tr>\n",
       "      <th>13</th>\n",
       "      <td>games_player_domestic_cup</td>\n",
       "      <td>0.008033</td>\n",
       "    </tr>\n",
       "    <tr>\n",
       "      <th>1</th>\n",
       "      <td>avg_game_dur</td>\n",
       "      <td>0.012345</td>\n",
       "    </tr>\n",
       "    <tr>\n",
       "      <th>7</th>\n",
       "      <td>avg_minutes_played</td>\n",
       "      <td>0.013112</td>\n",
       "    </tr>\n",
       "    <tr>\n",
       "      <th>3</th>\n",
       "      <td>avg_yellow_cards</td>\n",
       "      <td>0.014756</td>\n",
       "    </tr>\n",
       "    <tr>\n",
       "      <th>10</th>\n",
       "      <td>away_win_percentage</td>\n",
       "      <td>0.015859</td>\n",
       "    </tr>\n",
       "    <tr>\n",
       "      <th>8</th>\n",
       "      <td>games_played_away</td>\n",
       "      <td>0.016057</td>\n",
       "    </tr>\n",
       "    <tr>\n",
       "      <th>14</th>\n",
       "      <td>games_played_domestic_league</td>\n",
       "      <td>0.018732</td>\n",
       "    </tr>\n",
       "    <tr>\n",
       "      <th>6</th>\n",
       "      <td>avg_assists</td>\n",
       "      <td>0.020216</td>\n",
       "    </tr>\n",
       "    <tr>\n",
       "      <th>11</th>\n",
       "      <td>home_win_percentage</td>\n",
       "      <td>0.020406</td>\n",
       "    </tr>\n",
       "    <tr>\n",
       "      <th>18</th>\n",
       "      <td>height_in_cm</td>\n",
       "      <td>0.020505</td>\n",
       "    </tr>\n",
       "    <tr>\n",
       "      <th>9</th>\n",
       "      <td>games_played_home</td>\n",
       "      <td>0.022206</td>\n",
       "    </tr>\n",
       "    <tr>\n",
       "      <th>12</th>\n",
       "      <td>win_perc</td>\n",
       "      <td>0.024583</td>\n",
       "    </tr>\n",
       "    <tr>\n",
       "      <th>5</th>\n",
       "      <td>avg_goals</td>\n",
       "      <td>0.036895</td>\n",
       "    </tr>\n",
       "    <tr>\n",
       "      <th>19</th>\n",
       "      <td>age</td>\n",
       "      <td>0.049958</td>\n",
       "    </tr>\n",
       "    <tr>\n",
       "      <th>0</th>\n",
       "      <td>year</td>\n",
       "      <td>0.081918</td>\n",
       "    </tr>\n",
       "    <tr>\n",
       "      <th>2</th>\n",
       "      <td>avg_games_played</td>\n",
       "      <td>0.097295</td>\n",
       "    </tr>\n",
       "    <tr>\n",
       "      <th>20</th>\n",
       "      <td>contribution_per_game</td>\n",
       "      <td>0.106192</td>\n",
       "    </tr>\n",
       "    <tr>\n",
       "      <th>15</th>\n",
       "      <td>games_player_international_cup</td>\n",
       "      <td>0.125700</td>\n",
       "    </tr>\n",
       "    <tr>\n",
       "      <th>17</th>\n",
       "      <td>player_avg_game_attendance</td>\n",
       "      <td>0.215541</td>\n",
       "    </tr>\n",
       "  </tbody>\n",
       "</table>\n",
       "</div>"
      ],
      "text/plain": [
       "                         predictor  feature importance\n",
       "28            sub_position_embed_2            0.007617\n",
       "13       games_player_domestic_cup            0.008033\n",
       "1                     avg_game_dur            0.012345\n",
       "7               avg_minutes_played            0.013112\n",
       "3                 avg_yellow_cards            0.014756\n",
       "10             away_win_percentage            0.015859\n",
       "8                games_played_away            0.016057\n",
       "14    games_played_domestic_league            0.018732\n",
       "6                      avg_assists            0.020216\n",
       "11             home_win_percentage            0.020406\n",
       "18                    height_in_cm            0.020505\n",
       "9                games_played_home            0.022206\n",
       "12                        win_perc            0.024583\n",
       "5                        avg_goals            0.036895\n",
       "19                             age            0.049958\n",
       "0                             year            0.081918\n",
       "2                 avg_games_played            0.097295\n",
       "20           contribution_per_game            0.106192\n",
       "15  games_player_international_cup            0.125700\n",
       "17      player_avg_game_attendance            0.215541"
      ]
     },
     "execution_count": 122,
     "metadata": {},
     "output_type": "execute_result"
    }
   ],
   "source": [
    "model_features = pd.DataFrame(list(zip(X_train_std.columns,model.feature_importances_)), columns = ['predictor','feature importance']).sort_values(\"feature importance\")\n",
    "model_features.tail(20)"
   ]
  },
  {
   "cell_type": "markdown",
   "metadata": {},
   "source": [
    "## SHOULD DO Recursive Feature Elimination or so"
   ]
  },
  {
   "cell_type": "code",
   "execution_count": 124,
   "metadata": {},
   "outputs": [
    {
     "name": "stdout",
     "output_type": "stream",
     "text": [
      "[ 1  1  1  1 13  1  1  1  1  1  1  1  1  3  1  1  5  1  1  1  1  9  4 11\n",
      " 12 10  7  1  1  8  6  2 15 14 16]\n"
     ]
    }
   ],
   "source": [
    "from sklearn.feature_selection import RFE\n",
    "rfe = RFE(randomforest, n_features_to_select = 20)\n",
    "rfe.fit(X_train_std, y_train)\n",
    "print(rfe.ranking_)"
   ]
  },
  {
   "cell_type": "code",
   "execution_count": 125,
   "metadata": {},
   "outputs": [
    {
     "name": "stdout",
     "output_type": "stream",
     "text": [
      "Important features: ['year', 'avg_game_dur', 'avg_games_played', 'avg_yellow_cards', 'avg_goals', 'avg_assists', 'avg_minutes_played', 'games_played_away', 'games_played_home', 'away_win_percentage', 'home_win_percentage', 'win_perc', 'games_played_domestic_league', 'games_player_international_cup', 'player_avg_game_attendance', 'height_in_cm', 'age', 'contribution_per_game', 'sub_position_embed_1', 'sub_position_embed_2']\n"
     ]
    }
   ],
   "source": [
    "# Define the feature names\n",
    "feature_names = X_train_std.columns.tolist()\n",
    "# Print the names of the important features\n",
    "important_features = [i for i, x in enumerate(rfe.support_) if x]\n",
    "selected_features = [feature_names[i] for i in important_features]\n",
    "print(\"Important features:\", selected_features)"
   ]
  },
  {
   "cell_type": "code",
   "execution_count": 126,
   "metadata": {},
   "outputs": [],
   "source": [
    "X_train_std = X_train_std[selected_features]\n",
    "X_valid_std = X_valid_std[selected_features]\n",
    "X_test_std = X_test_std[selected_features]"
   ]
  },
  {
   "cell_type": "markdown",
   "metadata": {},
   "source": [
    "### PCA"
   ]
  },
  {
   "cell_type": "code",
   "execution_count": 136,
   "metadata": {},
   "outputs": [],
   "source": [
    "from sklearn.decomposition import PCA\n",
    "\n",
    "# Perform PCA on the training set\n",
    "pca = PCA(n_components=X_train_std.shape[1])\n",
    "X_train_pca = pca.fit_transform(X_train_std)\n",
    "\n",
    "# Choose the number of components that explain at least 80% of the variance\n",
    "cumulative_variance_ratio = pca.explained_variance_ratio_.cumsum()\n",
    "n_components = len(cumulative_variance_ratio[cumulative_variance_ratio <= 0.8])\n",
    "# Fit the PCA object with the selected number of components\n",
    "pca = PCA(n_components=n_components)\n",
    "X_train_pca = pca.fit_transform(X_train_std)\n",
    "X_test_pca = pca.fit_transform(X_test_std)\n",
    "X_valid_pca = pca.fit_transform(X_valid_std)"
   ]
  },
  {
   "cell_type": "code",
   "execution_count": 135,
   "metadata": {},
   "outputs": [
    {
     "data": {
      "text/plain": [
       "8"
      ]
     },
     "execution_count": 135,
     "metadata": {},
     "output_type": "execute_result"
    }
   ],
   "source": [
    "n_components"
   ]
  },
  {
   "cell_type": "code",
   "execution_count": 97,
   "metadata": {},
   "outputs": [
    {
     "data": {
      "text/plain": [
       "Text(0, 0.5, 'Second Principal Component')"
      ]
     },
     "execution_count": 97,
     "metadata": {},
     "output_type": "execute_result"
    },
    {
     "data": {
      "image/png": "[encoded data removed]",
      "text/plain": [
       "<Figure size 800x600 with 1 Axes>"
      ]
     },
     "metadata": {},
     "output_type": "display_data"
    }
   ],
   "source": [
    "#from sklearn.decomposition import PCA\n",
    "#scaler = StandardScaler()\n",
    "#scaler.fit(train_set)\n",
    "#scaled_data = scaler.transform(train_set)\n",
    "#pca = PCA(n_components=2)\n",
    "#pca.fit(scaled_data)\n",
    "#x_pca = pca.transform(scaled_data)\n",
    "#plt.figure(figsize=(8,6))\n",
    "#plt.scatter(x_pca[:,0],x_pca[:,1],c=train_set['mean_market_value_in_eur'],cmap='tab20b')\n",
    "#plt.xlabel('First principal component')\n",
    "#plt.ylabel('Second Principal Component')"
   ]
  },
  {
   "cell_type": "code",
   "execution_count": 98,
   "metadata": {},
   "outputs": [
    {
     "data": {
      "text/plain": [
       "<AxesSubplot:>"
      ]
     },
     "execution_count": 98,
     "metadata": {},
     "output_type": "execute_result"
    },
    {
     "data": {
      "image/png": "[encoded data removed]",
      "text/plain": [
       "<Figure size 1200x600 with 2 Axes>"
      ]
     },
     "metadata": {},
     "output_type": "display_data"
    }
   ],
   "source": [
    "#import seaborn as sns\n",
    "#map= pd.DataFrame(pca.components_,columns=train_set.columns)\n",
    "#plt.figure(figsize=(12,6))\n",
    "#sns.heatmap(map,cmap='twilight')"
   ]
  },
  {
   "cell_type": "markdown",
   "metadata": {},
   "source": [
    "### Supervised Learning/ AutoML"
   ]
  },
  {
   "cell_type": "code",
   "execution_count": 99,
   "metadata": {},
   "outputs": [],
   "source": [
    "# !pip install h2o\n",
    "# --upgrade pip\n",
    "\n"
   ]
  },
  {
   "cell_type": "code",
   "execution_count": 100,
   "metadata": {},
   "outputs": [
    {
     "ename": "ModuleNotFoundError",
     "evalue": "No module named 'h2o'",
     "output_type": "error",
     "traceback": [
      "\u001b[1;31m---------------------------------------------------------------------------\u001b[0m",
      "\u001b[1;31mModuleNotFoundError\u001b[0m                       Traceback (most recent call last)",
      "\u001b[1;32m~\\AppData\\Local\\Temp\\ipykernel_17296\\1612707239.py\u001b[0m in \u001b[0;36m<module>\u001b[1;34m\u001b[0m\n\u001b[1;32m----> 1\u001b[1;33m \u001b[1;32mimport\u001b[0m \u001b[0mh2o\u001b[0m\u001b[1;33m\u001b[0m\u001b[1;33m\u001b[0m\u001b[0m\n\u001b[0m\u001b[0;32m      2\u001b[0m \u001b[1;31m# from h2o.automl import H2OAutoML\u001b[0m\u001b[1;33m\u001b[0m\u001b[1;33m\u001b[0m\u001b[0m\n\u001b[0;32m      3\u001b[0m \u001b[1;31m# # initialize the h2o session\u001b[0m\u001b[1;33m\u001b[0m\u001b[1;33m\u001b[0m\u001b[0m\n\u001b[0;32m      4\u001b[0m \u001b[1;31m# h2o.init()\u001b[0m\u001b[1;33m\u001b[0m\u001b[1;33m\u001b[0m\u001b[0m\n\u001b[0;32m      5\u001b[0m \u001b[1;31m# load an h2o DataFrame from pandas DataFrame.\u001b[0m\u001b[1;33m\u001b[0m\u001b[1;33m\u001b[0m\u001b[0m\n",
      "\u001b[1;31mModuleNotFoundError\u001b[0m: No module named 'h2o'"
     ]
    }
   ],
   "source": [
    "import h2o\n",
    "# from h2o.automl import H2OAutoML\n",
    "# # initialize the h2o session\n",
    "# h2o.init()\n",
    "# load an h2o DataFrame from pandas DataFrame."
   ]
  },
  {
   "cell_type": "code",
   "execution_count": null,
   "metadata": {},
   "outputs": [],
   "source": [
    "from h2o.automl import H2OAutoML"
   ]
  },
  {
   "cell_type": "code",
   "execution_count": null,
   "metadata": {},
   "outputs": [],
   "source": [
    "h2o.init()"
   ]
  },
  {
   "cell_type": "code",
   "execution_count": null,
   "metadata": {},
   "outputs": [],
   "source": [
    "train_set.to_csv('automl_train.csv')\n",
    "train_set.info()"
   ]
  },
  {
   "cell_type": "code",
   "execution_count": null,
   "metadata": {},
   "outputs": [],
   "source": [
    "df_test = h2o.import_file('automl_train.csv')\n",
    "\n",
    "x = list(train_set.describe().columns)\n",
    "x.remove('mean_market_value_in_eur')\n",
    "x.remove('max_market_value_in_eur')\n",
    "aml = H2OAutoML(max_models=10, seed=1)"
   ]
  },
  {
   "cell_type": "code",
   "execution_count": null,
   "metadata": {},
   "outputs": [],
   "source": [
    "df_test"
   ]
  },
  {
   "cell_type": "code",
   "execution_count": null,
   "metadata": {},
   "outputs": [],
   "source": [
    "pred=aml.train(x=x, y='mean_market_value_in_eur', training_frame=df_test)\n",
    "lb = aml.leaderboard # Leader board\n",
    "print(lb.head(rows=lb.nrows)) # print leader board"
   ]
  },
  {
   "cell_type": "code",
   "execution_count": null,
   "metadata": {},
   "outputs": [],
   "source": [
    "valid_set.to_csv('for_automl_test.csv')\n"
   ]
  },
  {
   "cell_type": "code",
   "execution_count": null,
   "metadata": {},
   "outputs": [],
   "source": [
    "test = h2o.import_file('for_automl_test.csv')\n",
    "preds = aml.predict(test)"
   ]
  },
  {
   "cell_type": "code",
   "execution_count": null,
   "metadata": {},
   "outputs": [],
   "source": [
    "preds"
   ]
  },
  {
   "cell_type": "code",
   "execution_count": null,
   "metadata": {},
   "outputs": [],
   "source": [
    "list_model=h2o.as_list(lb.head(rows=lb.nrows)['model_id'], use_pandas=False)\n",
    "import itertools\n",
    "\n",
    "list_m = list(itertools.chain(*list_model))\n",
    "list_m\n"
   ]
  },
  {
   "cell_type": "markdown",
   "metadata": {},
   "source": [
    "### Explainability of AutoML"
   ]
  },
  {
   "cell_type": "code",
   "execution_count": null,
   "metadata": {},
   "outputs": [],
   "source": [
    "aml.explain(test)\n"
   ]
  },
  {
   "cell_type": "markdown",
   "metadata": {},
   "source": [
    "## Model \n",
    "\n",
    "5.04685e+06"
   ]
  },
  {
   "cell_type": "markdown",
   "metadata": {},
   "source": [
    "#### Random Forest"
   ]
  },
  {
   "cell_type": "code",
   "execution_count": 137,
   "metadata": {},
   "outputs": [
    {
     "data": {
      "text/plain": [
       "6889482.5228487225"
      ]
     },
     "execution_count": 137,
     "metadata": {},
     "output_type": "execute_result"
    }
   ],
   "source": [
    "from sklearn.ensemble import RandomForestRegressor\n",
    "from sklearn.metrics import mean_squared_error\n",
    "\n",
    "rf = RandomForestRegressor(n_estimators=100, random_state=0)\n",
    "rf.fit(X_train_pca, y_train)\n",
    "\n",
    "pred1 = rf.predict(X_valid_pca)\n",
    "rf_mse = mean_squared_error(y_valid, pred1)\n",
    "rf_rmse = np.sqrt(rf_mse)\n",
    "rf_rmse"
   ]
  },
  {
   "cell_type": "markdown",
   "metadata": {},
   "source": [
    "#### SVR"
   ]
  },
  {
   "cell_type": "code",
   "execution_count": 138,
   "metadata": {},
   "outputs": [],
   "source": [
    "from sklearn.svm import SVR\n",
    "\n",
    "svm_reg = SVR(kernel=\"linear\")\n",
    "svm_reg.fit(X_train_pca, y_train)\n",
    "pred2 = svm_reg.predict(X_valid_pca)\n"
   ]
  },
  {
   "cell_type": "code",
   "execution_count": 139,
   "metadata": {},
   "outputs": [
    {
     "data": {
      "text/plain": [
       "9339498.39141114"
      ]
     },
     "execution_count": 139,
     "metadata": {},
     "output_type": "execute_result"
    }
   ],
   "source": [
    "svm_mse = mean_squared_error(y_valid, pred2)\n",
    "svm_rmse = np.sqrt(svm_mse)\n",
    "svm_rmse"
   ]
  },
  {
   "cell_type": "markdown",
   "metadata": {},
   "source": [
    "#### XGBoost"
   ]
  },
  {
   "cell_type": "code",
   "execution_count": 140,
   "metadata": {},
   "outputs": [
    {
     "data": {
      "text/plain": [
       "7145654.836444728"
      ]
     },
     "execution_count": 140,
     "metadata": {},
     "output_type": "execute_result"
    }
   ],
   "source": [
    "import xgboost as xgb\n",
    "xg_reg = xgb.XGBRegressor(objective ='reg:squarederror')\n",
    "xg_reg.fit(X_train_pca, y_train)\n",
    "\n",
    "pred3 = xg_reg.predict(X_valid_pca)\n",
    "xgbt_rmse = np.sqrt(mean_squared_error(y_valid, pred3))\n",
    "xgbt_rmse\n"
   ]
  },
  {
   "cell_type": "markdown",
   "metadata": {},
   "source": [
    "#### Gradient Boosting Tree\n",
    "\n"
   ]
  },
  {
   "cell_type": "code",
   "execution_count": 141,
   "metadata": {},
   "outputs": [
    {
     "data": {
      "text/plain": [
       "6900716.164129226"
      ]
     },
     "execution_count": 141,
     "metadata": {},
     "output_type": "execute_result"
    }
   ],
   "source": [
    "from sklearn.ensemble import GradientBoostingRegressor\n",
    "\n",
    "\n",
    "gbt = GradientBoostingRegressor(random_state=0)\n",
    "model2 = gbt.fit(X_train_pca,y_train)\n",
    "pred4 = model2.predict(X_valid_pca)\n",
    "gbt_rmse = np.sqrt(mean_squared_error(y_valid, pred4))\n",
    "gbt_rmse"
   ]
  },
  {
   "cell_type": "markdown",
   "metadata": {},
   "source": [
    "#### LGBM"
   ]
  },
  {
   "cell_type": "code",
   "execution_count": 142,
   "metadata": {},
   "outputs": [
    {
     "data": {
      "text/plain": [
       "6859078.6607494885"
      ]
     },
     "execution_count": 142,
     "metadata": {},
     "output_type": "execute_result"
    }
   ],
   "source": [
    "from lightgbm import LGBMRegressor\n",
    "# fit the model on the whole dataset\n",
    "lgbm_reg_model = LGBMRegressor()\n",
    "lgbm_reg_model.fit(X_train_pca, y_train)\n",
    "\n",
    "#Testing\n",
    "pred5 = lgbm_reg_model.predict(X_valid_pca)\n",
    "lgbm_reg_mse = mean_squared_error(y_valid, pred5)\n",
    "lgbm_reg_rmse = np.sqrt(lgbm_reg_mse)\n",
    "lgbm_reg_rmse"
   ]
  },
  {
   "cell_type": "code",
   "execution_count": 144,
   "metadata": {
    "scrolled": true
   },
   "outputs": [
    {
     "data": {
      "text/plain": [
       "Text(0, 0.5, 'Models')"
      ]
     },
     "execution_count": 144,
     "metadata": {},
     "output_type": "execute_result"
    },
    {
     "data": {
      "image/png": "[encoded data removed]",
      "text/plain": [
       "<Figure size 800x600 with 1 Axes>"
      ]
     },
     "metadata": {},
     "output_type": "display_data"
    }
   ],
   "source": [
    "import seaborn as sns\n",
    "df = {'Models': [\"Random Forest Regressor\",\"Gradient Boosting Regressor\", 'XG Boost','LightGBM','SVR'],\n",
    "     'RMSE': [rf_rmse,gbt_rmse,xgbt_rmse,lgbm_reg_rmse,svm_rmse]\n",
    "     }\n",
    "\n",
    "summary = pd.DataFrame(df)\n",
    "plt.figure(figsize=(8, 6))\n",
    "splot=sns.barplot(x=\"RMSE\",y=\"Models\",data=summary)\n",
    "plt.xlabel(\"RMSE\", size=14)\n",
    "plt.ylabel(\"Models\", size=14)"
   ]
  },
  {
   "cell_type": "markdown",
   "metadata": {},
   "source": [
    "## Hyper Parameter Optimization -MLFlow"
   ]
  },
  {
   "cell_type": "code",
   "execution_count": 145,
   "metadata": {},
   "outputs": [
    {
     "name": "stdout",
     "output_type": "stream",
     "text": [
      "Collecting mlflow\n",
      "  Downloading mlflow-2.3.0-py3-none-any.whl (17.7 MB)\n",
      "     --------------------------------------- 17.7/17.7 MB 11.9 MB/s eta 0:00:00\n",
      "Collecting querystring-parser<2\n",
      "  Downloading querystring_parser-1.2.4-py2.py3-none-any.whl (7.9 kB)\n",
      "Collecting databricks-cli<1,>=0.8.7\n",
      "  Downloading databricks-cli-0.17.6.tar.gz (82 kB)\n",
      "     ---------------------------------------- 82.7/82.7 kB 2.3 MB/s eta 0:00:00\n",
      "  Preparing metadata (setup.py): started\n",
      "  Preparing metadata (setup.py): finished with status 'done'\n",
      "Requirement already satisfied: scipy<2 in c:\\users\\nguye\\anaconda3\\envs\\mgsc662\\lib\\site-packages (from mlflow) (1.9.3)\n",
      "Requirement already satisfied: Jinja2<4,>=3.0 in c:\\users\\nguye\\anaconda3\\envs\\mgsc662\\lib\\site-packages (from mlflow) (3.0.3)\n",
      "Collecting protobuf<5,>=3.12.0\n",
      "  Downloading protobuf-4.22.3-cp39-cp39-win_amd64.whl (420 kB)\n",
      "     ------------------------------------- 420.6/420.6 kB 27.4 MB/s eta 0:00:00\n",
      "Collecting sqlalchemy<3,>=1.4.0\n",
      "  Downloading SQLAlchemy-2.0.10-cp39-cp39-win_amd64.whl (2.0 MB)\n",
      "     ---------------------------------------- 2.0/2.0 MB 12.5 MB/s eta 0:00:00\n",
      "Requirement already satisfied: cloudpickle<3 in c:\\users\\nguye\\anaconda3\\envs\\mgsc662\\lib\\site-packages (from mlflow) (2.0.0)\n",
      "Collecting markdown<4,>=3.3\n",
      "  Downloading Markdown-3.4.3-py3-none-any.whl (93 kB)\n",
      "     ---------------------------------------- 93.9/93.9 kB 5.6 MB/s eta 0:00:00\n",
      "Requirement already satisfied: numpy<2 in c:\\users\\nguye\\anaconda3\\envs\\mgsc662\\lib\\site-packages (from mlflow) (1.23.5)\n",
      "Requirement already satisfied: importlib-metadata!=4.7.0,<7,>=3.7.0 in c:\\users\\nguye\\anaconda3\\envs\\mgsc662\\lib\\site-packages (from mlflow) (4.11.3)\n",
      "Requirement already satisfied: pyarrow<12,>=4.0.0 in c:\\users\\nguye\\anaconda3\\envs\\mgsc662\\lib\\site-packages (from mlflow) (11.0.0)\n",
      "Requirement already satisfied: pytz<2024 in c:\\users\\nguye\\anaconda3\\envs\\mgsc662\\lib\\site-packages (from mlflow) (2022.1)\n",
      "Collecting alembic!=1.10.0,<2\n",
      "  Downloading alembic-1.10.3-py3-none-any.whl (212 kB)\n",
      "     ------------------------------------- 212.3/212.3 kB 13.5 MB/s eta 0:00:00\n",
      "Collecting docker<7,>=4.0.0\n",
      "  Downloading docker-6.0.1-py3-none-any.whl (147 kB)\n",
      "     ---------------------------------------- 147.5/147.5 kB ? eta 0:00:00\n",
      "Requirement already satisfied: pandas<3 in c:\\users\\nguye\\anaconda3\\envs\\mgsc662\\lib\\site-packages (from mlflow) (1.4.4)\n",
      "Requirement already satisfied: scikit-learn<2 in c:\\users\\nguye\\anaconda3\\envs\\mgsc662\\lib\\site-packages (from mlflow) (1.1.1)\n",
      "Requirement already satisfied: entrypoints<1 in c:\\users\\nguye\\anaconda3\\envs\\mgsc662\\lib\\site-packages (from mlflow) (0.4)\n",
      "Collecting gitpython<4,>=2.1.0\n",
      "  Downloading GitPython-3.1.31-py3-none-any.whl (184 kB)\n",
      "     ---------------------------------------- 184.3/184.3 kB ? eta 0:00:00\n",
      "Requirement already satisfied: requests<3,>=2.17.3 in c:\\users\\nguye\\anaconda3\\envs\\mgsc662\\lib\\site-packages (from mlflow) (2.28.1)\n",
      "Collecting waitress<3\n",
      "  Downloading waitress-2.1.2-py3-none-any.whl (57 kB)\n",
      "     ---------------------------------------- 57.7/57.7 kB ? eta 0:00:00\n",
      "Requirement already satisfied: Flask<3 in c:\\users\\nguye\\anaconda3\\envs\\mgsc662\\lib\\site-packages (from mlflow) (1.1.2)\n",
      "Requirement already satisfied: sqlparse<1,>=0.4.0 in c:\\users\\nguye\\anaconda3\\envs\\mgsc662\\lib\\site-packages (from mlflow) (0.4.3)\n",
      "Requirement already satisfied: packaging<24 in c:\\users\\nguye\\anaconda3\\envs\\mgsc662\\lib\\site-packages (from mlflow) (21.3)\n",
      "Requirement already satisfied: pyyaml<7,>=5.1 in c:\\users\\nguye\\anaconda3\\envs\\mgsc662\\lib\\site-packages (from mlflow) (6.0)\n",
      "Requirement already satisfied: matplotlib<4 in c:\\users\\nguye\\anaconda3\\envs\\mgsc662\\lib\\site-packages (from mlflow) (3.5.2)\n",
      "Requirement already satisfied: click<9,>=7.0 in c:\\users\\nguye\\anaconda3\\envs\\mgsc662\\lib\\site-packages (from mlflow) (7.1.2)\n",
      "Collecting Mako\n",
      "  Downloading Mako-1.2.4-py3-none-any.whl (78 kB)\n",
      "     ---------------------------------------- 78.7/78.7 kB ? eta 0:00:00\n",
      "Requirement already satisfied: typing-extensions>=4 in c:\\users\\nguye\\anaconda3\\envs\\mgsc662\\lib\\site-packages (from alembic!=1.10.0,<2->mlflow) (4.3.0)\n",
      "Collecting pyjwt>=1.7.0\n",
      "  Downloading PyJWT-2.6.0-py3-none-any.whl (20 kB)\n",
      "Collecting oauthlib>=3.1.0\n",
      "  Downloading oauthlib-3.2.2-py3-none-any.whl (151 kB)\n",
      "     -------------------------------------- 151.7/151.7 kB 8.8 MB/s eta 0:00:00\n",
      "Collecting tabulate>=0.7.7\n",
      "  Downloading tabulate-0.9.0-py3-none-any.whl (35 kB)\n",
      "Requirement already satisfied: six>=1.10.0 in c:\\users\\nguye\\anaconda3\\envs\\mgsc662\\lib\\site-packages (from databricks-cli<1,>=0.8.7->mlflow) (1.16.0)\n",
      "Collecting pywin32>=304\n",
      "  Downloading pywin32-306-cp39-cp39-win_amd64.whl (9.3 MB)\n",
      "     ---------------------------------------- 9.3/9.3 MB 16.1 MB/s eta 0:00:00\n",
      "Requirement already satisfied: urllib3>=1.26.0 in c:\\users\\nguye\\anaconda3\\envs\\mgsc662\\lib\\site-packages (from docker<7,>=4.0.0->mlflow) (1.26.11)\n",
      "Collecting websocket-client>=0.32.0\n",
      "  Downloading websocket_client-1.5.1-py3-none-any.whl (55 kB)\n",
      "     ---------------------------------------- 55.9/55.9 kB ? eta 0:00:00\n",
      "Requirement already satisfied: itsdangerous>=0.24 in c:\\users\\nguye\\anaconda3\\envs\\mgsc662\\lib\\site-packages (from Flask<3->mlflow) (2.1.2)\n",
      "Requirement already satisfied: Werkzeug>=0.15 in c:\\users\\nguye\\anaconda3\\envs\\mgsc662\\lib\\site-packages (from Flask<3->mlflow) (2.2.2)\n",
      "Collecting gitdb<5,>=4.0.1\n",
      "  Downloading gitdb-4.0.10-py3-none-any.whl (62 kB)\n",
      "     ---------------------------------------- 62.7/62.7 kB ? eta 0:00:00\n",
      "Requirement already satisfied: zipp>=0.5 in c:\\users\\nguye\\anaconda3\\envs\\mgsc662\\lib\\site-packages (from importlib-metadata!=4.7.0,<7,>=3.7.0->mlflow) (3.8.0)\n",
      "Requirement already satisfied: MarkupSafe>=2.0 in c:\\users\\nguye\\anaconda3\\envs\\mgsc662\\lib\\site-packages (from Jinja2<4,>=3.0->mlflow) (2.1.1)\n",
      "Requirement already satisfied: pillow>=6.2.0 in c:\\users\\nguye\\anaconda3\\envs\\mgsc662\\lib\\site-packages (from matplotlib<4->mlflow) (9.2.0)\n",
      "Requirement already satisfied: fonttools>=4.22.0 in c:\\users\\nguye\\anaconda3\\envs\\mgsc662\\lib\\site-packages (from matplotlib<4->mlflow) (4.25.0)\n",
      "Requirement already satisfied: kiwisolver>=1.0.1 in c:\\users\\nguye\\anaconda3\\envs\\mgsc662\\lib\\site-packages (from matplotlib<4->mlflow) (1.4.2)\n",
      "Requirement already satisfied: cycler>=0.10 in c:\\users\\nguye\\anaconda3\\envs\\mgsc662\\lib\\site-packages (from matplotlib<4->mlflow) (0.11.0)\n",
      "Requirement already satisfied: pyparsing>=2.2.1 in c:\\users\\nguye\\anaconda3\\envs\\mgsc662\\lib\\site-packages (from matplotlib<4->mlflow) (3.0.9)\n",
      "Requirement already satisfied: python-dateutil>=2.7 in c:\\users\\nguye\\anaconda3\\envs\\mgsc662\\lib\\site-packages (from matplotlib<4->mlflow) (2.8.2)\n",
      "Requirement already satisfied: charset-normalizer<3,>=2 in c:\\users\\nguye\\anaconda3\\envs\\mgsc662\\lib\\site-packages (from requests<3,>=2.17.3->mlflow) (2.0.4)\n",
      "Requirement already satisfied: idna<4,>=2.5 in c:\\users\\nguye\\anaconda3\\envs\\mgsc662\\lib\\site-packages (from requests<3,>=2.17.3->mlflow) (3.3)\n",
      "Requirement already satisfied: certifi>=2017.4.17 in c:\\users\\nguye\\anaconda3\\envs\\mgsc662\\lib\\site-packages (from requests<3,>=2.17.3->mlflow) (2022.12.7)\n",
      "Requirement already satisfied: joblib>=1.0.0 in c:\\users\\nguye\\anaconda3\\envs\\mgsc662\\lib\\site-packages (from scikit-learn<2->mlflow) (1.1.0)\n",
      "Requirement already satisfied: threadpoolctl>=2.0.0 in c:\\users\\nguye\\anaconda3\\envs\\mgsc662\\lib\\site-packages (from scikit-learn<2->mlflow) (2.2.0)\n",
      "Collecting greenlet!=0.4.17\n",
      "  Downloading greenlet-2.0.2-cp39-cp39-win_amd64.whl (192 kB)\n",
      "     ------------------------------------- 192.1/192.1 kB 12.1 MB/s eta 0:00:00\n",
      "Collecting smmap<6,>=3.0.1\n",
      "  Downloading smmap-5.0.0-py3-none-any.whl (24 kB)\n",
      "Building wheels for collected packages: databricks-cli\n",
      "  Building wheel for databricks-cli (setup.py): started\n",
      "  Building wheel for databricks-cli (setup.py): finished with status 'done'\n",
      "  Created wheel for databricks-cli: filename=databricks_cli-0.17.6-py3-none-any.whl size=143221 sha256=ed9abfae552da911f6dd06a5d9468ff3a492c2fe7fd76d7a0d1300af96540183\n",
      "  Stored in directory: c:\\users\\nguye\\appdata\\local\\pip\\cache\\wheels\\06\\d9\\cb\\1cdc0826334cb600957db0b5a8448db02a8995daeab2556745\n",
      "Successfully built databricks-cli\n",
      "Installing collected packages: pywin32, websocket-client, waitress, tabulate, smmap, querystring-parser, pyjwt, protobuf, oauthlib, Mako, greenlet, sqlalchemy, markdown, gitdb, docker, databricks-cli, gitpython, alembic, mlflow\n",
      "  Attempting uninstall: pywin32\n",
      "    Found existing installation: pywin32 302\n",
      "    Uninstalling pywin32-302:\n",
      "      Successfully uninstalled pywin32-302\n",
      "Successfully installed Mako-1.2.4 alembic-1.10.3 databricks-cli-0.17.6 docker-6.0.1 gitdb-4.0.10 gitpython-3.1.31 greenlet-2.0.2 markdown-3.4.3 mlflow-2.3.0 oauthlib-3.2.2 protobuf-4.22.3 pyjwt-2.6.0 pywin32-306 querystring-parser-1.2.4 smmap-5.0.0 sqlalchemy-2.0.10 tabulate-0.9.0 waitress-2.1.2 websocket-client-1.5.1\n"
     ]
    }
   ],
   "source": [
    "#!pip install mlflow\n"
   ]
  },
  {
   "cell_type": "code",
   "execution_count": 146,
   "metadata": {},
   "outputs": [
    {
     "name": "stdout",
     "output_type": "stream",
     "text": [
      "Collecting hyperopt\n",
      "  Downloading hyperopt-0.2.7-py2.py3-none-any.whl (1.6 MB)\n",
      "     ---------------------------------------- 1.6/1.6 MB 10.1 MB/s eta 0:00:00\n",
      "Requirement already satisfied: future in c:\\users\\nguye\\anaconda3\\envs\\mgsc662\\lib\\site-packages (from hyperopt) (0.18.3)\n",
      "Requirement already satisfied: cloudpickle in c:\\users\\nguye\\anaconda3\\envs\\mgsc662\\lib\\site-packages (from hyperopt) (2.0.0)\n",
      "Requirement already satisfied: tqdm in c:\\users\\nguye\\anaconda3\\envs\\mgsc662\\lib\\site-packages (from hyperopt) (4.64.1)\n",
      "Collecting py4j\n",
      "  Downloading py4j-0.10.9.7-py2.py3-none-any.whl (200 kB)\n",
      "     -------------------------------------- 200.5/200.5 kB 5.9 MB/s eta 0:00:00\n",
      "Requirement already satisfied: numpy in c:\\users\\nguye\\anaconda3\\envs\\mgsc662\\lib\\site-packages (from hyperopt) (1.23.5)\n",
      "Requirement already satisfied: networkx>=2.2 in c:\\users\\nguye\\anaconda3\\envs\\mgsc662\\lib\\site-packages (from hyperopt) (2.8.4)\n",
      "Requirement already satisfied: six in c:\\users\\nguye\\anaconda3\\envs\\mgsc662\\lib\\site-packages (from hyperopt) (1.16.0)\n",
      "Requirement already satisfied: scipy in c:\\users\\nguye\\anaconda3\\envs\\mgsc662\\lib\\site-packages (from hyperopt) (1.9.3)\n",
      "Requirement already satisfied: colorama in c:\\users\\nguye\\anaconda3\\envs\\mgsc662\\lib\\site-packages (from tqdm->hyperopt) (0.4.5)\n",
      "Installing collected packages: py4j, hyperopt\n",
      "Successfully installed hyperopt-0.2.7 py4j-0.10.9.7\n"
     ]
    }
   ],
   "source": [
    "#!pip install hyperopt"
   ]
  },
  {
   "cell_type": "code",
   "execution_count": null,
   "metadata": {},
   "outputs": [],
   "source": [
    "# ! pip install mlflow"
   ]
  },
  {
   "cell_type": "code",
   "execution_count": 147,
   "metadata": {
    "scrolled": true
   },
   "outputs": [
    {
     "name": "stderr",
     "output_type": "stream",
     "text": [
      "2023/04/23 15:50:57 WARNING mlflow.utils.git_utils: Failed to import Git (the Git executable is probably not on your PATH), so Git SHA is not available. Error: Failed to initialize: Bad git executable.\n",
      "The git executable must be specified in one of the following ways:\n",
      "    - be included in your $PATH\n",
      "    - be set via $GIT_PYTHON_GIT_EXECUTABLE\n",
      "    - explicitly set via git.refresh()\n",
      "\n",
      "All git commands will error until this is rectified.\n",
      "\n",
      "This initial warning can be silenced or aggravated in the future by setting the\n",
      "$GIT_PYTHON_REFRESH environment variable. Use one of the following values:\n",
      "    - quiet|q|silence|s|none|n|0: for no warning or exception\n",
      "    - warn|w|warning|1: for a printed warning\n",
      "    - error|e|raise|r|2: for a raised exception\n",
      "\n",
      "Example:\n",
      "    export GIT_PYTHON_REFRESH=quiet\n",
      "\n"
     ]
    },
    {
     "name": "stdout",
     "output_type": "stream",
     "text": [
      "\r",
      "  0%|          | 0/5 [00:00<?, ?trial/s, best loss=?]"
     ]
    },
    {
     "name": "stderr",
     "output_type": "stream",
     "text": [
      "2023/04/23 15:51:01 ERROR mlflow.xgboost: Failed to log feature importance plot. XGBoost autologging will ignore the failure and continue. Exception: \n",
      "Traceback (most recent call last):\n",
      "  File \"C:\\Users\\nguye\\anaconda3\\envs\\MGSC662\\lib\\site-packages\\mlflow\\xgboost\\__init__.py\", line 662, in train_impl\n",
      "    log_feature_importance_plot(features, importance, imp_type)\n",
      "  File \"C:\\Users\\nguye\\anaconda3\\envs\\MGSC662\\lib\\site-packages\\mlflow\\xgboost\\__init__.py\", line 581, in log_feature_importance_plot\n",
      "    mlflow.log_artifact(filepath)\n",
      "  File \"C:\\Users\\nguye\\anaconda3\\envs\\MGSC662\\lib\\site-packages\\mlflow\\tracking\\fluent.py\", line 783, in log_artifact\n",
      "    MlflowClient().log_artifact(run_id, local_path, artifact_path)\n",
      "  File \"C:\\Users\\nguye\\anaconda3\\envs\\MGSC662\\lib\\site-packages\\mlflow\\tracking\\client.py\", line 1028, in log_artifact\n",
      "    self._tracking_client.log_artifact(run_id, local_path, artifact_path)\n",
      "  File \"C:\\Users\\nguye\\anaconda3\\envs\\MGSC662\\lib\\site-packages\\mlflow\\tracking\\_tracking_service\\client.py\", line 431, in log_artifact\n",
      "    artifact_repo = self._get_artifact_repo(run_id)\n",
      "  File \"C:\\Users\\nguye\\anaconda3\\envs\\MGSC662\\lib\\site-packages\\mlflow\\tracking\\_tracking_service\\client.py\", line 416, in _get_artifact_repo\n",
      "    artifact_repo = get_artifact_repository(artifact_uri)\n",
      "  File \"C:\\Users\\nguye\\anaconda3\\envs\\MGSC662\\lib\\site-packages\\mlflow\\store\\artifact\\artifact_repository_registry.py\", line 106, in get_artifact_repository\n",
      "    return _artifact_repository_registry.get_artifact_repository(artifact_uri)\n",
      "  File \"C:\\Users\\nguye\\anaconda3\\envs\\MGSC662\\lib\\site-packages\\mlflow\\store\\artifact\\artifact_repository_registry.py\", line 72, in get_artifact_repository\n",
      "    return repository(artifact_uri)\n",
      "  File \"C:\\Users\\nguye\\anaconda3\\envs\\MGSC662\\lib\\site-packages\\mlflow\\store\\artifact\\mlflow_artifacts_repo.py\", line 45, in __init__\n",
      "    super().__init__(self.resolve_uri(artifact_uri, get_tracking_uri()))\n",
      "  File \"C:\\Users\\nguye\\anaconda3\\envs\\MGSC662\\lib\\site-packages\\mlflow\\store\\artifact\\mlflow_artifacts_repo.py\", line 59, in resolve_uri\n",
      "    _validate_uri_scheme(track_parse.scheme)\n",
      "  File \"C:\\Users\\nguye\\anaconda3\\envs\\MGSC662\\lib\\site-packages\\mlflow\\store\\artifact\\mlflow_artifacts_repo.py\", line 35, in _validate_uri_scheme\n",
      "    raise MlflowException(\n",
      "mlflow.exceptions.MlflowException: The configured tracking uri scheme: 'file' is invalid for use with the proxy mlflow-artifact scheme. The allowed tracking schemes are: {'https', 'http'}\n",
      "\n",
      "2023/04/23 15:51:01 WARNING mlflow.utils.autologging_utils: Encountered unexpected error during xgboost autologging: The configured tracking uri scheme: 'file' is invalid for use with the proxy mlflow-artifact scheme. The allowed tracking schemes are: {'https', 'http'}\n",
      "\n",
      "2023/04/23 15:51:09 WARNING mlflow.utils.autologging_utils: MLflow autologging encountered a warning: \"C:\\Users\\nguye\\anaconda3\\envs\\MGSC662\\lib\\site-packages\\_distutils_hack\\__init__.py:33: UserWarning: Setuptools is replacing distutils.\"\n",
      "\n",
      "2023/04/23 15:51:09 WARNING mlflow.utils.autologging_utils: Encountered unexpected error during xgboost autologging: The configured tracking uri scheme: 'file' is invalid for use with the proxy mlflow-artifact scheme. The allowed tracking schemes are: {'https', 'http'}\n",
      "\n"
     ]
    },
    {
     "name": "stdout",
     "output_type": "stream",
     "text": [
      "\r",
      " 20%|██        | 1/5 [00:24<01:39, 24.94s/trial, best loss: 85634362727252.1]"
     ]
    },
    {
     "name": "stderr",
     "output_type": "stream",
     "text": [
      "2023/04/23 15:51:23 ERROR mlflow.xgboost: Failed to log feature importance plot. XGBoost autologging will ignore the failure and continue. Exception: \n",
      "Traceback (most recent call last):\n",
      "  File \"C:\\Users\\nguye\\anaconda3\\envs\\MGSC662\\lib\\site-packages\\mlflow\\xgboost\\__init__.py\", line 662, in train_impl\n",
      "    log_feature_importance_plot(features, importance, imp_type)\n",
      "  File \"C:\\Users\\nguye\\anaconda3\\envs\\MGSC662\\lib\\site-packages\\mlflow\\xgboost\\__init__.py\", line 581, in log_feature_importance_plot\n",
      "    mlflow.log_artifact(filepath)\n",
      "  File \"C:\\Users\\nguye\\anaconda3\\envs\\MGSC662\\lib\\site-packages\\mlflow\\tracking\\fluent.py\", line 783, in log_artifact\n",
      "    MlflowClient().log_artifact(run_id, local_path, artifact_path)\n",
      "  File \"C:\\Users\\nguye\\anaconda3\\envs\\MGSC662\\lib\\site-packages\\mlflow\\tracking\\client.py\", line 1028, in log_artifact\n",
      "    self._tracking_client.log_artifact(run_id, local_path, artifact_path)\n",
      "  File \"C:\\Users\\nguye\\anaconda3\\envs\\MGSC662\\lib\\site-packages\\mlflow\\tracking\\_tracking_service\\client.py\", line 431, in log_artifact\n",
      "    artifact_repo = self._get_artifact_repo(run_id)\n",
      "  File \"C:\\Users\\nguye\\anaconda3\\envs\\MGSC662\\lib\\site-packages\\mlflow\\tracking\\_tracking_service\\client.py\", line 416, in _get_artifact_repo\n",
      "    artifact_repo = get_artifact_repository(artifact_uri)\n",
      "  File \"C:\\Users\\nguye\\anaconda3\\envs\\MGSC662\\lib\\site-packages\\mlflow\\store\\artifact\\artifact_repository_registry.py\", line 106, in get_artifact_repository\n",
      "    return _artifact_repository_registry.get_artifact_repository(artifact_uri)\n",
      "  File \"C:\\Users\\nguye\\anaconda3\\envs\\MGSC662\\lib\\site-packages\\mlflow\\store\\artifact\\artifact_repository_registry.py\", line 72, in get_artifact_repository\n",
      "    return repository(artifact_uri)\n",
      "  File \"C:\\Users\\nguye\\anaconda3\\envs\\MGSC662\\lib\\site-packages\\mlflow\\store\\artifact\\mlflow_artifacts_repo.py\", line 45, in __init__\n",
      "    super().__init__(self.resolve_uri(artifact_uri, get_tracking_uri()))\n",
      "  File \"C:\\Users\\nguye\\anaconda3\\envs\\MGSC662\\lib\\site-packages\\mlflow\\store\\artifact\\mlflow_artifacts_repo.py\", line 59, in resolve_uri\n",
      "    _validate_uri_scheme(track_parse.scheme)\n",
      "  File \"C:\\Users\\nguye\\anaconda3\\envs\\MGSC662\\lib\\site-packages\\mlflow\\store\\artifact\\mlflow_artifacts_repo.py\", line 35, in _validate_uri_scheme\n",
      "    raise MlflowException(\n",
      "mlflow.exceptions.MlflowException: The configured tracking uri scheme: 'file' is invalid for use with the proxy mlflow-artifact scheme. The allowed tracking schemes are: {'https', 'http'}\n",
      "\n",
      "2023/04/23 15:51:23 WARNING mlflow.utils.autologging_utils: Encountered unexpected error during xgboost autologging: The configured tracking uri scheme: 'file' is invalid for use with the proxy mlflow-artifact scheme. The allowed tracking schemes are: {'https', 'http'}\n",
      "\n",
      "2023/04/23 15:51:28 WARNING mlflow.utils.autologging_utils: Encountered unexpected error during xgboost autologging: The configured tracking uri scheme: 'file' is invalid for use with the proxy mlflow-artifact scheme. The allowed tracking schemes are: {'https', 'http'}\n",
      "\n"
     ]
    },
    {
     "name": "stdout",
     "output_type": "stream",
     "text": [
      "\r",
      " 40%|████      | 2/5 [00:37<00:53, 17.68s/trial, best loss: 29674156812498.375]"
     ]
    },
    {
     "name": "stderr",
     "output_type": "stream",
     "text": [
      "2023/04/23 15:51:59 ERROR mlflow.xgboost: Failed to log feature importance plot. XGBoost autologging will ignore the failure and continue. Exception: \n",
      "Traceback (most recent call last):\n",
      "  File \"C:\\Users\\nguye\\anaconda3\\envs\\MGSC662\\lib\\site-packages\\mlflow\\xgboost\\__init__.py\", line 662, in train_impl\n",
      "    log_feature_importance_plot(features, importance, imp_type)\n",
      "  File \"C:\\Users\\nguye\\anaconda3\\envs\\MGSC662\\lib\\site-packages\\mlflow\\xgboost\\__init__.py\", line 581, in log_feature_importance_plot\n",
      "    mlflow.log_artifact(filepath)\n",
      "  File \"C:\\Users\\nguye\\anaconda3\\envs\\MGSC662\\lib\\site-packages\\mlflow\\tracking\\fluent.py\", line 783, in log_artifact\n",
      "    MlflowClient().log_artifact(run_id, local_path, artifact_path)\n",
      "  File \"C:\\Users\\nguye\\anaconda3\\envs\\MGSC662\\lib\\site-packages\\mlflow\\tracking\\client.py\", line 1028, in log_artifact\n",
      "    self._tracking_client.log_artifact(run_id, local_path, artifact_path)\n",
      "  File \"C:\\Users\\nguye\\anaconda3\\envs\\MGSC662\\lib\\site-packages\\mlflow\\tracking\\_tracking_service\\client.py\", line 431, in log_artifact\n",
      "    artifact_repo = self._get_artifact_repo(run_id)\n",
      "  File \"C:\\Users\\nguye\\anaconda3\\envs\\MGSC662\\lib\\site-packages\\mlflow\\tracking\\_tracking_service\\client.py\", line 416, in _get_artifact_repo\n",
      "    artifact_repo = get_artifact_repository(artifact_uri)\n",
      "  File \"C:\\Users\\nguye\\anaconda3\\envs\\MGSC662\\lib\\site-packages\\mlflow\\store\\artifact\\artifact_repository_registry.py\", line 106, in get_artifact_repository\n",
      "    return _artifact_repository_registry.get_artifact_repository(artifact_uri)\n",
      "  File \"C:\\Users\\nguye\\anaconda3\\envs\\MGSC662\\lib\\site-packages\\mlflow\\store\\artifact\\artifact_repository_registry.py\", line 72, in get_artifact_repository\n",
      "    return repository(artifact_uri)\n",
      "  File \"C:\\Users\\nguye\\anaconda3\\envs\\MGSC662\\lib\\site-packages\\mlflow\\store\\artifact\\mlflow_artifacts_repo.py\", line 45, in __init__\n",
      "    super().__init__(self.resolve_uri(artifact_uri, get_tracking_uri()))\n",
      "  File \"C:\\Users\\nguye\\anaconda3\\envs\\MGSC662\\lib\\site-packages\\mlflow\\store\\artifact\\mlflow_artifacts_repo.py\", line 59, in resolve_uri\n",
      "    _validate_uri_scheme(track_parse.scheme)\n",
      "  File \"C:\\Users\\nguye\\anaconda3\\envs\\MGSC662\\lib\\site-packages\\mlflow\\store\\artifact\\mlflow_artifacts_repo.py\", line 35, in _validate_uri_scheme\n",
      "    raise MlflowException(\n",
      "mlflow.exceptions.MlflowException: The configured tracking uri scheme: 'file' is invalid for use with the proxy mlflow-artifact scheme. The allowed tracking schemes are: {'https', 'http'}\n",
      "\n",
      "2023/04/23 15:51:59 WARNING mlflow.utils.autologging_utils: Encountered unexpected error during xgboost autologging: The configured tracking uri scheme: 'file' is invalid for use with the proxy mlflow-artifact scheme. The allowed tracking schemes are: {'https', 'http'}\n",
      "\n",
      "2023/04/23 15:52:03 WARNING mlflow.utils.autologging_utils: Encountered unexpected error during xgboost autologging: The configured tracking uri scheme: 'file' is invalid for use with the proxy mlflow-artifact scheme. The allowed tracking schemes are: {'https', 'http'}\n",
      "\n"
     ]
    },
    {
     "name": "stdout",
     "output_type": "stream",
     "text": [
      "\r",
      " 60%|██████    | 3/5 [02:17<01:50, 55.18s/trial, best loss: 27713948192222.22] "
     ]
    },
    {
     "name": "stderr",
     "output_type": "stream",
     "text": [
      "2023/04/23 15:53:16 ERROR mlflow.xgboost: Failed to log feature importance plot. XGBoost autologging will ignore the failure and continue. Exception: \n",
      "Traceback (most recent call last):\n",
      "  File \"C:\\Users\\nguye\\anaconda3\\envs\\MGSC662\\lib\\site-packages\\mlflow\\xgboost\\__init__.py\", line 662, in train_impl\n",
      "    log_feature_importance_plot(features, importance, imp_type)\n",
      "  File \"C:\\Users\\nguye\\anaconda3\\envs\\MGSC662\\lib\\site-packages\\mlflow\\xgboost\\__init__.py\", line 581, in log_feature_importance_plot\n",
      "    mlflow.log_artifact(filepath)\n",
      "  File \"C:\\Users\\nguye\\anaconda3\\envs\\MGSC662\\lib\\site-packages\\mlflow\\tracking\\fluent.py\", line 783, in log_artifact\n",
      "    MlflowClient().log_artifact(run_id, local_path, artifact_path)\n",
      "  File \"C:\\Users\\nguye\\anaconda3\\envs\\MGSC662\\lib\\site-packages\\mlflow\\tracking\\client.py\", line 1028, in log_artifact\n",
      "    self._tracking_client.log_artifact(run_id, local_path, artifact_path)\n",
      "  File \"C:\\Users\\nguye\\anaconda3\\envs\\MGSC662\\lib\\site-packages\\mlflow\\tracking\\_tracking_service\\client.py\", line 431, in log_artifact\n",
      "    artifact_repo = self._get_artifact_repo(run_id)\n",
      "  File \"C:\\Users\\nguye\\anaconda3\\envs\\MGSC662\\lib\\site-packages\\mlflow\\tracking\\_tracking_service\\client.py\", line 416, in _get_artifact_repo\n",
      "    artifact_repo = get_artifact_repository(artifact_uri)\n",
      "  File \"C:\\Users\\nguye\\anaconda3\\envs\\MGSC662\\lib\\site-packages\\mlflow\\store\\artifact\\artifact_repository_registry.py\", line 106, in get_artifact_repository\n",
      "    return _artifact_repository_registry.get_artifact_repository(artifact_uri)\n",
      "  File \"C:\\Users\\nguye\\anaconda3\\envs\\MGSC662\\lib\\site-packages\\mlflow\\store\\artifact\\artifact_repository_registry.py\", line 72, in get_artifact_repository\n",
      "    return repository(artifact_uri)\n",
      "  File \"C:\\Users\\nguye\\anaconda3\\envs\\MGSC662\\lib\\site-packages\\mlflow\\store\\artifact\\mlflow_artifacts_repo.py\", line 45, in __init__\n",
      "    super().__init__(self.resolve_uri(artifact_uri, get_tracking_uri()))\n",
      "  File \"C:\\Users\\nguye\\anaconda3\\envs\\MGSC662\\lib\\site-packages\\mlflow\\store\\artifact\\mlflow_artifacts_repo.py\", line 59, in resolve_uri\n",
      "    _validate_uri_scheme(track_parse.scheme)\n",
      "  File \"C:\\Users\\nguye\\anaconda3\\envs\\MGSC662\\lib\\site-packages\\mlflow\\store\\artifact\\mlflow_artifacts_repo.py\", line 35, in _validate_uri_scheme\n",
      "    raise MlflowException(\n",
      "mlflow.exceptions.MlflowException: The configured tracking uri scheme: 'file' is invalid for use with the proxy mlflow-artifact scheme. The allowed tracking schemes are: {'https', 'http'}\n",
      "\n",
      "2023/04/23 15:53:16 WARNING mlflow.utils.autologging_utils: Encountered unexpected error during xgboost autologging: The configured tracking uri scheme: 'file' is invalid for use with the proxy mlflow-artifact scheme. The allowed tracking schemes are: {'https', 'http'}\n",
      "\n",
      "2023/04/23 15:53:21 WARNING mlflow.utils.autologging_utils: Encountered unexpected error during xgboost autologging: The configured tracking uri scheme: 'file' is invalid for use with the proxy mlflow-artifact scheme. The allowed tracking schemes are: {'https', 'http'}\n",
      "\n"
     ]
    },
    {
     "name": "stdout",
     "output_type": "stream",
     "text": [
      "\r",
      " 80%|████████  | 4/5 [02:27<00:37, 37.40s/trial, best loss: 27713948192222.22]"
     ]
    },
    {
     "name": "stderr",
     "output_type": "stream",
     "text": [
      "2023/04/23 15:53:39 ERROR mlflow.xgboost: Failed to log feature importance plot. XGBoost autologging will ignore the failure and continue. Exception: \n",
      "Traceback (most recent call last):\n",
      "  File \"C:\\Users\\nguye\\anaconda3\\envs\\MGSC662\\lib\\site-packages\\mlflow\\xgboost\\__init__.py\", line 662, in train_impl\n",
      "    log_feature_importance_plot(features, importance, imp_type)\n",
      "  File \"C:\\Users\\nguye\\anaconda3\\envs\\MGSC662\\lib\\site-packages\\mlflow\\xgboost\\__init__.py\", line 581, in log_feature_importance_plot\n",
      "    mlflow.log_artifact(filepath)\n",
      "  File \"C:\\Users\\nguye\\anaconda3\\envs\\MGSC662\\lib\\site-packages\\mlflow\\tracking\\fluent.py\", line 783, in log_artifact\n",
      "    MlflowClient().log_artifact(run_id, local_path, artifact_path)\n",
      "  File \"C:\\Users\\nguye\\anaconda3\\envs\\MGSC662\\lib\\site-packages\\mlflow\\tracking\\client.py\", line 1028, in log_artifact\n",
      "    self._tracking_client.log_artifact(run_id, local_path, artifact_path)\n",
      "  File \"C:\\Users\\nguye\\anaconda3\\envs\\MGSC662\\lib\\site-packages\\mlflow\\tracking\\_tracking_service\\client.py\", line 431, in log_artifact\n",
      "    artifact_repo = self._get_artifact_repo(run_id)\n",
      "  File \"C:\\Users\\nguye\\anaconda3\\envs\\MGSC662\\lib\\site-packages\\mlflow\\tracking\\_tracking_service\\client.py\", line 416, in _get_artifact_repo\n",
      "    artifact_repo = get_artifact_repository(artifact_uri)\n",
      "  File \"C:\\Users\\nguye\\anaconda3\\envs\\MGSC662\\lib\\site-packages\\mlflow\\store\\artifact\\artifact_repository_registry.py\", line 106, in get_artifact_repository\n",
      "    return _artifact_repository_registry.get_artifact_repository(artifact_uri)\n",
      "  File \"C:\\Users\\nguye\\anaconda3\\envs\\MGSC662\\lib\\site-packages\\mlflow\\store\\artifact\\artifact_repository_registry.py\", line 72, in get_artifact_repository\n",
      "    return repository(artifact_uri)\n",
      "  File \"C:\\Users\\nguye\\anaconda3\\envs\\MGSC662\\lib\\site-packages\\mlflow\\store\\artifact\\mlflow_artifacts_repo.py\", line 45, in __init__\n",
      "    super().__init__(self.resolve_uri(artifact_uri, get_tracking_uri()))\n",
      "  File \"C:\\Users\\nguye\\anaconda3\\envs\\MGSC662\\lib\\site-packages\\mlflow\\store\\artifact\\mlflow_artifacts_repo.py\", line 59, in resolve_uri\n",
      "    _validate_uri_scheme(track_parse.scheme)\n",
      "  File \"C:\\Users\\nguye\\anaconda3\\envs\\MGSC662\\lib\\site-packages\\mlflow\\store\\artifact\\mlflow_artifacts_repo.py\", line 35, in _validate_uri_scheme\n",
      "    raise MlflowException(\n",
      "mlflow.exceptions.MlflowException: The configured tracking uri scheme: 'file' is invalid for use with the proxy mlflow-artifact scheme. The allowed tracking schemes are: {'https', 'http'}\n",
      "\n",
      "2023/04/23 15:53:39 WARNING mlflow.utils.autologging_utils: Encountered unexpected error during xgboost autologging: The configured tracking uri scheme: 'file' is invalid for use with the proxy mlflow-artifact scheme. The allowed tracking schemes are: {'https', 'http'}\n",
      "\n",
      "2023/04/23 15:53:42 WARNING mlflow.utils.autologging_utils: Encountered unexpected error during xgboost autologging: The configured tracking uri scheme: 'file' is invalid for use with the proxy mlflow-artifact scheme. The allowed tracking schemes are: {'https', 'http'}\n",
      "\n"
     ]
    },
    {
     "name": "stdout",
     "output_type": "stream",
     "text": [
      "100%|██████████| 5/5 [03:23<00:00, 40.70s/trial, best loss: 27713948192222.22]\n"
     ]
    }
   ],
   "source": [
    "import mlflow\n",
    "import mlflow.pyfunc\n",
    "import mlflow.sklearn\n",
    "from sklearn.model_selection import cross_val_score\n",
    "from hyperopt import fmin, tpe, hp, Trials, STATUS_OK\n",
    "from hyperopt.pyll import scope\n",
    "from IPython.display import Image\n",
    "import numpy as np\n",
    "import lightgbm as lgb\n",
    "from lightgbm import LGBMModel,LGBMClassifier\n",
    "from math import exp\n",
    "import mlflow.xgboost\n",
    "import numpy as np\n",
    "import xgboost as xgb\n",
    "from sklearn.metrics import mean_squared_error\n",
    "\n",
    "search_space = {\"max_depth\":scope.int(hp.quniform(\"max_depth\",2,100,5)),\n",
    "                \"n_estimators\":scope.int(hp.quniform(\"n_estimators\",2,100,1)),\n",
    "                #\"num_leaves\": scope.int(hp.quniform(\"num_leaves\",2,50,1)),\n",
    "                \"reg_alpha\": hp.loguniform('reg_li',-5,5),\n",
    "                \"random_state\":1,\n",
    "                \"learning_rate\": hp.loguniform(\"learning_rate\", np.log(0.01), np.log(0.5)),\n",
    "                \"min_child_weight\": hp.uniform('min_child_weight', 0.5, 10),\n",
    "                #\"boosting\": hp.choice(\"boosting\",[\"gbdt\",\"dart\",\"goss\"]),\n",
    "                \"objective\":\"reg:squarederror\"\n",
    "}\n",
    "\n",
    "def train_model(parameters):\n",
    "    mlflow.xgboost.autolog()\n",
    "    with mlflow.start_run(nested=True):\n",
    "        booster = xgb.XGBRegressor()\n",
    "        booster.set_params(**parameters)\n",
    "        booster.fit(X_train_std,y_train)\n",
    "        \n",
    "        mlflow.log_params(parameters)\n",
    "        \n",
    "        score = cross_val_score(booster, X_train_std, y_train, cv=5, \n",
    "                               scoring = \"neg_mean_squared_error\",n_jobs=-1)\n",
    "        mean_score = np.mean(score)\n",
    "        \n",
    "        mlflow.log_metric('neg_mean_squared_error', mean_score)\n",
    "        \n",
    "        return{'status':STATUS_OK,\n",
    "               \"loss\":-1*mean_score,\n",
    "               'booster':booster.get_params}\n",
    "    \n",
    "with mlflow.start_run(run_name='xgboostmodel'):\n",
    "    best_params = fmin(\n",
    "        fn=train_model,\n",
    "        space=search_space,\n",
    "        algo=tpe.suggest,\n",
    "        max_evals = 5,\n",
    "        trials = Trials(),\n",
    "        rstate=np.random.default_rng(123)\n",
    "    )"
   ]
  },
  {
   "cell_type": "code",
   "execution_count": 150,
   "metadata": {},
   "outputs": [
    {
     "name": "stderr",
     "output_type": "stream",
     "text": [
      "WARNING:root:Malformed run '0254460ddee54d9c934c1923391b4d59'. Detailed error Yaml file 'C:\\Users\\nguye\\OneDrive\\Documents\\MMA\\Winter 2023\\Football_Transfermarkt\\Modelling\\mlruns\\0\\0254460ddee54d9c934c1923391b4d59\\meta.yaml' does not exist.\n",
      "Traceback (most recent call last):\n",
      "  File \"C:\\Users\\nguye\\anaconda3\\envs\\MGSC662\\lib\\site-packages\\mlflow\\store\\tracking\\file_store.py\", line 870, in _list_run_infos\n",
      "    run_info = self._get_run_info_from_dir(r_dir)\n",
      "  File \"C:\\Users\\nguye\\anaconda3\\envs\\MGSC662\\lib\\site-packages\\mlflow\\store\\tracking\\file_store.py\", line 681, in _get_run_info_from_dir\n",
      "    meta = FileStore._read_yaml(run_dir, FileStore.META_DATA_FILE_NAME)\n",
      "  File \"C:\\Users\\nguye\\anaconda3\\envs\\MGSC662\\lib\\site-packages\\mlflow\\store\\tracking\\file_store.py\", line 1096, in _read_yaml\n",
      "    return _read_helper(root, file_name, attempts_remaining=retries)\n",
      "  File \"C:\\Users\\nguye\\anaconda3\\envs\\MGSC662\\lib\\site-packages\\mlflow\\store\\tracking\\file_store.py\", line 1089, in _read_helper\n",
      "    result = read_yaml(root, file_name)\n",
      "  File \"C:\\Users\\nguye\\anaconda3\\envs\\MGSC662\\lib\\site-packages\\mlflow\\utils\\file_utils.py\", line 221, in read_yaml\n",
      "    raise MissingConfigException(\"Yaml file '%s' does not exist.\" % file_path)\n",
      "mlflow.exceptions.MissingConfigException: Yaml file 'C:\\Users\\nguye\\OneDrive\\Documents\\MMA\\Winter 2023\\Football_Transfermarkt\\Modelling\\mlruns\\0\\0254460ddee54d9c934c1923391b4d59\\meta.yaml' does not exist.\n",
      "WARNING:root:Malformed run '58f3b5b048414c93a05601d3f00d0396'. Detailed error Yaml file 'C:\\Users\\nguye\\OneDrive\\Documents\\MMA\\Winter 2023\\Football_Transfermarkt\\Modelling\\mlruns\\0\\58f3b5b048414c93a05601d3f00d0396\\meta.yaml' does not exist.\n",
      "Traceback (most recent call last):\n",
      "  File \"C:\\Users\\nguye\\anaconda3\\envs\\MGSC662\\lib\\site-packages\\mlflow\\store\\tracking\\file_store.py\", line 870, in _list_run_infos\n",
      "    run_info = self._get_run_info_from_dir(r_dir)\n",
      "  File \"C:\\Users\\nguye\\anaconda3\\envs\\MGSC662\\lib\\site-packages\\mlflow\\store\\tracking\\file_store.py\", line 681, in _get_run_info_from_dir\n",
      "    meta = FileStore._read_yaml(run_dir, FileStore.META_DATA_FILE_NAME)\n",
      "  File \"C:\\Users\\nguye\\anaconda3\\envs\\MGSC662\\lib\\site-packages\\mlflow\\store\\tracking\\file_store.py\", line 1096, in _read_yaml\n",
      "    return _read_helper(root, file_name, attempts_remaining=retries)\n",
      "  File \"C:\\Users\\nguye\\anaconda3\\envs\\MGSC662\\lib\\site-packages\\mlflow\\store\\tracking\\file_store.py\", line 1089, in _read_helper\n",
      "    result = read_yaml(root, file_name)\n",
      "  File \"C:\\Users\\nguye\\anaconda3\\envs\\MGSC662\\lib\\site-packages\\mlflow\\utils\\file_utils.py\", line 221, in read_yaml\n",
      "    raise MissingConfigException(\"Yaml file '%s' does not exist.\" % file_path)\n",
      "mlflow.exceptions.MissingConfigException: Yaml file 'C:\\Users\\nguye\\OneDrive\\Documents\\MMA\\Winter 2023\\Football_Transfermarkt\\Modelling\\mlruns\\0\\58f3b5b048414c93a05601d3f00d0396\\meta.yaml' does not exist.\n",
      "WARNING:root:Malformed run '8b8c2f9b38c547ee890df385ed87ea5e'. Detailed error Yaml file 'C:\\Users\\nguye\\OneDrive\\Documents\\MMA\\Winter 2023\\Football_Transfermarkt\\Modelling\\mlruns\\0\\8b8c2f9b38c547ee890df385ed87ea5e\\meta.yaml' does not exist.\n",
      "Traceback (most recent call last):\n",
      "  File \"C:\\Users\\nguye\\anaconda3\\envs\\MGSC662\\lib\\site-packages\\mlflow\\store\\tracking\\file_store.py\", line 870, in _list_run_infos\n",
      "    run_info = self._get_run_info_from_dir(r_dir)\n",
      "  File \"C:\\Users\\nguye\\anaconda3\\envs\\MGSC662\\lib\\site-packages\\mlflow\\store\\tracking\\file_store.py\", line 681, in _get_run_info_from_dir\n",
      "    meta = FileStore._read_yaml(run_dir, FileStore.META_DATA_FILE_NAME)\n",
      "  File \"C:\\Users\\nguye\\anaconda3\\envs\\MGSC662\\lib\\site-packages\\mlflow\\store\\tracking\\file_store.py\", line 1096, in _read_yaml\n",
      "    return _read_helper(root, file_name, attempts_remaining=retries)\n",
      "  File \"C:\\Users\\nguye\\anaconda3\\envs\\MGSC662\\lib\\site-packages\\mlflow\\store\\tracking\\file_store.py\", line 1089, in _read_helper\n",
      "    result = read_yaml(root, file_name)\n",
      "  File \"C:\\Users\\nguye\\anaconda3\\envs\\MGSC662\\lib\\site-packages\\mlflow\\utils\\file_utils.py\", line 221, in read_yaml\n",
      "    raise MissingConfigException(\"Yaml file '%s' does not exist.\" % file_path)\n",
      "mlflow.exceptions.MissingConfigException: Yaml file 'C:\\Users\\nguye\\OneDrive\\Documents\\MMA\\Winter 2023\\Football_Transfermarkt\\Modelling\\mlruns\\0\\8b8c2f9b38c547ee890df385ed87ea5e\\meta.yaml' does not exist.\n",
      "WARNING:root:Malformed run '8ca91bfed2ff464998c2cc9f457b59cf'. Detailed error Yaml file 'C:\\Users\\nguye\\OneDrive\\Documents\\MMA\\Winter 2023\\Football_Transfermarkt\\Modelling\\mlruns\\0\\8ca91bfed2ff464998c2cc9f457b59cf\\meta.yaml' does not exist.\n",
      "Traceback (most recent call last):\n",
      "  File \"C:\\Users\\nguye\\anaconda3\\envs\\MGSC662\\lib\\site-packages\\mlflow\\store\\tracking\\file_store.py\", line 870, in _list_run_infos\n",
      "    run_info = self._get_run_info_from_dir(r_dir)\n",
      "  File \"C:\\Users\\nguye\\anaconda3\\envs\\MGSC662\\lib\\site-packages\\mlflow\\store\\tracking\\file_store.py\", line 681, in _get_run_info_from_dir\n",
      "    meta = FileStore._read_yaml(run_dir, FileStore.META_DATA_FILE_NAME)\n",
      "  File \"C:\\Users\\nguye\\anaconda3\\envs\\MGSC662\\lib\\site-packages\\mlflow\\store\\tracking\\file_store.py\", line 1096, in _read_yaml\n",
      "    return _read_helper(root, file_name, attempts_remaining=retries)\n",
      "  File \"C:\\Users\\nguye\\anaconda3\\envs\\MGSC662\\lib\\site-packages\\mlflow\\store\\tracking\\file_store.py\", line 1089, in _read_helper\n",
      "    result = read_yaml(root, file_name)\n",
      "  File \"C:\\Users\\nguye\\anaconda3\\envs\\MGSC662\\lib\\site-packages\\mlflow\\utils\\file_utils.py\", line 221, in read_yaml\n",
      "    raise MissingConfigException(\"Yaml file '%s' does not exist.\" % file_path)\n",
      "mlflow.exceptions.MissingConfigException: Yaml file 'C:\\Users\\nguye\\OneDrive\\Documents\\MMA\\Winter 2023\\Football_Transfermarkt\\Modelling\\mlruns\\0\\8ca91bfed2ff464998c2cc9f457b59cf\\meta.yaml' does not exist.\n",
      "WARNING:root:Malformed run '939e7efed16645b18f756c0f9e537598'. Detailed error Yaml file 'C:\\Users\\nguye\\OneDrive\\Documents\\MMA\\Winter 2023\\Football_Transfermarkt\\Modelling\\mlruns\\0\\939e7efed16645b18f756c0f9e537598\\meta.yaml' does not exist.\n",
      "Traceback (most recent call last):\n",
      "  File \"C:\\Users\\nguye\\anaconda3\\envs\\MGSC662\\lib\\site-packages\\mlflow\\store\\tracking\\file_store.py\", line 870, in _list_run_infos\n",
      "    run_info = self._get_run_info_from_dir(r_dir)\n",
      "  File \"C:\\Users\\nguye\\anaconda3\\envs\\MGSC662\\lib\\site-packages\\mlflow\\store\\tracking\\file_store.py\", line 681, in _get_run_info_from_dir\n",
      "    meta = FileStore._read_yaml(run_dir, FileStore.META_DATA_FILE_NAME)\n",
      "  File \"C:\\Users\\nguye\\anaconda3\\envs\\MGSC662\\lib\\site-packages\\mlflow\\store\\tracking\\file_store.py\", line 1096, in _read_yaml\n",
      "    return _read_helper(root, file_name, attempts_remaining=retries)\n",
      "  File \"C:\\Users\\nguye\\anaconda3\\envs\\MGSC662\\lib\\site-packages\\mlflow\\store\\tracking\\file_store.py\", line 1089, in _read_helper\n",
      "    result = read_yaml(root, file_name)\n",
      "  File \"C:\\Users\\nguye\\anaconda3\\envs\\MGSC662\\lib\\site-packages\\mlflow\\utils\\file_utils.py\", line 221, in read_yaml\n",
      "    raise MissingConfigException(\"Yaml file '%s' does not exist.\" % file_path)\n",
      "mlflow.exceptions.MissingConfigException: Yaml file 'C:\\Users\\nguye\\OneDrive\\Documents\\MMA\\Winter 2023\\Football_Transfermarkt\\Modelling\\mlruns\\0\\939e7efed16645b18f756c0f9e537598\\meta.yaml' does not exist.\n",
      "WARNING:root:Malformed run 'b17dcc44a94342b997f167e574d6b972'. Detailed error Yaml file 'C:\\Users\\nguye\\OneDrive\\Documents\\MMA\\Winter 2023\\Football_Transfermarkt\\Modelling\\mlruns\\0\\b17dcc44a94342b997f167e574d6b972\\meta.yaml' does not exist.\n",
      "Traceback (most recent call last):\n",
      "  File \"C:\\Users\\nguye\\anaconda3\\envs\\MGSC662\\lib\\site-packages\\mlflow\\store\\tracking\\file_store.py\", line 870, in _list_run_infos\n",
      "    run_info = self._get_run_info_from_dir(r_dir)\n",
      "  File \"C:\\Users\\nguye\\anaconda3\\envs\\MGSC662\\lib\\site-packages\\mlflow\\store\\tracking\\file_store.py\", line 681, in _get_run_info_from_dir\n",
      "    meta = FileStore._read_yaml(run_dir, FileStore.META_DATA_FILE_NAME)\n",
      "  File \"C:\\Users\\nguye\\anaconda3\\envs\\MGSC662\\lib\\site-packages\\mlflow\\store\\tracking\\file_store.py\", line 1096, in _read_yaml\n",
      "    return _read_helper(root, file_name, attempts_remaining=retries)\n",
      "  File \"C:\\Users\\nguye\\anaconda3\\envs\\MGSC662\\lib\\site-packages\\mlflow\\store\\tracking\\file_store.py\", line 1089, in _read_helper\n",
      "    result = read_yaml(root, file_name)\n",
      "  File \"C:\\Users\\nguye\\anaconda3\\envs\\MGSC662\\lib\\site-packages\\mlflow\\utils\\file_utils.py\", line 221, in read_yaml\n",
      "    raise MissingConfigException(\"Yaml file '%s' does not exist.\" % file_path)\n",
      "mlflow.exceptions.MissingConfigException: Yaml file 'C:\\Users\\nguye\\OneDrive\\Documents\\MMA\\Winter 2023\\Football_Transfermarkt\\Modelling\\mlruns\\0\\b17dcc44a94342b997f167e574d6b972\\meta.yaml' does not exist.\n"
     ]
    },
    {
     "name": "stderr",
     "output_type": "stream",
     "text": [
      "WARNING:root:Malformed run 'f3fc819b97ce49d9b0571411b83101df'. Detailed error Yaml file 'C:\\Users\\nguye\\OneDrive\\Documents\\MMA\\Winter 2023\\Football_Transfermarkt\\Modelling\\mlruns\\0\\f3fc819b97ce49d9b0571411b83101df\\meta.yaml' does not exist.\n",
      "Traceback (most recent call last):\n",
      "  File \"C:\\Users\\nguye\\anaconda3\\envs\\MGSC662\\lib\\site-packages\\mlflow\\store\\tracking\\file_store.py\", line 870, in _list_run_infos\n",
      "    run_info = self._get_run_info_from_dir(r_dir)\n",
      "  File \"C:\\Users\\nguye\\anaconda3\\envs\\MGSC662\\lib\\site-packages\\mlflow\\store\\tracking\\file_store.py\", line 681, in _get_run_info_from_dir\n",
      "    meta = FileStore._read_yaml(run_dir, FileStore.META_DATA_FILE_NAME)\n",
      "  File \"C:\\Users\\nguye\\anaconda3\\envs\\MGSC662\\lib\\site-packages\\mlflow\\store\\tracking\\file_store.py\", line 1096, in _read_yaml\n",
      "    return _read_helper(root, file_name, attempts_remaining=retries)\n",
      "  File \"C:\\Users\\nguye\\anaconda3\\envs\\MGSC662\\lib\\site-packages\\mlflow\\store\\tracking\\file_store.py\", line 1089, in _read_helper\n",
      "    result = read_yaml(root, file_name)\n",
      "  File \"C:\\Users\\nguye\\anaconda3\\envs\\MGSC662\\lib\\site-packages\\mlflow\\utils\\file_utils.py\", line 221, in read_yaml\n",
      "    raise MissingConfigException(\"Yaml file '%s' does not exist.\" % file_path)\n",
      "mlflow.exceptions.MissingConfigException: Yaml file 'C:\\Users\\nguye\\OneDrive\\Documents\\MMA\\Winter 2023\\Football_Transfermarkt\\Modelling\\mlruns\\0\\f3fc819b97ce49d9b0571411b83101df\\meta.yaml' does not exist.\n"
     ]
    }
   ],
   "source": [
    "# Set the name of the MLflow run\n",
    "run_name = \"xgboostmodel\"\n",
    "\n",
    "# Search for the run in the MLflow tracking server\n",
    "runs = mlflow.search_runs(filter_string=f\"run_name='{run_name}'\")"
   ]
  },
  {
   "cell_type": "code",
   "execution_count": 149,
   "metadata": {},
   "outputs": [
    {
     "name": "stderr",
     "output_type": "stream",
     "text": [
      "WARNING:root:Malformed run '0254460ddee54d9c934c1923391b4d59'. Detailed error Yaml file 'C:\\Users\\nguye\\OneDrive\\Documents\\MMA\\Winter 2023\\Football_Transfermarkt\\Modelling\\mlruns\\0\\0254460ddee54d9c934c1923391b4d59\\meta.yaml' does not exist.\n",
      "Traceback (most recent call last):\n",
      "  File \"C:\\Users\\nguye\\anaconda3\\envs\\MGSC662\\lib\\site-packages\\mlflow\\store\\tracking\\file_store.py\", line 870, in _list_run_infos\n",
      "    run_info = self._get_run_info_from_dir(r_dir)\n",
      "  File \"C:\\Users\\nguye\\anaconda3\\envs\\MGSC662\\lib\\site-packages\\mlflow\\store\\tracking\\file_store.py\", line 681, in _get_run_info_from_dir\n",
      "    meta = FileStore._read_yaml(run_dir, FileStore.META_DATA_FILE_NAME)\n",
      "  File \"C:\\Users\\nguye\\anaconda3\\envs\\MGSC662\\lib\\site-packages\\mlflow\\store\\tracking\\file_store.py\", line 1096, in _read_yaml\n",
      "    return _read_helper(root, file_name, attempts_remaining=retries)\n",
      "  File \"C:\\Users\\nguye\\anaconda3\\envs\\MGSC662\\lib\\site-packages\\mlflow\\store\\tracking\\file_store.py\", line 1089, in _read_helper\n",
      "    result = read_yaml(root, file_name)\n",
      "  File \"C:\\Users\\nguye\\anaconda3\\envs\\MGSC662\\lib\\site-packages\\mlflow\\utils\\file_utils.py\", line 221, in read_yaml\n",
      "    raise MissingConfigException(\"Yaml file '%s' does not exist.\" % file_path)\n",
      "mlflow.exceptions.MissingConfigException: Yaml file 'C:\\Users\\nguye\\OneDrive\\Documents\\MMA\\Winter 2023\\Football_Transfermarkt\\Modelling\\mlruns\\0\\0254460ddee54d9c934c1923391b4d59\\meta.yaml' does not exist.\n",
      "WARNING:root:Malformed run '58f3b5b048414c93a05601d3f00d0396'. Detailed error Yaml file 'C:\\Users\\nguye\\OneDrive\\Documents\\MMA\\Winter 2023\\Football_Transfermarkt\\Modelling\\mlruns\\0\\58f3b5b048414c93a05601d3f00d0396\\meta.yaml' does not exist.\n",
      "Traceback (most recent call last):\n",
      "  File \"C:\\Users\\nguye\\anaconda3\\envs\\MGSC662\\lib\\site-packages\\mlflow\\store\\tracking\\file_store.py\", line 870, in _list_run_infos\n",
      "    run_info = self._get_run_info_from_dir(r_dir)\n",
      "  File \"C:\\Users\\nguye\\anaconda3\\envs\\MGSC662\\lib\\site-packages\\mlflow\\store\\tracking\\file_store.py\", line 681, in _get_run_info_from_dir\n",
      "    meta = FileStore._read_yaml(run_dir, FileStore.META_DATA_FILE_NAME)\n",
      "  File \"C:\\Users\\nguye\\anaconda3\\envs\\MGSC662\\lib\\site-packages\\mlflow\\store\\tracking\\file_store.py\", line 1096, in _read_yaml\n",
      "    return _read_helper(root, file_name, attempts_remaining=retries)\n",
      "  File \"C:\\Users\\nguye\\anaconda3\\envs\\MGSC662\\lib\\site-packages\\mlflow\\store\\tracking\\file_store.py\", line 1089, in _read_helper\n",
      "    result = read_yaml(root, file_name)\n",
      "  File \"C:\\Users\\nguye\\anaconda3\\envs\\MGSC662\\lib\\site-packages\\mlflow\\utils\\file_utils.py\", line 221, in read_yaml\n",
      "    raise MissingConfigException(\"Yaml file '%s' does not exist.\" % file_path)\n",
      "mlflow.exceptions.MissingConfigException: Yaml file 'C:\\Users\\nguye\\OneDrive\\Documents\\MMA\\Winter 2023\\Football_Transfermarkt\\Modelling\\mlruns\\0\\58f3b5b048414c93a05601d3f00d0396\\meta.yaml' does not exist.\n",
      "WARNING:root:Malformed run '8b8c2f9b38c547ee890df385ed87ea5e'. Detailed error Yaml file 'C:\\Users\\nguye\\OneDrive\\Documents\\MMA\\Winter 2023\\Football_Transfermarkt\\Modelling\\mlruns\\0\\8b8c2f9b38c547ee890df385ed87ea5e\\meta.yaml' does not exist.\n",
      "Traceback (most recent call last):\n",
      "  File \"C:\\Users\\nguye\\anaconda3\\envs\\MGSC662\\lib\\site-packages\\mlflow\\store\\tracking\\file_store.py\", line 870, in _list_run_infos\n",
      "    run_info = self._get_run_info_from_dir(r_dir)\n",
      "  File \"C:\\Users\\nguye\\anaconda3\\envs\\MGSC662\\lib\\site-packages\\mlflow\\store\\tracking\\file_store.py\", line 681, in _get_run_info_from_dir\n",
      "    meta = FileStore._read_yaml(run_dir, FileStore.META_DATA_FILE_NAME)\n",
      "  File \"C:\\Users\\nguye\\anaconda3\\envs\\MGSC662\\lib\\site-packages\\mlflow\\store\\tracking\\file_store.py\", line 1096, in _read_yaml\n",
      "    return _read_helper(root, file_name, attempts_remaining=retries)\n",
      "  File \"C:\\Users\\nguye\\anaconda3\\envs\\MGSC662\\lib\\site-packages\\mlflow\\store\\tracking\\file_store.py\", line 1089, in _read_helper\n",
      "    result = read_yaml(root, file_name)\n",
      "  File \"C:\\Users\\nguye\\anaconda3\\envs\\MGSC662\\lib\\site-packages\\mlflow\\utils\\file_utils.py\", line 221, in read_yaml\n",
      "    raise MissingConfigException(\"Yaml file '%s' does not exist.\" % file_path)\n",
      "mlflow.exceptions.MissingConfigException: Yaml file 'C:\\Users\\nguye\\OneDrive\\Documents\\MMA\\Winter 2023\\Football_Transfermarkt\\Modelling\\mlruns\\0\\8b8c2f9b38c547ee890df385ed87ea5e\\meta.yaml' does not exist.\n",
      "WARNING:root:Malformed run '8ca91bfed2ff464998c2cc9f457b59cf'. Detailed error Yaml file 'C:\\Users\\nguye\\OneDrive\\Documents\\MMA\\Winter 2023\\Football_Transfermarkt\\Modelling\\mlruns\\0\\8ca91bfed2ff464998c2cc9f457b59cf\\meta.yaml' does not exist.\n",
      "Traceback (most recent call last):\n",
      "  File \"C:\\Users\\nguye\\anaconda3\\envs\\MGSC662\\lib\\site-packages\\mlflow\\store\\tracking\\file_store.py\", line 870, in _list_run_infos\n",
      "    run_info = self._get_run_info_from_dir(r_dir)\n",
      "  File \"C:\\Users\\nguye\\anaconda3\\envs\\MGSC662\\lib\\site-packages\\mlflow\\store\\tracking\\file_store.py\", line 681, in _get_run_info_from_dir\n",
      "    meta = FileStore._read_yaml(run_dir, FileStore.META_DATA_FILE_NAME)\n",
      "  File \"C:\\Users\\nguye\\anaconda3\\envs\\MGSC662\\lib\\site-packages\\mlflow\\store\\tracking\\file_store.py\", line 1096, in _read_yaml\n",
      "    return _read_helper(root, file_name, attempts_remaining=retries)\n",
      "  File \"C:\\Users\\nguye\\anaconda3\\envs\\MGSC662\\lib\\site-packages\\mlflow\\store\\tracking\\file_store.py\", line 1089, in _read_helper\n",
      "    result = read_yaml(root, file_name)\n",
      "  File \"C:\\Users\\nguye\\anaconda3\\envs\\MGSC662\\lib\\site-packages\\mlflow\\utils\\file_utils.py\", line 221, in read_yaml\n",
      "    raise MissingConfigException(\"Yaml file '%s' does not exist.\" % file_path)\n",
      "mlflow.exceptions.MissingConfigException: Yaml file 'C:\\Users\\nguye\\OneDrive\\Documents\\MMA\\Winter 2023\\Football_Transfermarkt\\Modelling\\mlruns\\0\\8ca91bfed2ff464998c2cc9f457b59cf\\meta.yaml' does not exist.\n",
      "WARNING:root:Malformed run '939e7efed16645b18f756c0f9e537598'. Detailed error Yaml file 'C:\\Users\\nguye\\OneDrive\\Documents\\MMA\\Winter 2023\\Football_Transfermarkt\\Modelling\\mlruns\\0\\939e7efed16645b18f756c0f9e537598\\meta.yaml' does not exist.\n",
      "Traceback (most recent call last):\n",
      "  File \"C:\\Users\\nguye\\anaconda3\\envs\\MGSC662\\lib\\site-packages\\mlflow\\store\\tracking\\file_store.py\", line 870, in _list_run_infos\n",
      "    run_info = self._get_run_info_from_dir(r_dir)\n",
      "  File \"C:\\Users\\nguye\\anaconda3\\envs\\MGSC662\\lib\\site-packages\\mlflow\\store\\tracking\\file_store.py\", line 681, in _get_run_info_from_dir\n",
      "    meta = FileStore._read_yaml(run_dir, FileStore.META_DATA_FILE_NAME)\n",
      "  File \"C:\\Users\\nguye\\anaconda3\\envs\\MGSC662\\lib\\site-packages\\mlflow\\store\\tracking\\file_store.py\", line 1096, in _read_yaml\n",
      "    return _read_helper(root, file_name, attempts_remaining=retries)\n",
      "  File \"C:\\Users\\nguye\\anaconda3\\envs\\MGSC662\\lib\\site-packages\\mlflow\\store\\tracking\\file_store.py\", line 1089, in _read_helper\n",
      "    result = read_yaml(root, file_name)\n",
      "  File \"C:\\Users\\nguye\\anaconda3\\envs\\MGSC662\\lib\\site-packages\\mlflow\\utils\\file_utils.py\", line 221, in read_yaml\n",
      "    raise MissingConfigException(\"Yaml file '%s' does not exist.\" % file_path)\n",
      "mlflow.exceptions.MissingConfigException: Yaml file 'C:\\Users\\nguye\\OneDrive\\Documents\\MMA\\Winter 2023\\Football_Transfermarkt\\Modelling\\mlruns\\0\\939e7efed16645b18f756c0f9e537598\\meta.yaml' does not exist.\n",
      "WARNING:root:Malformed run 'b17dcc44a94342b997f167e574d6b972'. Detailed error Yaml file 'C:\\Users\\nguye\\OneDrive\\Documents\\MMA\\Winter 2023\\Football_Transfermarkt\\Modelling\\mlruns\\0\\b17dcc44a94342b997f167e574d6b972\\meta.yaml' does not exist.\n",
      "Traceback (most recent call last):\n",
      "  File \"C:\\Users\\nguye\\anaconda3\\envs\\MGSC662\\lib\\site-packages\\mlflow\\store\\tracking\\file_store.py\", line 870, in _list_run_infos\n",
      "    run_info = self._get_run_info_from_dir(r_dir)\n",
      "  File \"C:\\Users\\nguye\\anaconda3\\envs\\MGSC662\\lib\\site-packages\\mlflow\\store\\tracking\\file_store.py\", line 681, in _get_run_info_from_dir\n",
      "    meta = FileStore._read_yaml(run_dir, FileStore.META_DATA_FILE_NAME)\n",
      "  File \"C:\\Users\\nguye\\anaconda3\\envs\\MGSC662\\lib\\site-packages\\mlflow\\store\\tracking\\file_store.py\", line 1096, in _read_yaml\n",
      "    return _read_helper(root, file_name, attempts_remaining=retries)\n",
      "  File \"C:\\Users\\nguye\\anaconda3\\envs\\MGSC662\\lib\\site-packages\\mlflow\\store\\tracking\\file_store.py\", line 1089, in _read_helper\n",
      "    result = read_yaml(root, file_name)\n",
      "  File \"C:\\Users\\nguye\\anaconda3\\envs\\MGSC662\\lib\\site-packages\\mlflow\\utils\\file_utils.py\", line 221, in read_yaml\n",
      "    raise MissingConfigException(\"Yaml file '%s' does not exist.\" % file_path)\n",
      "mlflow.exceptions.MissingConfigException: Yaml file 'C:\\Users\\nguye\\OneDrive\\Documents\\MMA\\Winter 2023\\Football_Transfermarkt\\Modelling\\mlruns\\0\\b17dcc44a94342b997f167e574d6b972\\meta.yaml' does not exist.\n"
     ]
    },
    {
     "name": "stderr",
     "output_type": "stream",
     "text": [
      "WARNING:root:Malformed run 'f3fc819b97ce49d9b0571411b83101df'. Detailed error Yaml file 'C:\\Users\\nguye\\OneDrive\\Documents\\MMA\\Winter 2023\\Football_Transfermarkt\\Modelling\\mlruns\\0\\f3fc819b97ce49d9b0571411b83101df\\meta.yaml' does not exist.\n",
      "Traceback (most recent call last):\n",
      "  File \"C:\\Users\\nguye\\anaconda3\\envs\\MGSC662\\lib\\site-packages\\mlflow\\store\\tracking\\file_store.py\", line 870, in _list_run_infos\n",
      "    run_info = self._get_run_info_from_dir(r_dir)\n",
      "  File \"C:\\Users\\nguye\\anaconda3\\envs\\MGSC662\\lib\\site-packages\\mlflow\\store\\tracking\\file_store.py\", line 681, in _get_run_info_from_dir\n",
      "    meta = FileStore._read_yaml(run_dir, FileStore.META_DATA_FILE_NAME)\n",
      "  File \"C:\\Users\\nguye\\anaconda3\\envs\\MGSC662\\lib\\site-packages\\mlflow\\store\\tracking\\file_store.py\", line 1096, in _read_yaml\n",
      "    return _read_helper(root, file_name, attempts_remaining=retries)\n",
      "  File \"C:\\Users\\nguye\\anaconda3\\envs\\MGSC662\\lib\\site-packages\\mlflow\\store\\tracking\\file_store.py\", line 1089, in _read_helper\n",
      "    result = read_yaml(root, file_name)\n",
      "  File \"C:\\Users\\nguye\\anaconda3\\envs\\MGSC662\\lib\\site-packages\\mlflow\\utils\\file_utils.py\", line 221, in read_yaml\n",
      "    raise MissingConfigException(\"Yaml file '%s' does not exist.\" % file_path)\n",
      "mlflow.exceptions.MissingConfigException: Yaml file 'C:\\Users\\nguye\\OneDrive\\Documents\\MMA\\Winter 2023\\Football_Transfermarkt\\Modelling\\mlruns\\0\\f3fc819b97ce49d9b0571411b83101df\\meta.yaml' does not exist.\n"
     ]
    },
    {
     "ename": "KeyError",
     "evalue": "'metrics.neg_mean_squared_error'",
     "output_type": "error",
     "traceback": [
      "\u001b[1;31m---------------------------------------------------------------------------\u001b[0m",
      "\u001b[1;31mKeyError\u001b[0m                                  Traceback (most recent call last)",
      "\u001b[1;32m~\\anaconda3\\envs\\MGSC662\\lib\\site-packages\\pandas\\core\\indexes\\base.py\u001b[0m in \u001b[0;36mget_loc\u001b[1;34m(self, key, method, tolerance)\u001b[0m\n\u001b[0;32m   3628\u001b[0m             \u001b[1;32mtry\u001b[0m\u001b[1;33m:\u001b[0m\u001b[1;33m\u001b[0m\u001b[1;33m\u001b[0m\u001b[0m\n\u001b[1;32m-> 3629\u001b[1;33m                 \u001b[1;32mreturn\u001b[0m \u001b[0mself\u001b[0m\u001b[1;33m.\u001b[0m\u001b[0m_engine\u001b[0m\u001b[1;33m.\u001b[0m\u001b[0mget_loc\u001b[0m\u001b[1;33m(\u001b[0m\u001b[0mcasted_key\u001b[0m\u001b[1;33m)\u001b[0m\u001b[1;33m\u001b[0m\u001b[1;33m\u001b[0m\u001b[0m\n\u001b[0m\u001b[0;32m   3630\u001b[0m             \u001b[1;32mexcept\u001b[0m \u001b[0mKeyError\u001b[0m \u001b[1;32mas\u001b[0m \u001b[0merr\u001b[0m\u001b[1;33m:\u001b[0m\u001b[1;33m\u001b[0m\u001b[1;33m\u001b[0m\u001b[0m\n",
      "\u001b[1;32m~\\anaconda3\\envs\\MGSC662\\lib\\site-packages\\pandas\\_libs\\index.pyx\u001b[0m in \u001b[0;36mpandas._libs.index.IndexEngine.get_loc\u001b[1;34m()\u001b[0m\n",
      "\u001b[1;32m~\\anaconda3\\envs\\MGSC662\\lib\\site-packages\\pandas\\_libs\\index.pyx\u001b[0m in \u001b[0;36mpandas._libs.index.IndexEngine.get_loc\u001b[1;34m()\u001b[0m\n",
      "\u001b[1;32mpandas\\_libs\\hashtable_class_helper.pxi\u001b[0m in \u001b[0;36mpandas._libs.hashtable.PyObjectHashTable.get_item\u001b[1;34m()\u001b[0m\n",
      "\u001b[1;32mpandas\\_libs\\hashtable_class_helper.pxi\u001b[0m in \u001b[0;36mpandas._libs.hashtable.PyObjectHashTable.get_item\u001b[1;34m()\u001b[0m\n",
      "\u001b[1;31mKeyError\u001b[0m: 'metrics.neg_mean_squared_error'",
      "\nThe above exception was the direct cause of the following exception:\n",
      "\u001b[1;31mKeyError\u001b[0m                                  Traceback (most recent call last)",
      "\u001b[1;32m~\\AppData\\Local\\Temp\\ipykernel_32776\\931294962.py\u001b[0m in \u001b[0;36m<module>\u001b[1;34m\u001b[0m\n\u001b[0;32m      6\u001b[0m \u001b[1;33m\u001b[0m\u001b[0m\n\u001b[0;32m      7\u001b[0m \u001b[1;31m# Retrieve the best run based on the lowest negative MSE score\u001b[0m\u001b[1;33m\u001b[0m\u001b[1;33m\u001b[0m\u001b[0m\n\u001b[1;32m----> 8\u001b[1;33m \u001b[0mbest_run\u001b[0m \u001b[1;33m=\u001b[0m \u001b[0mruns\u001b[0m\u001b[1;33m.\u001b[0m\u001b[0mloc\u001b[0m\u001b[1;33m[\u001b[0m\u001b[0mruns\u001b[0m\u001b[1;33m[\u001b[0m\u001b[1;34m'metrics.neg_mean_squared_error'\u001b[0m\u001b[1;33m]\u001b[0m\u001b[1;33m.\u001b[0m\u001b[0midxmin\u001b[0m\u001b[1;33m(\u001b[0m\u001b[1;33m)\u001b[0m\u001b[1;33m]\u001b[0m\u001b[1;33m\u001b[0m\u001b[1;33m\u001b[0m\u001b[0m\n\u001b[0m\u001b[0;32m      9\u001b[0m \u001b[1;33m\u001b[0m\u001b[0m\n\u001b[0;32m     10\u001b[0m \u001b[1;31m# Retrieve the best hyperparameters from the MLflow run\u001b[0m\u001b[1;33m\u001b[0m\u001b[1;33m\u001b[0m\u001b[0m\n",
      "\u001b[1;32m~\\anaconda3\\envs\\MGSC662\\lib\\site-packages\\pandas\\core\\frame.py\u001b[0m in \u001b[0;36m__getitem__\u001b[1;34m(self, key)\u001b[0m\n\u001b[0;32m   3503\u001b[0m             \u001b[1;32mif\u001b[0m \u001b[0mself\u001b[0m\u001b[1;33m.\u001b[0m\u001b[0mcolumns\u001b[0m\u001b[1;33m.\u001b[0m\u001b[0mnlevels\u001b[0m \u001b[1;33m>\u001b[0m \u001b[1;36m1\u001b[0m\u001b[1;33m:\u001b[0m\u001b[1;33m\u001b[0m\u001b[1;33m\u001b[0m\u001b[0m\n\u001b[0;32m   3504\u001b[0m                 \u001b[1;32mreturn\u001b[0m \u001b[0mself\u001b[0m\u001b[1;33m.\u001b[0m\u001b[0m_getitem_multilevel\u001b[0m\u001b[1;33m(\u001b[0m\u001b[0mkey\u001b[0m\u001b[1;33m)\u001b[0m\u001b[1;33m\u001b[0m\u001b[1;33m\u001b[0m\u001b[0m\n\u001b[1;32m-> 3505\u001b[1;33m             \u001b[0mindexer\u001b[0m \u001b[1;33m=\u001b[0m \u001b[0mself\u001b[0m\u001b[1;33m.\u001b[0m\u001b[0mcolumns\u001b[0m\u001b[1;33m.\u001b[0m\u001b[0mget_loc\u001b[0m\u001b[1;33m(\u001b[0m\u001b[0mkey\u001b[0m\u001b[1;33m)\u001b[0m\u001b[1;33m\u001b[0m\u001b[1;33m\u001b[0m\u001b[0m\n\u001b[0m\u001b[0;32m   3506\u001b[0m             \u001b[1;32mif\u001b[0m \u001b[0mis_integer\u001b[0m\u001b[1;33m(\u001b[0m\u001b[0mindexer\u001b[0m\u001b[1;33m)\u001b[0m\u001b[1;33m:\u001b[0m\u001b[1;33m\u001b[0m\u001b[1;33m\u001b[0m\u001b[0m\n\u001b[0;32m   3507\u001b[0m                 \u001b[0mindexer\u001b[0m \u001b[1;33m=\u001b[0m \u001b[1;33m[\u001b[0m\u001b[0mindexer\u001b[0m\u001b[1;33m]\u001b[0m\u001b[1;33m\u001b[0m\u001b[1;33m\u001b[0m\u001b[0m\n",
      "\u001b[1;32m~\\anaconda3\\envs\\MGSC662\\lib\\site-packages\\pandas\\core\\indexes\\base.py\u001b[0m in \u001b[0;36mget_loc\u001b[1;34m(self, key, method, tolerance)\u001b[0m\n\u001b[0;32m   3629\u001b[0m                 \u001b[1;32mreturn\u001b[0m \u001b[0mself\u001b[0m\u001b[1;33m.\u001b[0m\u001b[0m_engine\u001b[0m\u001b[1;33m.\u001b[0m\u001b[0mget_loc\u001b[0m\u001b[1;33m(\u001b[0m\u001b[0mcasted_key\u001b[0m\u001b[1;33m)\u001b[0m\u001b[1;33m\u001b[0m\u001b[1;33m\u001b[0m\u001b[0m\n\u001b[0;32m   3630\u001b[0m             \u001b[1;32mexcept\u001b[0m \u001b[0mKeyError\u001b[0m \u001b[1;32mas\u001b[0m \u001b[0merr\u001b[0m\u001b[1;33m:\u001b[0m\u001b[1;33m\u001b[0m\u001b[1;33m\u001b[0m\u001b[0m\n\u001b[1;32m-> 3631\u001b[1;33m                 \u001b[1;32mraise\u001b[0m \u001b[0mKeyError\u001b[0m\u001b[1;33m(\u001b[0m\u001b[0mkey\u001b[0m\u001b[1;33m)\u001b[0m \u001b[1;32mfrom\u001b[0m \u001b[0merr\u001b[0m\u001b[1;33m\u001b[0m\u001b[1;33m\u001b[0m\u001b[0m\n\u001b[0m\u001b[0;32m   3632\u001b[0m             \u001b[1;32mexcept\u001b[0m \u001b[0mTypeError\u001b[0m\u001b[1;33m:\u001b[0m\u001b[1;33m\u001b[0m\u001b[1;33m\u001b[0m\u001b[0m\n\u001b[0;32m   3633\u001b[0m                 \u001b[1;31m# If we have a listlike key, _check_indexing_error will raise\u001b[0m\u001b[1;33m\u001b[0m\u001b[1;33m\u001b[0m\u001b[0m\n",
      "\u001b[1;31mKeyError\u001b[0m: 'metrics.neg_mean_squared_error'"
     ]
    }
   ],
   "source": [
    "\n",
    "\n",
    "# Retrieve the best run based on the lowest negative MSE score\n",
    "best_run = runs.loc[runs['metrics.neg_mean_squared_error'].idxmin()]\n",
    "\n",
    "# Retrieve the best hyperparameters from the MLflow run\n",
    "best_params = eval(best_run.data.params)\n",
    "\n",
    "# Retrieve the negative MSE score for the best hyperparameters\n",
    "best_neg_mse = best_run.data.metrics['neg_mean_squared_error']\n",
    "\n",
    "# Output the best hyperparameters and their negative MSE score\n",
    "print(\"Best Hyperparameters:\", best_params)\n",
    "print(\"Negative Mean Squared Error:\", np.abs(best_neg_mse))"
   ]
  }
 ],
 "metadata": {
  "kernelspec": {
   "display_name": "Python 3 (ipykernel)",
   "language": "python",
   "name": "python3"
  },
  "language_info": {
   "codemirror_mode": {
    "name": "ipython",
    "version": 3
   },
   "file_extension": ".py",
   "mimetype": "text/x-python",
   "name": "python",
   "nbconvert_exporter": "python",
   "pygments_lexer": "ipython3",
   "version": "3.9.13"
  },
  "nav_menu": {
   "height": "279px",
   "width": "309px"
  },
  "toc": {
   "nav_menu": {},
   "number_sections": true,
   "sideBar": true,
   "skip_h1_title": false,
   "toc_cell": false,
   "toc_position": {},
   "toc_section_display": "block",
   "toc_window_display": false
  }
 },
 "nbformat": 4,
 "nbformat_minor": 4
}
